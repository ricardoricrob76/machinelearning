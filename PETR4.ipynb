{
 "cells": [
  {
   "cell_type": "markdown",
   "metadata": {},
   "source": [
    "# Bolsa de valores"
   ]
  },
  {
   "cell_type": "markdown",
   "metadata": {},
   "source": [
    "Prevendo o volume de ações utilizando o modelo Random Forest Regressor"
   ]
  },
  {
   "cell_type": "markdown",
   "metadata": {},
   "source": [
    "* Utilizaremos dados do Yahoo Finance da PETR4 num intervalo de tempo específico"
   ]
  },
  {
   "cell_type": "markdown",
   "metadata": {},
   "source": [
    "* Dados serão obtido através da biblioteca Pandas DataReader"
   ]
  },
  {
   "cell_type": "markdown",
   "metadata": {},
   "source": [
    "Importando bibliotecas"
   ]
  },
  {
   "cell_type": "code",
   "execution_count": 3,
   "metadata": {},
   "outputs": [
    {
     "name": "stdout",
     "output_type": "stream",
     "text": [
      "Collecting pandas_datareader\n",
      "  Downloading pandas_datareader-0.10.0-py3-none-any.whl (109 kB)\n",
      "Requirement already satisfied: requests>=2.19.0 in c:\\users\\ricardo.rlima\\anaconda3\\lib\\site-packages (from pandas_datareader) (2.24.0)\n",
      "Requirement already satisfied: pandas>=0.23 in c:\\users\\ricardo.rlima\\anaconda3\\lib\\site-packages (from pandas_datareader) (1.0.5)\n",
      "Requirement already satisfied: lxml in c:\\users\\ricardo.rlima\\anaconda3\\lib\\site-packages (from pandas_datareader) (4.5.2)\n",
      "Requirement already satisfied: idna<3,>=2.5 in c:\\users\\ricardo.rlima\\anaconda3\\lib\\site-packages (from requests>=2.19.0->pandas_datareader) (2.10)\n",
      "Requirement already satisfied: urllib3!=1.25.0,!=1.25.1,<1.26,>=1.21.1 in c:\\users\\ricardo.rlima\\anaconda3\\lib\\site-packages (from requests>=2.19.0->pandas_datareader) (1.25.9)\n",
      "Requirement already satisfied: chardet<4,>=3.0.2 in c:\\users\\ricardo.rlima\\anaconda3\\lib\\site-packages (from requests>=2.19.0->pandas_datareader) (3.0.4)\n",
      "Requirement already satisfied: certifi>=2017.4.17 in c:\\users\\ricardo.rlima\\anaconda3\\lib\\site-packages (from requests>=2.19.0->pandas_datareader) (2020.6.20)\n",
      "Requirement already satisfied: numpy>=1.13.3 in c:\\users\\ricardo.rlima\\anaconda3\\lib\\site-packages (from pandas>=0.23->pandas_datareader) (1.22.3)\n",
      "Requirement already satisfied: python-dateutil>=2.6.1 in c:\\users\\ricardo.rlima\\anaconda3\\lib\\site-packages (from pandas>=0.23->pandas_datareader) (2.8.1)\n",
      "Requirement already satisfied: pytz>=2017.2 in c:\\users\\ricardo.rlima\\anaconda3\\lib\\site-packages (from pandas>=0.23->pandas_datareader) (2020.1)\n",
      "Requirement already satisfied: six>=1.5 in c:\\users\\ricardo.rlima\\anaconda3\\lib\\site-packages (from python-dateutil>=2.6.1->pandas>=0.23->pandas_datareader) (1.15.0)\n",
      "Installing collected packages: pandas-datareader\n",
      "Successfully installed pandas-datareader-0.10.0\n"
     ]
    }
   ],
   "source": [
    "!pip install pandas_datareader"
   ]
  },
  {
   "cell_type": "code",
   "execution_count": 4,
   "metadata": {},
   "outputs": [],
   "source": [
    "import datetime as dt\n",
    "import pandas_datareader.data as web\n",
    "import matplotlib.pyplot as plt\n",
    "import numpy as np"
   ]
  },
  {
   "cell_type": "markdown",
   "metadata": {},
   "source": [
    "Definindo janela de tempo"
   ]
  },
  {
   "cell_type": "code",
   "execution_count": 5,
   "metadata": {},
   "outputs": [],
   "source": [
    "start = dt.datetime(2018,1,1)\n",
    "end = dt.datetime(2020,9,30)"
   ]
  },
  {
   "cell_type": "markdown",
   "metadata": {},
   "source": [
    "Obtendo dados da PETR4"
   ]
  },
  {
   "cell_type": "code",
   "execution_count": 6,
   "metadata": {},
   "outputs": [],
   "source": [
    "PETR4 = web.DataReader('PETR4.SA',\"yahoo\",start,end)"
   ]
  },
  {
   "cell_type": "markdown",
   "metadata": {},
   "source": [
    "Exibindo as cinco primeiras linhas"
   ]
  },
  {
   "cell_type": "code",
   "execution_count": 7,
   "metadata": {},
   "outputs": [
    {
     "data": {
      "text/html": [
       "<div>\n",
       "<style scoped>\n",
       "    .dataframe tbody tr th:only-of-type {\n",
       "        vertical-align: middle;\n",
       "    }\n",
       "\n",
       "    .dataframe tbody tr th {\n",
       "        vertical-align: top;\n",
       "    }\n",
       "\n",
       "    .dataframe thead th {\n",
       "        text-align: right;\n",
       "    }\n",
       "</style>\n",
       "<table border=\"1\" class=\"dataframe\">\n",
       "  <thead>\n",
       "    <tr style=\"text-align: right;\">\n",
       "      <th></th>\n",
       "      <th>High</th>\n",
       "      <th>Low</th>\n",
       "      <th>Open</th>\n",
       "      <th>Close</th>\n",
       "      <th>Volume</th>\n",
       "      <th>Adj Close</th>\n",
       "    </tr>\n",
       "    <tr>\n",
       "      <th>Date</th>\n",
       "      <th></th>\n",
       "      <th></th>\n",
       "      <th></th>\n",
       "      <th></th>\n",
       "      <th></th>\n",
       "      <th></th>\n",
       "    </tr>\n",
       "  </thead>\n",
       "  <tbody>\n",
       "    <tr>\n",
       "      <th>2018-01-02</th>\n",
       "      <td>16.549999</td>\n",
       "      <td>16.190001</td>\n",
       "      <td>16.190001</td>\n",
       "      <td>16.549999</td>\n",
       "      <td>33461800.0</td>\n",
       "      <td>8.335218</td>\n",
       "    </tr>\n",
       "    <tr>\n",
       "      <th>2018-01-03</th>\n",
       "      <td>16.719999</td>\n",
       "      <td>16.370001</td>\n",
       "      <td>16.490000</td>\n",
       "      <td>16.700001</td>\n",
       "      <td>55940900.0</td>\n",
       "      <td>8.410766</td>\n",
       "    </tr>\n",
       "    <tr>\n",
       "      <th>2018-01-04</th>\n",
       "      <td>16.959999</td>\n",
       "      <td>16.620001</td>\n",
       "      <td>16.780001</td>\n",
       "      <td>16.730000</td>\n",
       "      <td>37064900.0</td>\n",
       "      <td>8.425874</td>\n",
       "    </tr>\n",
       "    <tr>\n",
       "      <th>2018-01-05</th>\n",
       "      <td>16.860001</td>\n",
       "      <td>16.570000</td>\n",
       "      <td>16.700001</td>\n",
       "      <td>16.830000</td>\n",
       "      <td>26958200.0</td>\n",
       "      <td>8.476238</td>\n",
       "    </tr>\n",
       "    <tr>\n",
       "      <th>2018-01-08</th>\n",
       "      <td>17.030001</td>\n",
       "      <td>16.709999</td>\n",
       "      <td>16.740000</td>\n",
       "      <td>17.030001</td>\n",
       "      <td>28400000.0</td>\n",
       "      <td>8.576966</td>\n",
       "    </tr>\n",
       "  </tbody>\n",
       "</table>\n",
       "</div>"
      ],
      "text/plain": [
       "                 High        Low       Open      Close      Volume  Adj Close\n",
       "Date                                                                         \n",
       "2018-01-02  16.549999  16.190001  16.190001  16.549999  33461800.0   8.335218\n",
       "2018-01-03  16.719999  16.370001  16.490000  16.700001  55940900.0   8.410766\n",
       "2018-01-04  16.959999  16.620001  16.780001  16.730000  37064900.0   8.425874\n",
       "2018-01-05  16.860001  16.570000  16.700001  16.830000  26958200.0   8.476238\n",
       "2018-01-08  17.030001  16.709999  16.740000  17.030001  28400000.0   8.576966"
      ]
     },
     "execution_count": 7,
     "metadata": {},
     "output_type": "execute_result"
    }
   ],
   "source": [
    "PETR4.head()"
   ]
  },
  {
   "cell_type": "markdown",
   "metadata": {},
   "source": [
    "Exibindo as cinco últimas linhas"
   ]
  },
  {
   "cell_type": "code",
   "execution_count": 8,
   "metadata": {},
   "outputs": [
    {
     "data": {
      "text/html": [
       "<div>\n",
       "<style scoped>\n",
       "    .dataframe tbody tr th:only-of-type {\n",
       "        vertical-align: middle;\n",
       "    }\n",
       "\n",
       "    .dataframe tbody tr th {\n",
       "        vertical-align: top;\n",
       "    }\n",
       "\n",
       "    .dataframe thead th {\n",
       "        text-align: right;\n",
       "    }\n",
       "</style>\n",
       "<table border=\"1\" class=\"dataframe\">\n",
       "  <thead>\n",
       "    <tr style=\"text-align: right;\">\n",
       "      <th></th>\n",
       "      <th>High</th>\n",
       "      <th>Low</th>\n",
       "      <th>Open</th>\n",
       "      <th>Close</th>\n",
       "      <th>Volume</th>\n",
       "      <th>Adj Close</th>\n",
       "    </tr>\n",
       "    <tr>\n",
       "      <th>Date</th>\n",
       "      <th></th>\n",
       "      <th></th>\n",
       "      <th></th>\n",
       "      <th></th>\n",
       "      <th></th>\n",
       "      <th></th>\n",
       "    </tr>\n",
       "  </thead>\n",
       "  <tbody>\n",
       "    <tr>\n",
       "      <th>2020-09-24</th>\n",
       "      <td>20.709999</td>\n",
       "      <td>20.059999</td>\n",
       "      <td>20.240000</td>\n",
       "      <td>20.400000</td>\n",
       "      <td>76310000.0</td>\n",
       "      <td>11.074918</td>\n",
       "    </tr>\n",
       "    <tr>\n",
       "      <th>2020-09-25</th>\n",
       "      <td>20.260000</td>\n",
       "      <td>19.870001</td>\n",
       "      <td>20.150000</td>\n",
       "      <td>20.129999</td>\n",
       "      <td>40150400.0</td>\n",
       "      <td>10.928338</td>\n",
       "    </tr>\n",
       "    <tr>\n",
       "      <th>2020-09-28</th>\n",
       "      <td>20.559999</td>\n",
       "      <td>19.629999</td>\n",
       "      <td>20.330000</td>\n",
       "      <td>19.629999</td>\n",
       "      <td>48797400.0</td>\n",
       "      <td>10.656894</td>\n",
       "    </tr>\n",
       "    <tr>\n",
       "      <th>2020-09-29</th>\n",
       "      <td>19.860001</td>\n",
       "      <td>19.250000</td>\n",
       "      <td>19.629999</td>\n",
       "      <td>19.309999</td>\n",
       "      <td>52878100.0</td>\n",
       "      <td>10.483169</td>\n",
       "    </tr>\n",
       "    <tr>\n",
       "      <th>2020-09-30</th>\n",
       "      <td>20.040001</td>\n",
       "      <td>19.430000</td>\n",
       "      <td>19.500000</td>\n",
       "      <td>19.610001</td>\n",
       "      <td>69505000.0</td>\n",
       "      <td>10.646036</td>\n",
       "    </tr>\n",
       "  </tbody>\n",
       "</table>\n",
       "</div>"
      ],
      "text/plain": [
       "                 High        Low       Open      Close      Volume  Adj Close\n",
       "Date                                                                         \n",
       "2020-09-24  20.709999  20.059999  20.240000  20.400000  76310000.0  11.074918\n",
       "2020-09-25  20.260000  19.870001  20.150000  20.129999  40150400.0  10.928338\n",
       "2020-09-28  20.559999  19.629999  20.330000  19.629999  48797400.0  10.656894\n",
       "2020-09-29  19.860001  19.250000  19.629999  19.309999  52878100.0  10.483169\n",
       "2020-09-30  20.040001  19.430000  19.500000  19.610001  69505000.0  10.646036"
      ]
     },
     "execution_count": 8,
     "metadata": {},
     "output_type": "execute_result"
    }
   ],
   "source": [
    "PETR4.tail()"
   ]
  },
  {
   "cell_type": "markdown",
   "metadata": {},
   "source": [
    "Graficando valores de abertura, fechamento, mínimo e máximo"
   ]
  },
  {
   "cell_type": "code",
   "execution_count": 9,
   "metadata": {},
   "outputs": [
    {
     "data": {
      "image/png": "[encoded data removed]",
      "text/plain": [
       "<Figure size 432x288 with 4 Axes>"
      ]
     },
     "metadata": {
      "needs_background": "light"
     },
     "output_type": "display_data"
    }
   ],
   "source": [
    "plt.subplot(2,2,1)\n",
    "PETR4['Open'].plot(label='Open')\n",
    "plt.xlabel('Data')\n",
    "plt.ylabel('Open')\n",
    "plt.subplot(2,2,2)\n",
    "PETR4['Close'].plot(label='Close')\n",
    "plt.xlabel('Data')\n",
    "plt.ylabel('Close')\n",
    "plt.subplot(2,2,3)\n",
    "PETR4['Low'].plot(label='Low')\n",
    "plt.xlabel('Data')\n",
    "plt.ylabel('Low')\n",
    "plt.subplot(2,2,4)\n",
    "PETR4['High'].plot(label='High')\n",
    "plt.xlabel('Data')\n",
    "plt.ylabel('High')\n",
    "plt.tight_layout()"
   ]
  },
  {
   "cell_type": "markdown",
   "metadata": {},
   "source": [
    "Definindo variáveis X e Y"
   ]
  },
  {
   "cell_type": "code",
   "execution_count": 10,
   "metadata": {},
   "outputs": [],
   "source": [
    "X = PETR4.drop(['Volume','Adj Close'],axis=1)\n",
    "Y = PETR4['Volume']"
   ]
  },
  {
   "cell_type": "markdown",
   "metadata": {},
   "source": [
    "* Criando amostra de treino e teste"
   ]
  },
  {
   "cell_type": "code",
   "execution_count": 11,
   "metadata": {},
   "outputs": [],
   "source": [
    "X_treino = X[X.index<'2020-01-01'].values\n",
    "X_teste = X[X.index>='2020-01-01'].values\n",
    "\n",
    "Y_treino = Y[X.index<'2020-01-01'].values\n",
    "Y_teste = Y[X.index>='2020-01-01'].values"
   ]
  },
  {
   "cell_type": "markdown",
   "metadata": {},
   "source": [
    "* Prevendo volume utilizando modelo Random Forest Regressor"
   ]
  },
  {
   "cell_type": "code",
   "execution_count": 12,
   "metadata": {},
   "outputs": [],
   "source": [
    "from sklearn.ensemble import RandomForestRegressor"
   ]
  },
  {
   "cell_type": "code",
   "execution_count": 13,
   "metadata": {},
   "outputs": [],
   "source": [
    "rfr = RandomForestRegressor()"
   ]
  },
  {
   "cell_type": "code",
   "execution_count": 14,
   "metadata": {},
   "outputs": [
    {
     "data": {
      "text/plain": [
       "RandomForestRegressor()"
      ]
     },
     "execution_count": 14,
     "metadata": {},
     "output_type": "execute_result"
    }
   ],
   "source": [
    "rfr.fit(X_treino,Y_treino)"
   ]
  },
  {
   "cell_type": "code",
   "execution_count": 15,
   "metadata": {},
   "outputs": [],
   "source": [
    "Y_previsto = rfr.predict(X_teste)"
   ]
  },
  {
   "cell_type": "markdown",
   "metadata": {},
   "source": [
    "* Graficando Y_previsto em função de Y_teste"
   ]
  },
  {
   "cell_type": "code",
   "execution_count": 16,
   "metadata": {},
   "outputs": [
    {
     "data": {
      "image/png": "[encoded data removed]",
      "text/plain": [
       "<Figure size 432x288 with 1 Axes>"
      ]
     },
     "metadata": {
      "needs_background": "light"
     },
     "output_type": "display_data"
    }
   ],
   "source": [
    "plt.scatter(Y_teste,Y_previsto)\n",
    "plt.xlabel('Y_teste')\n",
    "plt.ylabel('Y_previsto')\n",
    "plt.tight_layout()"
   ]
  },
  {
   "cell_type": "markdown",
   "metadata": {},
   "source": [
    "Calculando métricas de erro"
   ]
  },
  {
   "cell_type": "code",
   "execution_count": 17,
   "metadata": {},
   "outputs": [],
   "source": [
    "from sklearn.metrics import mean_absolute_error, mean_squared_error"
   ]
  },
  {
   "cell_type": "code",
   "execution_count": 18,
   "metadata": {},
   "outputs": [],
   "source": [
    "def mean_absolute_percentage_error(y_true, y_pred): \n",
    "    y_true, y_pred = np.array(y_true), np.array(y_pred)\n",
    "    return np.mean(np.abs((y_true - y_pred) / y_true)) * 100"
   ]
  },
  {
   "cell_type": "code",
   "execution_count": 19,
   "metadata": {},
   "outputs": [],
   "source": [
    "MAE = mean_absolute_error(Y_teste,Y_previsto)\n",
    "MAPE = mean_absolute_percentage_error(Y_teste,Y_previsto)\n",
    "MSE = mean_squared_error(Y_teste,Y_previsto)\n",
    "RMSE = np.sqrt(MSE)"
   ]
  },
  {
   "cell_type": "code",
   "execution_count": 20,
   "metadata": {},
   "outputs": [
    {
     "name": "stdout",
     "output_type": "stream",
     "text": [
      "MAE = 2.56e+07\n",
      "MAPE = 28.46%\n",
      "MSE = 1.50e+15\n",
      "RMSE = 3.87e+07\n"
     ]
    }
   ],
   "source": [
    "print(\"MAE = {:0.2e}\".format(MAE))\n",
    "print(\"MAPE = {:0.2f}%\".format(MAPE))\n",
    "print(\"MSE = {:0.2e}\".format(MSE))\n",
    "print(\"RMSE = {:0.2e}\".format(RMSE))"
   ]
  },
  {
   "cell_type": "markdown",
   "metadata": {},
   "source": [
    "Podemos prever o valor com uma incerteza de 28.78%"
   ]
  },
  {
   "cell_type": "markdown",
   "metadata": {},
   "source": [
    "Melhorias podem ser obtidas adicionando-se indicores da bolsa na amostra"
   ]
  },
  {
   "cell_type": "code",
   "execution_count": null,
   "metadata": {},
   "outputs": [],
   "source": []
  }
 ],
 "metadata": {
  "kernelspec": {
   "display_name": "Python 3",
   "language": "python",
   "name": "python3"
  },
  "language_info": {
   "codemirror_mode": {
    "name": "ipython",
    "version": 3
   },
   "file_extension": ".py",
   "mimetype": "text/x-python",
   "name": "python",
   "nbconvert_exporter": "python",
   "pygments_lexer": "ipython3",
   "version": "3.8.3"
  }
 },
 "nbformat": 4,
 "nbformat_minor": 4
}
