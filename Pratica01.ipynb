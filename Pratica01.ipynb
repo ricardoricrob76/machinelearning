{
  "nbformat": 4,
  "nbformat_minor": 0,
  "metadata": {
    "colab": {
      "name": "Pratica01.ipynb",
      "provenance": [],
      "authorship_tag": "ABX9TyNmEhVwDm+aMvRPi5HxsdiM",
      "include_colab_link": true
    },
    "kernelspec": {
      "name": "python3",
      "display_name": "Python 3"
    },
    "language_info": {
      "name": "python"
    }
  },
  "cells": [
    {
      "cell_type": "markdown",
      "metadata": {
        "id": "view-in-github",
        "colab_type": "text"
      },
      "source": [
        "<a href=\"https://colab.research.google.com/github/ricardoricrob76/machinelearning/blob/main/Pratica01.ipynb\" target=\"_parent\"><img src=\"https://colab.research.google.com/assets/colab-badge.svg\" alt=\"Open In Colab\"/></a>"
      ]
    },
    {
      "cell_type": "markdown",
      "source": [
        "Aula 01 - Ciência de Dados - UNIPÊ - P1\n",
        "Autor: Ricardo Roberto de Lima"
      ],
      "metadata": {
        "id": "uEnmks-AEKmq"
      }
    },
    {
      "cell_type": "code",
      "source": [
        "a = 10\n",
        "b = 20\n",
        "print(a + b)"
      ],
      "metadata": {
        "colab": {
          "base_uri": "https://localhost:8080/"
        },
        "id": "rsyQx2x2EOiO",
        "outputId": "f9cab46d-f08d-4de7-9fce-f84d547e175d"
      },
      "execution_count": 1,
      "outputs": [
        {
          "output_type": "stream",
          "name": "stdout",
          "text": [
            "30\n"
          ]
        }
      ]
    },
    {
      "cell_type": "code",
      "source": [
        ""
      ],
      "metadata": {
        "id": "yGnPMUb-E5Es"
      },
      "execution_count": null,
      "outputs": []
    }
  ]
}