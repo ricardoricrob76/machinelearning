{
  "nbformat": 4,
  "nbformat_minor": 0,
  "metadata": {
    "colab": {
      "name": "Seleção de Features - 01 - Chi2 e Select KBest.ipynb",
      "provenance": [],
      "collapsed_sections": [],
      "authorship_tag": "ABX9TyNdKWQIGl/PxVrdMHrbqPX8",
      "include_colab_link": true
    },
    "kernelspec": {
      "name": "python3",
      "display_name": "Python 3"
    },
    "language_info": {
      "name": "python"
    }
  },
  "cells": [
    {
      "cell_type": "markdown",
      "metadata": {
        "id": "view-in-github",
        "colab_type": "text"
      },
      "source": [
        "<a href=\"https://colab.research.google.com/github/ricardoricrob76/machinelearning/blob/main/Sele%C3%A7%C3%A3o_de_Features_01_Chi2_e_Select_KBest.ipynb\" target=\"_parent\"><img src=\"https://colab.research.google.com/assets/colab-badge.svg\" alt=\"Open In Colab\"/></a>"
      ]
    },
    {
      "cell_type": "code",
      "execution_count": 1,
      "metadata": {
        "colab": {
          "base_uri": "https://localhost:8080/"
        },
        "id": "e9-mQR-ylkGg",
        "outputId": "4985fe3c-cc02-47e7-c3c3-18fa5b67b81e"
      },
      "outputs": [
        {
          "output_type": "stream",
          "name": "stdout",
          "text": [
            "            Specs          Score\n",
            "13            ram  931267.519053\n",
            "11      px_height   17363.569536\n",
            "0   battery_power   14129.866576\n",
            "12       px_width    9810.586750\n",
            "8       mobile_wt      95.972863\n",
            "6      int_memory      89.839124\n",
            "15           sc_w      16.480319\n",
            "16      talk_time      13.236400\n",
            "4              fc      10.135166\n",
            "14           sc_h       9.614878\n"
          ]
        }
      ],
      "source": [
        "import pandas as pd\n",
        "import numpy as np\n",
        "from sklearn.feature_selection import SelectKBest\n",
        "from sklearn.feature_selection import chi2\n",
        "data = pd.read_csv(\"train.csv\")\n",
        "\n",
        "# data = pd.read_csv(\"http://s3.aws.lalalalalala.com.br/train.csv\")\n",
        "\n",
        "data.head(10)\n",
        "\n",
        "X = data.iloc[:,0:20]  #independent columns\n",
        "y = data.iloc[:,-1]    #target column i.e price range\n",
        "#apply SelectKBest class to extract top 10 best features\n",
        "\n",
        "bestfeatures = SelectKBest(score_func=chi2, k=10)\n",
        "fit = bestfeatures.fit(X,y)\n",
        "dfscores = pd.DataFrame(fit.scores_)\n",
        "dfcolumns = pd.DataFrame(X.columns)\n",
        "\n",
        "#concat two dataframes for better visualization \n",
        "featureScores = pd.concat([dfcolumns,dfscores],axis=1)\n",
        "\n",
        "featureScores.columns = ['Specs','Score']  #naming the dataframe columns\n",
        "\n",
        "print(featureScores.nlargest(10,'Score'))  #print 10 best features"
      ]
    }
  ]
}