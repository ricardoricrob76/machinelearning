{
  "cells": [
    {
      "cell_type": "markdown",
      "metadata": {
        "id": "view-in-github",
        "colab_type": "text"
      },
      "source": [
        "<a href=\"https://colab.research.google.com/github/ricardoricrob76/machinelearning/blob/main/Web_Scraping_e_An%C3%A1lise_Estat%C3%ADstica_Participantes_de_Corridas_de_10KM_com_dados_de_sensores_RFID.ipynb\" target=\"_parent\"><img src=\"https://colab.research.google.com/assets/colab-badge.svg\" alt=\"Open In Colab\"/></a>"
      ]
    },
    {
      "cell_type": "markdown",
      "metadata": {
        "id": "jqB_qNe4bFq1"
      },
      "source": [
        "Prof. Ricardo Roberto de Lima.\n"
      ]
    },
    {
      "cell_type": "markdown",
      "metadata": {
        "id": "By3W8kLjbFq3"
      },
      "source": [
        "<strong><b><font size=\"5\">Web Scraping e Análise de Dados</font></b></strong>"
      ]
    },
    {
      "cell_type": "markdown",
      "metadata": {
        "id": "RRZGSKv5bFq3"
      },
      "source": [
        "<strong><b><font size=\"5\">Lab 2</font></b></strong>\n",
        "\n",
        "<strong><b><font size=\"4\">Web Scraping e Análise Estatística - Avaliando o Desempenho dos Participantes em Corridas de 10 KM com Dados de Sensores RFID</font></b></strong>"
      ]
    },
    {
      "cell_type": "markdown",
      "metadata": {
        "id": "aaukKcZIbFq4"
      },
      "source": [
        "![title](imagens/lab2.png)"
      ]
    },
    {
      "cell_type": "markdown",
      "metadata": {
        "id": "-APXs2vLbFq4"
      },
      "source": [
        "## Definição do Problema\n",
        "\n",
        "Você gosta de correr? Corrida é um dos esportes mais praticados em todo mundo, além de uma atividade saudável e prazerosa.\n",
        "\n",
        "Neste Lab vamos coletar dados reais de participantes de uma corrida de 10 KM realizada em Hillsboro no Oregon, EUA, em junho de 2017. \n",
        "\n",
        "Resumo da corrida:\n",
        "\n",
        "- Pessoas que completaram a corrida: 577\n",
        "- Homens: 414\n",
        "- Mulheres: 163\n",
        "\n",
        "O objetivo desta análise é encontrar:\n",
        "    \n",
        "- O tempo médio de conclusão da corrida.\n",
        "- Se os tempos de chegada dos corredores seguem uma distribuição normal.\n",
        "- Analisar se há diferença de desempenho entre homens e mulheres de várias faixas etárias.\n",
        "\n",
        "Os tempos registrados na corrida (bem como outros dados) são bem precisos pois os participantes usaram sensores RFID de onde os dados foram extraídos e disponibilizados na web. Mais detalhes sobre o uso dos sensores RFID aqui:\n",
        "\n",
        "https://www.hubertiming.com/runners/faq"
      ]
    },
    {
      "cell_type": "markdown",
      "metadata": {
        "id": "lRLQST9DbFq5"
      },
      "source": [
        "## Fonte de Dados\n",
        "\n",
        "Como fonte de dados usaremos o web site <a href=\"https://www.hubertiming.com/\">Huber Timing</a> que contém o resultado das corridas que acontecem nos EUA, bem como a agenda de novos eventos.\n",
        "\n",
        "Aqui a página com o resultado da corrida que faremos a análise:\n",
        "\n",
        "https://www.hubertiming.com/results/2017GPTR10K"
      ]
    },
    {
      "cell_type": "markdown",
      "metadata": {
        "id": "SQ_qFSgTbFq5"
      },
      "source": [
        "## Carregando os Pacotes Usados Neste Jupyter Notebook"
      ]
    },
    {
      "cell_type": "code",
      "execution_count": null,
      "metadata": {
        "colab": {
          "base_uri": "https://localhost:8080/"
        },
        "id": "-9e0Ntc1bFq5",
        "outputId": "02a87e36-ec6f-4449-a429-e90c8fc3254a"
      },
      "outputs": [
        {
          "output_type": "stream",
          "name": "stdout",
          "text": [
            "Versão da Linguagem Python Usada Neste Jupyter Notebook: 3.7.14\n"
          ]
        }
      ],
      "source": [
        "# Versão da Linguagem Python\n",
        "from platform import python_version\n",
        "print('Versão da Linguagem Python Usada Neste Jupyter Notebook:', python_version())"
      ]
    },
    {
      "cell_type": "code",
      "execution_count": null,
      "metadata": {
        "id": "9h7IQwQ9bFq6"
      },
      "outputs": [],
      "source": [
        "# Para atualizar um pacote, execute o comando abaixo no terminal ou prompt de comando:\n",
        "# pip install -U nome_pacote\n",
        "\n",
        "# Para instalar a versão exata de um pacote, execute o comando abaixo no terminal ou prompt de comando:\n",
        "# pip install nome_pacote==versão_desejada\n",
        "\n",
        "# Depois de instalar ou atualizar o pacote, reinicie o jupyter notebook, se necessário."
      ]
    },
    {
      "cell_type": "code",
      "execution_count": null,
      "metadata": {
        "colab": {
          "base_uri": "https://localhost:8080/"
        },
        "id": "n8-soClLbFq6",
        "outputId": "0e0dcb88-c3ce-497a-edef-6c301ea29efb"
      },
      "outputs": [
        {
          "output_type": "stream",
          "name": "stdout",
          "text": [
            "\u001b[?25l\r\u001b[K     |▏                               | 10 kB 25.6 MB/s eta 0:00:01\r\u001b[K     |▍                               | 20 kB 12.5 MB/s eta 0:00:01\r\u001b[K     |▋                               | 30 kB 16.8 MB/s eta 0:00:01\r\u001b[K     |▉                               | 40 kB 7.3 MB/s eta 0:00:01\r\u001b[K     |█                               | 51 kB 5.3 MB/s eta 0:00:01\r\u001b[K     |█▎                              | 61 kB 6.1 MB/s eta 0:00:01\r\u001b[K     |█▌                              | 71 kB 6.8 MB/s eta 0:00:01\r\u001b[K     |█▊                              | 81 kB 7.6 MB/s eta 0:00:01\r\u001b[K     |█▉                              | 92 kB 8.0 MB/s eta 0:00:01\r\u001b[K     |██                              | 102 kB 8.5 MB/s eta 0:00:01\r\u001b[K     |██▎                             | 112 kB 8.5 MB/s eta 0:00:01\r\u001b[K     |██▌                             | 122 kB 8.5 MB/s eta 0:00:01\r\u001b[K     |██▊                             | 133 kB 8.5 MB/s eta 0:00:01\r\u001b[K     |███                             | 143 kB 8.5 MB/s eta 0:00:01\r\u001b[K     |███▏                            | 153 kB 8.5 MB/s eta 0:00:01\r\u001b[K     |███▍                            | 163 kB 8.5 MB/s eta 0:00:01\r\u001b[K     |███▌                            | 174 kB 8.5 MB/s eta 0:00:01\r\u001b[K     |███▊                            | 184 kB 8.5 MB/s eta 0:00:01\r\u001b[K     |████                            | 194 kB 8.5 MB/s eta 0:00:01\r\u001b[K     |████▏                           | 204 kB 8.5 MB/s eta 0:00:01\r\u001b[K     |████▍                           | 215 kB 8.5 MB/s eta 0:00:01\r\u001b[K     |████▋                           | 225 kB 8.5 MB/s eta 0:00:01\r\u001b[K     |████▉                           | 235 kB 8.5 MB/s eta 0:00:01\r\u001b[K     |█████                           | 245 kB 8.5 MB/s eta 0:00:01\r\u001b[K     |█████▎                          | 256 kB 8.5 MB/s eta 0:00:01\r\u001b[K     |█████▍                          | 266 kB 8.5 MB/s eta 0:00:01\r\u001b[K     |█████▋                          | 276 kB 8.5 MB/s eta 0:00:01\r\u001b[K     |█████▉                          | 286 kB 8.5 MB/s eta 0:00:01\r\u001b[K     |██████                          | 296 kB 8.5 MB/s eta 0:00:01\r\u001b[K     |██████▎                         | 307 kB 8.5 MB/s eta 0:00:01\r\u001b[K     |██████▌                         | 317 kB 8.5 MB/s eta 0:00:01\r\u001b[K     |██████▊                         | 327 kB 8.5 MB/s eta 0:00:01\r\u001b[K     |███████                         | 337 kB 8.5 MB/s eta 0:00:01\r\u001b[K     |███████                         | 348 kB 8.5 MB/s eta 0:00:01\r\u001b[K     |███████▎                        | 358 kB 8.5 MB/s eta 0:00:01\r\u001b[K     |███████▌                        | 368 kB 8.5 MB/s eta 0:00:01\r\u001b[K     |███████▊                        | 378 kB 8.5 MB/s eta 0:00:01\r\u001b[K     |████████                        | 389 kB 8.5 MB/s eta 0:00:01\r\u001b[K     |████████▏                       | 399 kB 8.5 MB/s eta 0:00:01\r\u001b[K     |████████▍                       | 409 kB 8.5 MB/s eta 0:00:01\r\u001b[K     |████████▋                       | 419 kB 8.5 MB/s eta 0:00:01\r\u001b[K     |████████▉                       | 430 kB 8.5 MB/s eta 0:00:01\r\u001b[K     |█████████                       | 440 kB 8.5 MB/s eta 0:00:01\r\u001b[K     |█████████▏                      | 450 kB 8.5 MB/s eta 0:00:01\r\u001b[K     |█████████▍                      | 460 kB 8.5 MB/s eta 0:00:01\r\u001b[K     |█████████▋                      | 471 kB 8.5 MB/s eta 0:00:01\r\u001b[K     |█████████▉                      | 481 kB 8.5 MB/s eta 0:00:01\r\u001b[K     |██████████                      | 491 kB 8.5 MB/s eta 0:00:01\r\u001b[K     |██████████▎                     | 501 kB 8.5 MB/s eta 0:00:01\r\u001b[K     |██████████▌                     | 512 kB 8.5 MB/s eta 0:00:01\r\u001b[K     |██████████▋                     | 522 kB 8.5 MB/s eta 0:00:01\r\u001b[K     |██████████▉                     | 532 kB 8.5 MB/s eta 0:00:01\r\u001b[K     |███████████                     | 542 kB 8.5 MB/s eta 0:00:01\r\u001b[K     |███████████▎                    | 552 kB 8.5 MB/s eta 0:00:01\r\u001b[K     |███████████▌                    | 563 kB 8.5 MB/s eta 0:00:01\r\u001b[K     |███████████▊                    | 573 kB 8.5 MB/s eta 0:00:01\r\u001b[K     |████████████                    | 583 kB 8.5 MB/s eta 0:00:01\r\u001b[K     |████████████▏                   | 593 kB 8.5 MB/s eta 0:00:01\r\u001b[K     |████████████▍                   | 604 kB 8.5 MB/s eta 0:00:01\r\u001b[K     |████████████▌                   | 614 kB 8.5 MB/s eta 0:00:01\r\u001b[K     |████████████▊                   | 624 kB 8.5 MB/s eta 0:00:01\r\u001b[K     |█████████████                   | 634 kB 8.5 MB/s eta 0:00:01\r\u001b[K     |█████████████▏                  | 645 kB 8.5 MB/s eta 0:00:01\r\u001b[K     |█████████████▍                  | 655 kB 8.5 MB/s eta 0:00:01\r\u001b[K     |█████████████▋                  | 665 kB 8.5 MB/s eta 0:00:01\r\u001b[K     |█████████████▉                  | 675 kB 8.5 MB/s eta 0:00:01\r\u001b[K     |██████████████                  | 686 kB 8.5 MB/s eta 0:00:01\r\u001b[K     |██████████████▏                 | 696 kB 8.5 MB/s eta 0:00:01\r\u001b[K     |██████████████▍                 | 706 kB 8.5 MB/s eta 0:00:01\r\u001b[K     |██████████████▋                 | 716 kB 8.5 MB/s eta 0:00:01\r\u001b[K     |██████████████▉                 | 727 kB 8.5 MB/s eta 0:00:01\r\u001b[K     |███████████████                 | 737 kB 8.5 MB/s eta 0:00:01\r\u001b[K     |███████████████▎                | 747 kB 8.5 MB/s eta 0:00:01\r\u001b[K     |███████████████▌                | 757 kB 8.5 MB/s eta 0:00:01\r\u001b[K     |███████████████▊                | 768 kB 8.5 MB/s eta 0:00:01\r\u001b[K     |████████████████                | 778 kB 8.5 MB/s eta 0:00:01\r\u001b[K     |████████████████                | 788 kB 8.5 MB/s eta 0:00:01\r\u001b[K     |████████████████▎               | 798 kB 8.5 MB/s eta 0:00:01\r\u001b[K     |████████████████▌               | 808 kB 8.5 MB/s eta 0:00:01\r\u001b[K     |████████████████▊               | 819 kB 8.5 MB/s eta 0:00:01\r\u001b[K     |█████████████████               | 829 kB 8.5 MB/s eta 0:00:01\r\u001b[K     |█████████████████▏              | 839 kB 8.5 MB/s eta 0:00:01\r\u001b[K     |█████████████████▍              | 849 kB 8.5 MB/s eta 0:00:01\r\u001b[K     |█████████████████▋              | 860 kB 8.5 MB/s eta 0:00:01\r\u001b[K     |█████████████████▊              | 870 kB 8.5 MB/s eta 0:00:01\r\u001b[K     |██████████████████              | 880 kB 8.5 MB/s eta 0:00:01\r\u001b[K     |██████████████████▏             | 890 kB 8.5 MB/s eta 0:00:01\r\u001b[K     |██████████████████▍             | 901 kB 8.5 MB/s eta 0:00:01\r\u001b[K     |██████████████████▋             | 911 kB 8.5 MB/s eta 0:00:01\r\u001b[K     |██████████████████▉             | 921 kB 8.5 MB/s eta 0:00:01\r\u001b[K     |███████████████████             | 931 kB 8.5 MB/s eta 0:00:01\r\u001b[K     |███████████████████▎            | 942 kB 8.5 MB/s eta 0:00:01\r\u001b[K     |███████████████████▌            | 952 kB 8.5 MB/s eta 0:00:01\r\u001b[K     |███████████████████▋            | 962 kB 8.5 MB/s eta 0:00:01\r\u001b[K     |███████████████████▉            | 972 kB 8.5 MB/s eta 0:00:01\r\u001b[K     |████████████████████            | 983 kB 8.5 MB/s eta 0:00:01\r\u001b[K     |████████████████████▎           | 993 kB 8.5 MB/s eta 0:00:01\r\u001b[K     |████████████████████▌           | 1.0 MB 8.5 MB/s eta 0:00:01\r\u001b[K     |████████████████████▊           | 1.0 MB 8.5 MB/s eta 0:00:01\r\u001b[K     |█████████████████████           | 1.0 MB 8.5 MB/s eta 0:00:01\r\u001b[K     |█████████████████████▏          | 1.0 MB 8.5 MB/s eta 0:00:01\r\u001b[K     |█████████████████████▎          | 1.0 MB 8.5 MB/s eta 0:00:01\r\u001b[K     |█████████████████████▌          | 1.1 MB 8.5 MB/s eta 0:00:01\r\u001b[K     |█████████████████████▊          | 1.1 MB 8.5 MB/s eta 0:00:01\r\u001b[K     |██████████████████████          | 1.1 MB 8.5 MB/s eta 0:00:01\r\u001b[K     |██████████████████████▏         | 1.1 MB 8.5 MB/s eta 0:00:01\r\u001b[K     |██████████████████████▍         | 1.1 MB 8.5 MB/s eta 0:00:01\r\u001b[K     |██████████████████████▋         | 1.1 MB 8.5 MB/s eta 0:00:01\r\u001b[K     |██████████████████████▉         | 1.1 MB 8.5 MB/s eta 0:00:01\r\u001b[K     |███████████████████████         | 1.1 MB 8.5 MB/s eta 0:00:01\r\u001b[K     |███████████████████████▏        | 1.1 MB 8.5 MB/s eta 0:00:01\r\u001b[K     |███████████████████████▍        | 1.1 MB 8.5 MB/s eta 0:00:01\r\u001b[K     |███████████████████████▋        | 1.2 MB 8.5 MB/s eta 0:00:01\r\u001b[K     |███████████████████████▉        | 1.2 MB 8.5 MB/s eta 0:00:01\r\u001b[K     |████████████████████████        | 1.2 MB 8.5 MB/s eta 0:00:01\r\u001b[K     |████████████████████████▎       | 1.2 MB 8.5 MB/s eta 0:00:01\r\u001b[K     |████████████████████████▌       | 1.2 MB 8.5 MB/s eta 0:00:01\r\u001b[K     |████████████████████████▊       | 1.2 MB 8.5 MB/s eta 0:00:01\r\u001b[K     |████████████████████████▉       | 1.2 MB 8.5 MB/s eta 0:00:01\r\u001b[K     |█████████████████████████       | 1.2 MB 8.5 MB/s eta 0:00:01\r\u001b[K     |█████████████████████████▎      | 1.2 MB 8.5 MB/s eta 0:00:01\r\u001b[K     |█████████████████████████▌      | 1.2 MB 8.5 MB/s eta 0:00:01\r\u001b[K     |█████████████████████████▊      | 1.3 MB 8.5 MB/s eta 0:00:01\r\u001b[K     |██████████████████████████      | 1.3 MB 8.5 MB/s eta 0:00:01\r\u001b[K     |██████████████████████████▏     | 1.3 MB 8.5 MB/s eta 0:00:01\r\u001b[K     |██████████████████████████▍     | 1.3 MB 8.5 MB/s eta 0:00:01\r\u001b[K     |██████████████████████████▌     | 1.3 MB 8.5 MB/s eta 0:00:01\r\u001b[K     |██████████████████████████▊     | 1.3 MB 8.5 MB/s eta 0:00:01\r\u001b[K     |███████████████████████████     | 1.3 MB 8.5 MB/s eta 0:00:01\r\u001b[K     |███████████████████████████▏    | 1.3 MB 8.5 MB/s eta 0:00:01\r\u001b[K     |███████████████████████████▍    | 1.3 MB 8.5 MB/s eta 0:00:01\r\u001b[K     |███████████████████████████▋    | 1.4 MB 8.5 MB/s eta 0:00:01\r\u001b[K     |███████████████████████████▉    | 1.4 MB 8.5 MB/s eta 0:00:01\r\u001b[K     |████████████████████████████    | 1.4 MB 8.5 MB/s eta 0:00:01\r\u001b[K     |████████████████████████████▎   | 1.4 MB 8.5 MB/s eta 0:00:01\r\u001b[K     |████████████████████████████▍   | 1.4 MB 8.5 MB/s eta 0:00:01\r\u001b[K     |████████████████████████████▋   | 1.4 MB 8.5 MB/s eta 0:00:01\r\u001b[K     |████████████████████████████▉   | 1.4 MB 8.5 MB/s eta 0:00:01\r\u001b[K     |█████████████████████████████   | 1.4 MB 8.5 MB/s eta 0:00:01\r\u001b[K     |█████████████████████████████▎  | 1.4 MB 8.5 MB/s eta 0:00:01\r\u001b[K     |█████████████████████████████▌  | 1.4 MB 8.5 MB/s eta 0:00:01\r\u001b[K     |█████████████████████████████▊  | 1.5 MB 8.5 MB/s eta 0:00:01\r\u001b[K     |██████████████████████████████  | 1.5 MB 8.5 MB/s eta 0:00:01\r\u001b[K     |██████████████████████████████  | 1.5 MB 8.5 MB/s eta 0:00:01\r\u001b[K     |██████████████████████████████▎ | 1.5 MB 8.5 MB/s eta 0:00:01\r\u001b[K     |██████████████████████████████▌ | 1.5 MB 8.5 MB/s eta 0:00:01\r\u001b[K     |██████████████████████████████▊ | 1.5 MB 8.5 MB/s eta 0:00:01\r\u001b[K     |███████████████████████████████ | 1.5 MB 8.5 MB/s eta 0:00:01\r\u001b[K     |███████████████████████████████▏| 1.5 MB 8.5 MB/s eta 0:00:01\r\u001b[K     |███████████████████████████████▍| 1.5 MB 8.5 MB/s eta 0:00:01\r\u001b[K     |███████████████████████████████▋| 1.5 MB 8.5 MB/s eta 0:00:01\r\u001b[K     |███████████████████████████████▉| 1.6 MB 8.5 MB/s eta 0:00:01\r\u001b[K     |████████████████████████████████| 1.6 MB 8.5 MB/s eta 0:00:01\r\u001b[K     |████████████████████████████████| 1.6 MB 8.5 MB/s \n",
            "\u001b[?25h"
          ]
        }
      ],
      "source": [
        "# Instala o pacote watermark. \n",
        "# Esse pacote é usado para gravar as versões de outros pacotes usados neste jupyter notebook.\n",
        "!pip install -q -U watermark"
      ]
    },
    {
      "cell_type": "code",
      "execution_count": null,
      "metadata": {
        "colab": {
          "base_uri": "https://localhost:8080/"
        },
        "id": "lPh5Ca6JbFq7",
        "outputId": "5924c665-2e61-4351-e452-c9e258fc865e"
      },
      "outputs": [
        {
          "output_type": "stream",
          "name": "stdout",
          "text": [
            "\u001b[K     |████████████████████████████████| 185 kB 10.5 MB/s \n",
            "\u001b[K     |████████████████████████████████| 9.8 MB 44.1 MB/s \n",
            "\u001b[?25h  Building wheel for pingouin (setup.py) ... \u001b[?25l\u001b[?25hdone\n",
            "  Building wheel for littleutils (setup.py) ... \u001b[?25l\u001b[?25hdone\n"
          ]
        }
      ],
      "source": [
        "# Usaremos o pacote Pingouin para algumas das análises estatísticas\n",
        "# https://pingouin-stats.org/index.html\n",
        "!pip install -q pingouin"
      ]
    },
    {
      "cell_type": "code",
      "execution_count": null,
      "metadata": {
        "scrolled": true,
        "id": "x5vbUsUNbFq7"
      },
      "outputs": [],
      "source": [
        "# Imports\n",
        "import re\n",
        "import requests\n",
        "import matplotlib as m\n",
        "import numpy as np\n",
        "import pandas as pd\n",
        "import pingouin as pg\n",
        "import matplotlib.pyplot as plt\n",
        "import seaborn as sns\n",
        "from bs4 import BeautifulSoup as bs\n",
        "from urllib.request import urlopen\n",
        "from scipy import stats\n",
        "\n",
        "# Imports para formatação dos gráficos\n",
        "sns.set_style('whitegrid')\n",
        "%matplotlib inline"
      ]
    },
    {
      "cell_type": "code",
      "execution_count": null,
      "metadata": {
        "colab": {
          "base_uri": "https://localhost:8080/"
        },
        "id": "GZezgSktbFq7",
        "outputId": "fe4b5752-b706-43a2-c09e-1d65ab1f703f"
      },
      "outputs": [
        {
          "output_type": "stream",
          "name": "stdout",
          "text": [
            "Author: Data Science Academy\n",
            "\n",
            "pandas    : 1.3.5\n",
            "requests  : 2.23.0\n",
            "matplotlib: 3.2.2\n",
            "scipy     : 1.7.3\n",
            "pingouin  : 0.5.2\n",
            "re        : 2.2.1\n",
            "seaborn   : 0.11.2\n",
            "numpy     : 1.21.6\n",
            "\n"
          ]
        }
      ],
      "source": [
        "# Versões dos pacotes usados neste jupyter notebook\n",
        "%reload_ext watermark\n",
        "%watermark -a \"Data Science Academy\" --iversions"
      ]
    },
    {
      "cell_type": "markdown",
      "metadata": {
        "id": "dlH5JpOBbFq8"
      },
      "source": [
        "## Web Scraping - Raspagem e ou coleta de dados Não Estruturados (HTML)..."
      ]
    },
    {
      "cell_type": "code",
      "execution_count": null,
      "metadata": {
        "id": "ZLeMPQxtbFq8"
      },
      "outputs": [],
      "source": [
        "# Definindo a URL com o resultado da corrida\n",
        "url = 'https://www.hubertiming.com/results/2017GPTR10K'"
      ]
    },
    {
      "cell_type": "code",
      "execution_count": null,
      "metadata": {
        "id": "jfQee5GQbFq9"
      },
      "outputs": [],
      "source": [
        "# Abre a conexão com a url\n",
        "html = urlopen(url)"
      ]
    },
    {
      "cell_type": "code",
      "execution_count": null,
      "metadata": {
        "id": "xIA-GI5pbFq9"
      },
      "outputs": [],
      "source": [
        "# Extrai o código HTML\n",
        "soup = bs(html,'lxml')"
      ]
    },
    {
      "cell_type": "code",
      "execution_count": null,
      "metadata": {
        "id": "sgzMNKkabFq9"
      },
      "outputs": [],
      "source": [
        "# Extrai o texto do código html\n",
        "texto = soup.get_text()"
      ]
    },
    {
      "cell_type": "code",
      "execution_count": null,
      "metadata": {
        "colab": {
          "base_uri": "https://localhost:8080/"
        },
        "id": "HS1cwuyTbFq-",
        "outputId": "e94105b6-cafb-4e44-be8f-7b031c4f9779"
      },
      "outputs": [
        {
          "output_type": "stream",
          "name": "stdout",
          "text": [
            "[<tr colspan=\"2\">\n",
            "<b>10K:</b>\n",
            "</tr>, <tr>\n",
            "<td>Finishers:</td>\n",
            "<td>577</td>\n",
            "</tr>, <tr>\n",
            "<td>Male:</td>\n",
            "<td>414</td>\n",
            "</tr>, <tr>\n",
            "<td>Female:</td>\n",
            "<td>163</td>\n",
            "</tr>, <tr class=\"header\">\n",
            "<th>Place</th>\n",
            "<th>Bib</th>\n",
            "<th>Name</th>\n",
            "<th>Gender</th>\n",
            "<th>City</th>\n",
            "<th>State</th>\n",
            "<th>Chip Time</th>\n",
            "<th>Gun Time</th>\n",
            "<th>Team</th>\n",
            "</tr>, <tr data-bib=\"814\">\n",
            "<td>1</td>\n",
            "<td>814</td>\n",
            "<td>\r\n",
            "\r\n",
            "                    JARED WILSON\r\n",
            "\r\n",
            "                </td>\n",
            "<td>M</td>\n",
            "<td>TIGARD</td>\n",
            "<td>OR</td>\n",
            "<td>36:21</td>\n",
            "<td>36:24</td>\n",
            "<td></td>\n",
            "</tr>, <tr data-bib=\"573\">\n",
            "<td>2</td>\n",
            "<td>573</td>\n",
            "<td>\r\n",
            "\r\n",
            "                    NATHAN A SUSTERSIC\r\n",
            "\r\n",
            "                </td>\n",
            "<td>M</td>\n",
            "<td>PORTLAND</td>\n",
            "<td>OR</td>\n",
            "<td>36:42</td>\n",
            "<td>36:45</td>\n",
            "<td>\n",
            "<img class=\"lazy teamThumbs\" data-src=\"/teamLogoThumbnail/logo?teamName=INTEL%20TEAM%20F&amp;raceId=1251&amp;state=OR\"/>\r\n",
            "                            INTEL TEAM F\r\n",
            "                        </td>\n",
            "</tr>, <tr data-bib=\"687\">\n",
            "<td>3</td>\n",
            "<td>687</td>\n",
            "<td>\r\n",
            "\r\n",
            "                    FRANCISCO MAYA\r\n",
            "\r\n",
            "                </td>\n",
            "<td>M</td>\n",
            "<td>PORTLAND</td>\n",
            "<td>OR</td>\n",
            "<td>37:44</td>\n",
            "<td>37:48</td>\n",
            "<td></td>\n",
            "</tr>, <tr data-bib=\"623\">\n",
            "<td>4</td>\n",
            "<td>623</td>\n",
            "<td>\r\n",
            "\r\n",
            "                    PAUL MORROW\r\n",
            "\r\n",
            "                </td>\n",
            "<td>M</td>\n",
            "<td>BEAVERTON</td>\n",
            "<td>OR</td>\n",
            "<td>38:34</td>\n",
            "<td>38:37</td>\n",
            "<td></td>\n",
            "</tr>, <tr data-bib=\"569\">\n",
            "<td>5</td>\n",
            "<td>569</td>\n",
            "<td>\r\n",
            "\r\n",
            "                    DEREK G OSBORNE\r\n",
            "\r\n",
            "                </td>\n",
            "<td>M</td>\n",
            "<td>HILLSBORO</td>\n",
            "<td>OR</td>\n",
            "<td>39:21</td>\n",
            "<td>39:24</td>\n",
            "<td>\n",
            "<img class=\"lazy teamThumbs\" data-src=\"/teamLogoThumbnail/logo?teamName=INTEL%20TEAM%20F&amp;raceId=1251&amp;state=OR\"/>\r\n",
            "                            INTEL TEAM F\r\n",
            "                        </td>\n",
            "</tr>, <tr data-bib=\"642\">\n",
            "<td>6</td>\n",
            "<td>642</td>\n",
            "<td>\r\n",
            "\r\n",
            "                    JONATHON TRAN\r\n",
            "\r\n",
            "                </td>\n",
            "<td>M</td>\n",
            "<td>PORTLAND</td>\n",
            "<td>OR</td>\n",
            "<td>39:49</td>\n",
            "<td>39:55</td>\n",
            "<td></td>\n",
            "</tr>, <tr data-bib=\"144\">\n",
            "<td>7</td>\n",
            "<td>144</td>\n",
            "<td>\r\n",
            "\r\n",
            "                    GEORGE TOTONCHY\r\n",
            "\r\n",
            "                </td>\n",
            "<td>M</td>\n",
            "<td>PORTLAND</td>\n",
            "<td>OR</td>\n",
            "<td>40:04</td>\n",
            "<td>40:17</td>\n",
            "<td></td>\n",
            "</tr>, <tr data-bib=\"395\">\n",
            "<td>8</td>\n",
            "<td>395</td>\n",
            "<td>\r\n",
            "\r\n",
            "                    BENJAMIN C CHAFFIN\r\n",
            "\r\n",
            "                </td>\n",
            "<td>M</td>\n",
            "<td>PORTLAND</td>\n",
            "<td>OR</td>\n",
            "<td>40:05</td>\n",
            "<td>40:09</td>\n",
            "<td></td>\n",
            "</tr>, <tr data-bib=\"7\">\n",
            "<td>9</td>\n",
            "<td>7</td>\n",
            "<td>\r\n",
            "\r\n",
            "                    BRANDON THOMAS\r\n",
            "\r\n",
            "                </td>\n",
            "<td>M</td>\n",
            "<td></td>\n",
            "<td></td>\n",
            "<td>40:17</td>\n",
            "<td>40:24</td>\n",
            "<td>\n",
            "<img class=\"lazy teamThumbs\" data-src=\"/teamLogoThumbnail/logo?teamName=COLUMBIA%20TEAM%20B&amp;raceId=1251&amp;state=\"/>\r\n",
            "                            COLUMBIA TEAM B\r\n",
            "                        </td>\n",
            "</tr>, <tr data-bib=\"3\">\n",
            "<td>10</td>\n",
            "<td>3</td>\n",
            "<td>\r\n",
            "\r\n",
            "                    ERIK BJORNSTAD\r\n",
            "\r\n",
            "                </td>\n",
            "<td>M</td>\n",
            "<td></td>\n",
            "<td></td>\n",
            "<td>40:21</td>\n",
            "<td>40:25</td>\n",
            "<td>\n",
            "<img class=\"lazy teamThumbs\" data-src=\"/teamLogoThumbnail/logo?teamName=COLUMBIA%20TEAM%20A&amp;raceId=1251&amp;state=\"/>\r\n",
            "                            COLUMBIA TEAM A\r\n",
            "                        </td>\n",
            "</tr>]\n"
          ]
        }
      ],
      "source": [
        "# Vamos visualizar as 10 primeiras linhas\n",
        "linhas = soup.find_all('tr')\n",
        "print(linhas[:15])"
      ]
    },
    {
      "cell_type": "markdown",
      "metadata": {
        "id": "JSTdGTkPbFq-"
      },
      "source": [
        "## Limpeza e Transformação\n",
        "\n",
        "Agora começa o trabalho pesado. Não fique apenas executando código e compreenda o que está sendo feito. Se tiver dificuldades, pergunte! Temos vários canais de suporte a sua disposição."
      ]
    },
    {
      "cell_type": "markdown",
      "metadata": {
        "id": "-uDxekLJbFq-"
      },
      "source": [
        "Começaremos obtendo todas as linhas da tabela em forma de lista e depois converteremos essa lista em um dataframe para facilitar a manipulação."
      ]
    },
    {
      "cell_type": "code",
      "execution_count": null,
      "metadata": {
        "id": "rbHXzgEVbFq-"
      },
      "outputs": [],
      "source": [
        "# Loop\n",
        "for linha in linhas:\n",
        "    linha_td = linha.find_all('td')"
      ]
    },
    {
      "cell_type": "code",
      "execution_count": null,
      "metadata": {
        "colab": {
          "base_uri": "https://localhost:8080/"
        },
        "id": "IVn_oVJ4bFq_",
        "outputId": "b95f26e3-40f1-4686-db8f-e6c5b7e002c3"
      },
      "outputs": [
        {
          "output_type": "stream",
          "name": "stdout",
          "text": [
            "[<td>577</td>, <td>443</td>, <td>\r\n",
            "\r\n",
            "                    LIBBY B MITCHELL\r\n",
            "\r\n",
            "                </td>, <td>F</td>, <td>HILLSBORO</td>, <td>OR</td>, <td>1:41:18</td>, <td>1:42:10</td>, <td></td>]\n"
          ]
        }
      ],
      "source": [
        "print(linha_td)"
      ]
    },
    {
      "cell_type": "markdown",
      "metadata": {
        "id": "dRwFjx-PbFq_"
      },
      "source": [
        "Com expressões regulares em Python, vamos extrair os dados das tags HTML."
      ]
    },
    {
      "cell_type": "code",
      "execution_count": null,
      "metadata": {
        "id": "a-gv0aehbFq_"
      },
      "outputs": [],
      "source": [
        "# Lista vazia para receber as linhas\n",
        "lista_linhas = []"
      ]
    },
    {
      "cell_type": "code",
      "execution_count": null,
      "metadata": {
        "id": "A5HAwnp3bFq_"
      },
      "outputs": [],
      "source": [
        "# Loop\n",
        "for linha in linhas:\n",
        "    cells = linha.find_all('td')\n",
        "    str_cells = str(cells)\n",
        "    clean = re.compile('<.*?>')\n",
        "    clean2 = (re.sub(clean, '', str_cells))\n",
        "    lista_linhas.append(clean2)"
      ]
    },
    {
      "cell_type": "code",
      "execution_count": null,
      "metadata": {
        "colab": {
          "base_uri": "https://localhost:8080/"
        },
        "id": "RbTHaJDHbFq_",
        "outputId": "a0e93ddb-9b44-410a-a9f9-7119bf9d811e"
      },
      "outputs": [
        {
          "output_type": "stream",
          "name": "stdout",
          "text": [
            "[577, 443, \r\n",
            "\r\n",
            "                    LIBBY B MITCHELL\r\n",
            "\r\n",
            "                , F, HILLSBORO, OR, 1:41:18, 1:42:10, ]\n"
          ]
        }
      ],
      "source": [
        "print(clean2)"
      ]
    },
    {
      "cell_type": "markdown",
      "metadata": {
        "id": "9x9_p6aWbFrA"
      },
      "source": [
        "Convertemos a lista em um dataframe e obtemos uma visão rápida das 10 primeiras linhas usando o Pandas."
      ]
    },
    {
      "cell_type": "code",
      "execution_count": null,
      "metadata": {
        "id": "ViA5jl1mbFrA"
      },
      "outputs": [],
      "source": [
        "# Convertemos a lista em dataframe\n",
        "df = pd.DataFrame(lista_linhas)"
      ]
    },
    {
      "cell_type": "code",
      "execution_count": null,
      "metadata": {
        "colab": {
          "base_uri": "https://localhost:8080/",
          "height": 363
        },
        "id": "jx1jEeJ0bFrA",
        "outputId": "a46f72aa-6109-41a7-cdc9-1d80e56d120c"
      },
      "outputs": [
        {
          "output_type": "execute_result",
          "data": {
            "text/plain": [
              "                                                   0\n",
              "0                                                 []\n",
              "1                                  [Finishers:, 577]\n",
              "2                                       [Male:, 414]\n",
              "3                                     [Female:, 163]\n",
              "4                                                 []\n",
              "5  [1, 814, \\r\\n\\r\\n                    JARED WIL...\n",
              "6  [2, 573, \\r\\n\\r\\n                    NATHAN A ...\n",
              "7  [3, 687, \\r\\n\\r\\n                    FRANCISCO...\n",
              "8  [4, 623, \\r\\n\\r\\n                    PAUL MORR...\n",
              "9  [5, 569, \\r\\n\\r\\n                    DEREK G O..."
            ],
            "text/html": [
              "\n",
              "  <div id=\"df-04fe9c14-06de-4fc9-9600-2f96669c44cb\">\n",
              "    <div class=\"colab-df-container\">\n",
              "      <div>\n",
              "<style scoped>\n",
              "    .dataframe tbody tr th:only-of-type {\n",
              "        vertical-align: middle;\n",
              "    }\n",
              "\n",
              "    .dataframe tbody tr th {\n",
              "        vertical-align: top;\n",
              "    }\n",
              "\n",
              "    .dataframe thead th {\n",
              "        text-align: right;\n",
              "    }\n",
              "</style>\n",
              "<table border=\"1\" class=\"dataframe\">\n",
              "  <thead>\n",
              "    <tr style=\"text-align: right;\">\n",
              "      <th></th>\n",
              "      <th>0</th>\n",
              "    </tr>\n",
              "  </thead>\n",
              "  <tbody>\n",
              "    <tr>\n",
              "      <th>0</th>\n",
              "      <td>[]</td>\n",
              "    </tr>\n",
              "    <tr>\n",
              "      <th>1</th>\n",
              "      <td>[Finishers:, 577]</td>\n",
              "    </tr>\n",
              "    <tr>\n",
              "      <th>2</th>\n",
              "      <td>[Male:, 414]</td>\n",
              "    </tr>\n",
              "    <tr>\n",
              "      <th>3</th>\n",
              "      <td>[Female:, 163]</td>\n",
              "    </tr>\n",
              "    <tr>\n",
              "      <th>4</th>\n",
              "      <td>[]</td>\n",
              "    </tr>\n",
              "    <tr>\n",
              "      <th>5</th>\n",
              "      <td>[1, 814, \\r\\n\\r\\n                    JARED WIL...</td>\n",
              "    </tr>\n",
              "    <tr>\n",
              "      <th>6</th>\n",
              "      <td>[2, 573, \\r\\n\\r\\n                    NATHAN A ...</td>\n",
              "    </tr>\n",
              "    <tr>\n",
              "      <th>7</th>\n",
              "      <td>[3, 687, \\r\\n\\r\\n                    FRANCISCO...</td>\n",
              "    </tr>\n",
              "    <tr>\n",
              "      <th>8</th>\n",
              "      <td>[4, 623, \\r\\n\\r\\n                    PAUL MORR...</td>\n",
              "    </tr>\n",
              "    <tr>\n",
              "      <th>9</th>\n",
              "      <td>[5, 569, \\r\\n\\r\\n                    DEREK G O...</td>\n",
              "    </tr>\n",
              "  </tbody>\n",
              "</table>\n",
              "</div>\n",
              "      <button class=\"colab-df-convert\" onclick=\"convertToInteractive('df-04fe9c14-06de-4fc9-9600-2f96669c44cb')\"\n",
              "              title=\"Convert this dataframe to an interactive table.\"\n",
              "              style=\"display:none;\">\n",
              "        \n",
              "  <svg xmlns=\"http://www.w3.org/2000/svg\" height=\"24px\"viewBox=\"0 0 24 24\"\n",
              "       width=\"24px\">\n",
              "    <path d=\"M0 0h24v24H0V0z\" fill=\"none\"/>\n",
              "    <path d=\"M18.56 5.44l.94 2.06.94-2.06 2.06-.94-2.06-.94-.94-2.06-.94 2.06-2.06.94zm-11 1L8.5 8.5l.94-2.06 2.06-.94-2.06-.94L8.5 2.5l-.94 2.06-2.06.94zm10 10l.94 2.06.94-2.06 2.06-.94-2.06-.94-.94-2.06-.94 2.06-2.06.94z\"/><path d=\"M17.41 7.96l-1.37-1.37c-.4-.4-.92-.59-1.43-.59-.52 0-1.04.2-1.43.59L10.3 9.45l-7.72 7.72c-.78.78-.78 2.05 0 2.83L4 21.41c.39.39.9.59 1.41.59.51 0 1.02-.2 1.41-.59l7.78-7.78 2.81-2.81c.8-.78.8-2.07 0-2.86zM5.41 20L4 18.59l7.72-7.72 1.47 1.35L5.41 20z\"/>\n",
              "  </svg>\n",
              "      </button>\n",
              "      \n",
              "  <style>\n",
              "    .colab-df-container {\n",
              "      display:flex;\n",
              "      flex-wrap:wrap;\n",
              "      gap: 12px;\n",
              "    }\n",
              "\n",
              "    .colab-df-convert {\n",
              "      background-color: #E8F0FE;\n",
              "      border: none;\n",
              "      border-radius: 50%;\n",
              "      cursor: pointer;\n",
              "      display: none;\n",
              "      fill: #1967D2;\n",
              "      height: 32px;\n",
              "      padding: 0 0 0 0;\n",
              "      width: 32px;\n",
              "    }\n",
              "\n",
              "    .colab-df-convert:hover {\n",
              "      background-color: #E2EBFA;\n",
              "      box-shadow: 0px 1px 2px rgba(60, 64, 67, 0.3), 0px 1px 3px 1px rgba(60, 64, 67, 0.15);\n",
              "      fill: #174EA6;\n",
              "    }\n",
              "\n",
              "    [theme=dark] .colab-df-convert {\n",
              "      background-color: #3B4455;\n",
              "      fill: #D2E3FC;\n",
              "    }\n",
              "\n",
              "    [theme=dark] .colab-df-convert:hover {\n",
              "      background-color: #434B5C;\n",
              "      box-shadow: 0px 1px 3px 1px rgba(0, 0, 0, 0.15);\n",
              "      filter: drop-shadow(0px 1px 2px rgba(0, 0, 0, 0.3));\n",
              "      fill: #FFFFFF;\n",
              "    }\n",
              "  </style>\n",
              "\n",
              "      <script>\n",
              "        const buttonEl =\n",
              "          document.querySelector('#df-04fe9c14-06de-4fc9-9600-2f96669c44cb button.colab-df-convert');\n",
              "        buttonEl.style.display =\n",
              "          google.colab.kernel.accessAllowed ? 'block' : 'none';\n",
              "\n",
              "        async function convertToInteractive(key) {\n",
              "          const element = document.querySelector('#df-04fe9c14-06de-4fc9-9600-2f96669c44cb');\n",
              "          const dataTable =\n",
              "            await google.colab.kernel.invokeFunction('convertToInteractive',\n",
              "                                                     [key], {});\n",
              "          if (!dataTable) return;\n",
              "\n",
              "          const docLinkHtml = 'Like what you see? Visit the ' +\n",
              "            '<a target=\"_blank\" href=https://colab.research.google.com/notebooks/data_table.ipynb>data table notebook</a>'\n",
              "            + ' to learn more about interactive tables.';\n",
              "          element.innerHTML = '';\n",
              "          dataTable['output_type'] = 'display_data';\n",
              "          await google.colab.output.renderOutput(dataTable, element);\n",
              "          const docLink = document.createElement('div');\n",
              "          docLink.innerHTML = docLinkHtml;\n",
              "          element.appendChild(docLink);\n",
              "        }\n",
              "      </script>\n",
              "    </div>\n",
              "  </div>\n",
              "  "
            ]
          },
          "metadata": {},
          "execution_count": 47
        }
      ],
      "source": [
        "df.head(10)"
      ]
    },
    {
      "cell_type": "markdown",
      "metadata": {
        "id": "yF5kRRaVbFrA"
      },
      "source": [
        "Claramente precisamos limpar os dados. Vamos ao trabalho."
      ]
    },
    {
      "cell_type": "code",
      "execution_count": null,
      "metadata": {
        "id": "4xtAo7NebFrA"
      },
      "outputs": [],
      "source": [
        "# Dividindo cada linha e separando os dados a cada vírgula\n",
        "df1 = df[0].str.split(',', expand = True)"
      ]
    },
    {
      "cell_type": "code",
      "execution_count": null,
      "metadata": {
        "colab": {
          "base_uri": "https://localhost:8080/",
          "height": 363
        },
        "id": "S3Sl90OAbFrA",
        "outputId": "e74842c5-87d4-4e32-db32-c73c831e151d"
      },
      "outputs": [
        {
          "output_type": "execute_result",
          "data": {
            "text/plain": [
              "             0      1                                                  2  \\\n",
              "0           []   None                                               None   \n",
              "1  [Finishers:   577]                                               None   \n",
              "2       [Male:   414]                                               None   \n",
              "3     [Female:   163]                                               None   \n",
              "4           []   None                                               None   \n",
              "5           [1    814   \\r\\n\\r\\n                    JARED WILSON\\r\\n\\...   \n",
              "6           [2    573   \\r\\n\\r\\n                    NATHAN A SUSTERSI...   \n",
              "7           [3    687   \\r\\n\\r\\n                    FRANCISCO MAYA\\r\\...   \n",
              "8           [4    623   \\r\\n\\r\\n                    PAUL MORROW\\r\\n\\r...   \n",
              "9           [5    569   \\r\\n\\r\\n                    DEREK G OSBORNE\\r...   \n",
              "\n",
              "      3           4     5       6       7  \\\n",
              "0  None        None  None    None    None   \n",
              "1  None        None  None    None    None   \n",
              "2  None        None  None    None    None   \n",
              "3  None        None  None    None    None   \n",
              "4  None        None  None    None    None   \n",
              "5     M      TIGARD    OR   36:21   36:24   \n",
              "6     M    PORTLAND    OR   36:42   36:45   \n",
              "7     M    PORTLAND    OR   37:44   37:48   \n",
              "8     M   BEAVERTON    OR   38:34   38:37   \n",
              "9     M   HILLSBORO    OR   39:21   39:24   \n",
              "\n",
              "                                                   8  \n",
              "0                                               None  \n",
              "1                                               None  \n",
              "2                                               None  \n",
              "3                                               None  \n",
              "4                                               None  \n",
              "5                                                  ]  \n",
              "6   \\n\\r\\n                            INTEL TEAM ...  \n",
              "7                                                  ]  \n",
              "8                                                  ]  \n",
              "9   \\n\\r\\n                            INTEL TEAM ...  "
            ],
            "text/html": [
              "\n",
              "  <div id=\"df-dcf8fd82-91a9-4502-8884-09ae550dbf21\">\n",
              "    <div class=\"colab-df-container\">\n",
              "      <div>\n",
              "<style scoped>\n",
              "    .dataframe tbody tr th:only-of-type {\n",
              "        vertical-align: middle;\n",
              "    }\n",
              "\n",
              "    .dataframe tbody tr th {\n",
              "        vertical-align: top;\n",
              "    }\n",
              "\n",
              "    .dataframe thead th {\n",
              "        text-align: right;\n",
              "    }\n",
              "</style>\n",
              "<table border=\"1\" class=\"dataframe\">\n",
              "  <thead>\n",
              "    <tr style=\"text-align: right;\">\n",
              "      <th></th>\n",
              "      <th>0</th>\n",
              "      <th>1</th>\n",
              "      <th>2</th>\n",
              "      <th>3</th>\n",
              "      <th>4</th>\n",
              "      <th>5</th>\n",
              "      <th>6</th>\n",
              "      <th>7</th>\n",
              "      <th>8</th>\n",
              "    </tr>\n",
              "  </thead>\n",
              "  <tbody>\n",
              "    <tr>\n",
              "      <th>0</th>\n",
              "      <td>[]</td>\n",
              "      <td>None</td>\n",
              "      <td>None</td>\n",
              "      <td>None</td>\n",
              "      <td>None</td>\n",
              "      <td>None</td>\n",
              "      <td>None</td>\n",
              "      <td>None</td>\n",
              "      <td>None</td>\n",
              "    </tr>\n",
              "    <tr>\n",
              "      <th>1</th>\n",
              "      <td>[Finishers:</td>\n",
              "      <td>577]</td>\n",
              "      <td>None</td>\n",
              "      <td>None</td>\n",
              "      <td>None</td>\n",
              "      <td>None</td>\n",
              "      <td>None</td>\n",
              "      <td>None</td>\n",
              "      <td>None</td>\n",
              "    </tr>\n",
              "    <tr>\n",
              "      <th>2</th>\n",
              "      <td>[Male:</td>\n",
              "      <td>414]</td>\n",
              "      <td>None</td>\n",
              "      <td>None</td>\n",
              "      <td>None</td>\n",
              "      <td>None</td>\n",
              "      <td>None</td>\n",
              "      <td>None</td>\n",
              "      <td>None</td>\n",
              "    </tr>\n",
              "    <tr>\n",
              "      <th>3</th>\n",
              "      <td>[Female:</td>\n",
              "      <td>163]</td>\n",
              "      <td>None</td>\n",
              "      <td>None</td>\n",
              "      <td>None</td>\n",
              "      <td>None</td>\n",
              "      <td>None</td>\n",
              "      <td>None</td>\n",
              "      <td>None</td>\n",
              "    </tr>\n",
              "    <tr>\n",
              "      <th>4</th>\n",
              "      <td>[]</td>\n",
              "      <td>None</td>\n",
              "      <td>None</td>\n",
              "      <td>None</td>\n",
              "      <td>None</td>\n",
              "      <td>None</td>\n",
              "      <td>None</td>\n",
              "      <td>None</td>\n",
              "      <td>None</td>\n",
              "    </tr>\n",
              "    <tr>\n",
              "      <th>5</th>\n",
              "      <td>[1</td>\n",
              "      <td>814</td>\n",
              "      <td>\\r\\n\\r\\n                    JARED WILSON\\r\\n\\...</td>\n",
              "      <td>M</td>\n",
              "      <td>TIGARD</td>\n",
              "      <td>OR</td>\n",
              "      <td>36:21</td>\n",
              "      <td>36:24</td>\n",
              "      <td>]</td>\n",
              "    </tr>\n",
              "    <tr>\n",
              "      <th>6</th>\n",
              "      <td>[2</td>\n",
              "      <td>573</td>\n",
              "      <td>\\r\\n\\r\\n                    NATHAN A SUSTERSI...</td>\n",
              "      <td>M</td>\n",
              "      <td>PORTLAND</td>\n",
              "      <td>OR</td>\n",
              "      <td>36:42</td>\n",
              "      <td>36:45</td>\n",
              "      <td>\\n\\r\\n                            INTEL TEAM ...</td>\n",
              "    </tr>\n",
              "    <tr>\n",
              "      <th>7</th>\n",
              "      <td>[3</td>\n",
              "      <td>687</td>\n",
              "      <td>\\r\\n\\r\\n                    FRANCISCO MAYA\\r\\...</td>\n",
              "      <td>M</td>\n",
              "      <td>PORTLAND</td>\n",
              "      <td>OR</td>\n",
              "      <td>37:44</td>\n",
              "      <td>37:48</td>\n",
              "      <td>]</td>\n",
              "    </tr>\n",
              "    <tr>\n",
              "      <th>8</th>\n",
              "      <td>[4</td>\n",
              "      <td>623</td>\n",
              "      <td>\\r\\n\\r\\n                    PAUL MORROW\\r\\n\\r...</td>\n",
              "      <td>M</td>\n",
              "      <td>BEAVERTON</td>\n",
              "      <td>OR</td>\n",
              "      <td>38:34</td>\n",
              "      <td>38:37</td>\n",
              "      <td>]</td>\n",
              "    </tr>\n",
              "    <tr>\n",
              "      <th>9</th>\n",
              "      <td>[5</td>\n",
              "      <td>569</td>\n",
              "      <td>\\r\\n\\r\\n                    DEREK G OSBORNE\\r...</td>\n",
              "      <td>M</td>\n",
              "      <td>HILLSBORO</td>\n",
              "      <td>OR</td>\n",
              "      <td>39:21</td>\n",
              "      <td>39:24</td>\n",
              "      <td>\\n\\r\\n                            INTEL TEAM ...</td>\n",
              "    </tr>\n",
              "  </tbody>\n",
              "</table>\n",
              "</div>\n",
              "      <button class=\"colab-df-convert\" onclick=\"convertToInteractive('df-dcf8fd82-91a9-4502-8884-09ae550dbf21')\"\n",
              "              title=\"Convert this dataframe to an interactive table.\"\n",
              "              style=\"display:none;\">\n",
              "        \n",
              "  <svg xmlns=\"http://www.w3.org/2000/svg\" height=\"24px\"viewBox=\"0 0 24 24\"\n",
              "       width=\"24px\">\n",
              "    <path d=\"M0 0h24v24H0V0z\" fill=\"none\"/>\n",
              "    <path d=\"M18.56 5.44l.94 2.06.94-2.06 2.06-.94-2.06-.94-.94-2.06-.94 2.06-2.06.94zm-11 1L8.5 8.5l.94-2.06 2.06-.94-2.06-.94L8.5 2.5l-.94 2.06-2.06.94zm10 10l.94 2.06.94-2.06 2.06-.94-2.06-.94-.94-2.06-.94 2.06-2.06.94z\"/><path d=\"M17.41 7.96l-1.37-1.37c-.4-.4-.92-.59-1.43-.59-.52 0-1.04.2-1.43.59L10.3 9.45l-7.72 7.72c-.78.78-.78 2.05 0 2.83L4 21.41c.39.39.9.59 1.41.59.51 0 1.02-.2 1.41-.59l7.78-7.78 2.81-2.81c.8-.78.8-2.07 0-2.86zM5.41 20L4 18.59l7.72-7.72 1.47 1.35L5.41 20z\"/>\n",
              "  </svg>\n",
              "      </button>\n",
              "      \n",
              "  <style>\n",
              "    .colab-df-container {\n",
              "      display:flex;\n",
              "      flex-wrap:wrap;\n",
              "      gap: 12px;\n",
              "    }\n",
              "\n",
              "    .colab-df-convert {\n",
              "      background-color: #E8F0FE;\n",
              "      border: none;\n",
              "      border-radius: 50%;\n",
              "      cursor: pointer;\n",
              "      display: none;\n",
              "      fill: #1967D2;\n",
              "      height: 32px;\n",
              "      padding: 0 0 0 0;\n",
              "      width: 32px;\n",
              "    }\n",
              "\n",
              "    .colab-df-convert:hover {\n",
              "      background-color: #E2EBFA;\n",
              "      box-shadow: 0px 1px 2px rgba(60, 64, 67, 0.3), 0px 1px 3px 1px rgba(60, 64, 67, 0.15);\n",
              "      fill: #174EA6;\n",
              "    }\n",
              "\n",
              "    [theme=dark] .colab-df-convert {\n",
              "      background-color: #3B4455;\n",
              "      fill: #D2E3FC;\n",
              "    }\n",
              "\n",
              "    [theme=dark] .colab-df-convert:hover {\n",
              "      background-color: #434B5C;\n",
              "      box-shadow: 0px 1px 3px 1px rgba(0, 0, 0, 0.15);\n",
              "      filter: drop-shadow(0px 1px 2px rgba(0, 0, 0, 0.3));\n",
              "      fill: #FFFFFF;\n",
              "    }\n",
              "  </style>\n",
              "\n",
              "      <script>\n",
              "        const buttonEl =\n",
              "          document.querySelector('#df-dcf8fd82-91a9-4502-8884-09ae550dbf21 button.colab-df-convert');\n",
              "        buttonEl.style.display =\n",
              "          google.colab.kernel.accessAllowed ? 'block' : 'none';\n",
              "\n",
              "        async function convertToInteractive(key) {\n",
              "          const element = document.querySelector('#df-dcf8fd82-91a9-4502-8884-09ae550dbf21');\n",
              "          const dataTable =\n",
              "            await google.colab.kernel.invokeFunction('convertToInteractive',\n",
              "                                                     [key], {});\n",
              "          if (!dataTable) return;\n",
              "\n",
              "          const docLinkHtml = 'Like what you see? Visit the ' +\n",
              "            '<a target=\"_blank\" href=https://colab.research.google.com/notebooks/data_table.ipynb>data table notebook</a>'\n",
              "            + ' to learn more about interactive tables.';\n",
              "          element.innerHTML = '';\n",
              "          dataTable['output_type'] = 'display_data';\n",
              "          await google.colab.output.renderOutput(dataTable, element);\n",
              "          const docLink = document.createElement('div');\n",
              "          docLink.innerHTML = docLinkHtml;\n",
              "          element.appendChild(docLink);\n",
              "        }\n",
              "      </script>\n",
              "    </div>\n",
              "  </div>\n",
              "  "
            ]
          },
          "metadata": {},
          "execution_count": 20
        }
      ],
      "source": [
        "df1.head(10)"
      ]
    },
    {
      "cell_type": "markdown",
      "metadata": {
        "id": "bNwEuDDWbFrB"
      },
      "source": [
        "Está começando a ficar bonito. Vamos fazer mais algumas limpezas. Leia e compreenda o código. Se tiver dúvidas, pergunte (embora isso não deva ser novidade se você fez o curso gratuito de <a href=\"https://www.datascienceacademy.com.br/course?courseid=python-fundamentos\">Python Fundamentos</a> aqui na DSA)."
      ]
    },
    {
      "cell_type": "code",
      "execution_count": null,
      "metadata": {
        "scrolled": true,
        "id": "ZRD430zZbFrB"
      },
      "outputs": [],
      "source": [
        "# Removemos colchetes de abertura (lado esquerdo) do texto\n",
        "df1[0] = df1[0].str.strip('[')"
      ]
    },
    {
      "cell_type": "code",
      "execution_count": null,
      "metadata": {
        "colab": {
          "base_uri": "https://localhost:8080/",
          "height": 363
        },
        "id": "nbYyM_M2bFrB",
        "outputId": "51e1494a-128d-4625-c513-e64c0212985f"
      },
      "outputs": [
        {
          "output_type": "execute_result",
          "data": {
            "text/plain": [
              "            0      1                                                  2     3  \\\n",
              "0           ]   None                                               None  None   \n",
              "1  Finishers:   577]                                               None  None   \n",
              "2       Male:   414]                                               None  None   \n",
              "3     Female:   163]                                               None  None   \n",
              "4           ]   None                                               None  None   \n",
              "5           1    814   \\r\\n\\r\\n                    JARED WILSON\\r\\n\\...     M   \n",
              "6           2    573   \\r\\n\\r\\n                    NATHAN A SUSTERSI...     M   \n",
              "7           3    687   \\r\\n\\r\\n                    FRANCISCO MAYA\\r\\...     M   \n",
              "8           4    623   \\r\\n\\r\\n                    PAUL MORROW\\r\\n\\r...     M   \n",
              "9           5    569   \\r\\n\\r\\n                    DEREK G OSBORNE\\r...     M   \n",
              "\n",
              "            4     5       6       7  \\\n",
              "0        None  None    None    None   \n",
              "1        None  None    None    None   \n",
              "2        None  None    None    None   \n",
              "3        None  None    None    None   \n",
              "4        None  None    None    None   \n",
              "5      TIGARD    OR   36:21   36:24   \n",
              "6    PORTLAND    OR   36:42   36:45   \n",
              "7    PORTLAND    OR   37:44   37:48   \n",
              "8   BEAVERTON    OR   38:34   38:37   \n",
              "9   HILLSBORO    OR   39:21   39:24   \n",
              "\n",
              "                                                   8  \n",
              "0                                               None  \n",
              "1                                               None  \n",
              "2                                               None  \n",
              "3                                               None  \n",
              "4                                               None  \n",
              "5                                                  ]  \n",
              "6   \\n\\r\\n                            INTEL TEAM ...  \n",
              "7                                                  ]  \n",
              "8                                                  ]  \n",
              "9   \\n\\r\\n                            INTEL TEAM ...  "
            ],
            "text/html": [
              "\n",
              "  <div id=\"df-9c63a6a8-ed2c-4397-a63d-c0d79ff96e1a\">\n",
              "    <div class=\"colab-df-container\">\n",
              "      <div>\n",
              "<style scoped>\n",
              "    .dataframe tbody tr th:only-of-type {\n",
              "        vertical-align: middle;\n",
              "    }\n",
              "\n",
              "    .dataframe tbody tr th {\n",
              "        vertical-align: top;\n",
              "    }\n",
              "\n",
              "    .dataframe thead th {\n",
              "        text-align: right;\n",
              "    }\n",
              "</style>\n",
              "<table border=\"1\" class=\"dataframe\">\n",
              "  <thead>\n",
              "    <tr style=\"text-align: right;\">\n",
              "      <th></th>\n",
              "      <th>0</th>\n",
              "      <th>1</th>\n",
              "      <th>2</th>\n",
              "      <th>3</th>\n",
              "      <th>4</th>\n",
              "      <th>5</th>\n",
              "      <th>6</th>\n",
              "      <th>7</th>\n",
              "      <th>8</th>\n",
              "    </tr>\n",
              "  </thead>\n",
              "  <tbody>\n",
              "    <tr>\n",
              "      <th>0</th>\n",
              "      <td>]</td>\n",
              "      <td>None</td>\n",
              "      <td>None</td>\n",
              "      <td>None</td>\n",
              "      <td>None</td>\n",
              "      <td>None</td>\n",
              "      <td>None</td>\n",
              "      <td>None</td>\n",
              "      <td>None</td>\n",
              "    </tr>\n",
              "    <tr>\n",
              "      <th>1</th>\n",
              "      <td>Finishers:</td>\n",
              "      <td>577]</td>\n",
              "      <td>None</td>\n",
              "      <td>None</td>\n",
              "      <td>None</td>\n",
              "      <td>None</td>\n",
              "      <td>None</td>\n",
              "      <td>None</td>\n",
              "      <td>None</td>\n",
              "    </tr>\n",
              "    <tr>\n",
              "      <th>2</th>\n",
              "      <td>Male:</td>\n",
              "      <td>414]</td>\n",
              "      <td>None</td>\n",
              "      <td>None</td>\n",
              "      <td>None</td>\n",
              "      <td>None</td>\n",
              "      <td>None</td>\n",
              "      <td>None</td>\n",
              "      <td>None</td>\n",
              "    </tr>\n",
              "    <tr>\n",
              "      <th>3</th>\n",
              "      <td>Female:</td>\n",
              "      <td>163]</td>\n",
              "      <td>None</td>\n",
              "      <td>None</td>\n",
              "      <td>None</td>\n",
              "      <td>None</td>\n",
              "      <td>None</td>\n",
              "      <td>None</td>\n",
              "      <td>None</td>\n",
              "    </tr>\n",
              "    <tr>\n",
              "      <th>4</th>\n",
              "      <td>]</td>\n",
              "      <td>None</td>\n",
              "      <td>None</td>\n",
              "      <td>None</td>\n",
              "      <td>None</td>\n",
              "      <td>None</td>\n",
              "      <td>None</td>\n",
              "      <td>None</td>\n",
              "      <td>None</td>\n",
              "    </tr>\n",
              "    <tr>\n",
              "      <th>5</th>\n",
              "      <td>1</td>\n",
              "      <td>814</td>\n",
              "      <td>\\r\\n\\r\\n                    JARED WILSON\\r\\n\\...</td>\n",
              "      <td>M</td>\n",
              "      <td>TIGARD</td>\n",
              "      <td>OR</td>\n",
              "      <td>36:21</td>\n",
              "      <td>36:24</td>\n",
              "      <td>]</td>\n",
              "    </tr>\n",
              "    <tr>\n",
              "      <th>6</th>\n",
              "      <td>2</td>\n",
              "      <td>573</td>\n",
              "      <td>\\r\\n\\r\\n                    NATHAN A SUSTERSI...</td>\n",
              "      <td>M</td>\n",
              "      <td>PORTLAND</td>\n",
              "      <td>OR</td>\n",
              "      <td>36:42</td>\n",
              "      <td>36:45</td>\n",
              "      <td>\\n\\r\\n                            INTEL TEAM ...</td>\n",
              "    </tr>\n",
              "    <tr>\n",
              "      <th>7</th>\n",
              "      <td>3</td>\n",
              "      <td>687</td>\n",
              "      <td>\\r\\n\\r\\n                    FRANCISCO MAYA\\r\\...</td>\n",
              "      <td>M</td>\n",
              "      <td>PORTLAND</td>\n",
              "      <td>OR</td>\n",
              "      <td>37:44</td>\n",
              "      <td>37:48</td>\n",
              "      <td>]</td>\n",
              "    </tr>\n",
              "    <tr>\n",
              "      <th>8</th>\n",
              "      <td>4</td>\n",
              "      <td>623</td>\n",
              "      <td>\\r\\n\\r\\n                    PAUL MORROW\\r\\n\\r...</td>\n",
              "      <td>M</td>\n",
              "      <td>BEAVERTON</td>\n",
              "      <td>OR</td>\n",
              "      <td>38:34</td>\n",
              "      <td>38:37</td>\n",
              "      <td>]</td>\n",
              "    </tr>\n",
              "    <tr>\n",
              "      <th>9</th>\n",
              "      <td>5</td>\n",
              "      <td>569</td>\n",
              "      <td>\\r\\n\\r\\n                    DEREK G OSBORNE\\r...</td>\n",
              "      <td>M</td>\n",
              "      <td>HILLSBORO</td>\n",
              "      <td>OR</td>\n",
              "      <td>39:21</td>\n",
              "      <td>39:24</td>\n",
              "      <td>\\n\\r\\n                            INTEL TEAM ...</td>\n",
              "    </tr>\n",
              "  </tbody>\n",
              "</table>\n",
              "</div>\n",
              "      <button class=\"colab-df-convert\" onclick=\"convertToInteractive('df-9c63a6a8-ed2c-4397-a63d-c0d79ff96e1a')\"\n",
              "              title=\"Convert this dataframe to an interactive table.\"\n",
              "              style=\"display:none;\">\n",
              "        \n",
              "  <svg xmlns=\"http://www.w3.org/2000/svg\" height=\"24px\"viewBox=\"0 0 24 24\"\n",
              "       width=\"24px\">\n",
              "    <path d=\"M0 0h24v24H0V0z\" fill=\"none\"/>\n",
              "    <path d=\"M18.56 5.44l.94 2.06.94-2.06 2.06-.94-2.06-.94-.94-2.06-.94 2.06-2.06.94zm-11 1L8.5 8.5l.94-2.06 2.06-.94-2.06-.94L8.5 2.5l-.94 2.06-2.06.94zm10 10l.94 2.06.94-2.06 2.06-.94-2.06-.94-.94-2.06-.94 2.06-2.06.94z\"/><path d=\"M17.41 7.96l-1.37-1.37c-.4-.4-.92-.59-1.43-.59-.52 0-1.04.2-1.43.59L10.3 9.45l-7.72 7.72c-.78.78-.78 2.05 0 2.83L4 21.41c.39.39.9.59 1.41.59.51 0 1.02-.2 1.41-.59l7.78-7.78 2.81-2.81c.8-.78.8-2.07 0-2.86zM5.41 20L4 18.59l7.72-7.72 1.47 1.35L5.41 20z\"/>\n",
              "  </svg>\n",
              "      </button>\n",
              "      \n",
              "  <style>\n",
              "    .colab-df-container {\n",
              "      display:flex;\n",
              "      flex-wrap:wrap;\n",
              "      gap: 12px;\n",
              "    }\n",
              "\n",
              "    .colab-df-convert {\n",
              "      background-color: #E8F0FE;\n",
              "      border: none;\n",
              "      border-radius: 50%;\n",
              "      cursor: pointer;\n",
              "      display: none;\n",
              "      fill: #1967D2;\n",
              "      height: 32px;\n",
              "      padding: 0 0 0 0;\n",
              "      width: 32px;\n",
              "    }\n",
              "\n",
              "    .colab-df-convert:hover {\n",
              "      background-color: #E2EBFA;\n",
              "      box-shadow: 0px 1px 2px rgba(60, 64, 67, 0.3), 0px 1px 3px 1px rgba(60, 64, 67, 0.15);\n",
              "      fill: #174EA6;\n",
              "    }\n",
              "\n",
              "    [theme=dark] .colab-df-convert {\n",
              "      background-color: #3B4455;\n",
              "      fill: #D2E3FC;\n",
              "    }\n",
              "\n",
              "    [theme=dark] .colab-df-convert:hover {\n",
              "      background-color: #434B5C;\n",
              "      box-shadow: 0px 1px 3px 1px rgba(0, 0, 0, 0.15);\n",
              "      filter: drop-shadow(0px 1px 2px rgba(0, 0, 0, 0.3));\n",
              "      fill: #FFFFFF;\n",
              "    }\n",
              "  </style>\n",
              "\n",
              "      <script>\n",
              "        const buttonEl =\n",
              "          document.querySelector('#df-9c63a6a8-ed2c-4397-a63d-c0d79ff96e1a button.colab-df-convert');\n",
              "        buttonEl.style.display =\n",
              "          google.colab.kernel.accessAllowed ? 'block' : 'none';\n",
              "\n",
              "        async function convertToInteractive(key) {\n",
              "          const element = document.querySelector('#df-9c63a6a8-ed2c-4397-a63d-c0d79ff96e1a');\n",
              "          const dataTable =\n",
              "            await google.colab.kernel.invokeFunction('convertToInteractive',\n",
              "                                                     [key], {});\n",
              "          if (!dataTable) return;\n",
              "\n",
              "          const docLinkHtml = 'Like what you see? Visit the ' +\n",
              "            '<a target=\"_blank\" href=https://colab.research.google.com/notebooks/data_table.ipynb>data table notebook</a>'\n",
              "            + ' to learn more about interactive tables.';\n",
              "          element.innerHTML = '';\n",
              "          dataTable['output_type'] = 'display_data';\n",
              "          await google.colab.output.renderOutput(dataTable, element);\n",
              "          const docLink = document.createElement('div');\n",
              "          docLink.innerHTML = docLinkHtml;\n",
              "          element.appendChild(docLink);\n",
              "        }\n",
              "      </script>\n",
              "    </div>\n",
              "  </div>\n",
              "  "
            ]
          },
          "metadata": {},
          "execution_count": 22
        }
      ],
      "source": [
        "df1.head(10)"
      ]
    },
    {
      "cell_type": "code",
      "execution_count": null,
      "metadata": {
        "id": "khWC-qLqbFrB"
      },
      "outputs": [],
      "source": [
        "# Extraímos o cabeçalho de todas as tabelas no código HTML\n",
        "col_labels = soup.find_all('th')"
      ]
    },
    {
      "cell_type": "code",
      "execution_count": null,
      "metadata": {
        "colab": {
          "base_uri": "https://localhost:8080/"
        },
        "id": "GsW6d6eGbFrB",
        "outputId": "5ef97965-f7c6-4aa7-9b33-66958c03a128"
      },
      "outputs": [
        {
          "output_type": "execute_result",
          "data": {
            "text/plain": [
              "[<th>Place</th>,\n",
              " <th>Bib</th>,\n",
              " <th>Name</th>,\n",
              " <th>Gender</th>,\n",
              " <th>City</th>,\n",
              " <th>State</th>,\n",
              " <th>Chip Time</th>,\n",
              " <th>Gun Time</th>,\n",
              " <th>Team</th>]"
            ]
          },
          "metadata": {},
          "execution_count": 24
        }
      ],
      "source": [
        "col_labels"
      ]
    },
    {
      "cell_type": "code",
      "execution_count": null,
      "metadata": {
        "id": "0y6qIW3VbFrC"
      },
      "outputs": [],
      "source": [
        "# Extraímos texto entre tags html dos cabeçalhos de tabela (extraímos o nome)\n",
        "all_header = []\n",
        "col_str = str(col_labels)\n",
        "cleantext2 = bs(col_str, \"lxml\").get_text()\n",
        "all_header.append(cleantext2)"
      ]
    },
    {
      "cell_type": "code",
      "execution_count": null,
      "metadata": {
        "colab": {
          "base_uri": "https://localhost:8080/"
        },
        "id": "-O0zhKsgbFrC",
        "outputId": "9b5a5ed6-b06e-44bb-da5a-a2f0904649b9"
      },
      "outputs": [
        {
          "output_type": "stream",
          "name": "stdout",
          "text": [
            "['[Place, Bib, Name, Gender, City, State, Chip Time, Gun Time, Team]']\n"
          ]
        }
      ],
      "source": [
        "print(all_header)"
      ]
    },
    {
      "cell_type": "code",
      "execution_count": null,
      "metadata": {
        "id": "xzviY8ZobFrC"
      },
      "outputs": [],
      "source": [
        "# Convertendo a lista de cabeçalhos em um dataframe do pandas\n",
        "df2 = pd.DataFrame(all_header)"
      ]
    },
    {
      "cell_type": "code",
      "execution_count": null,
      "metadata": {
        "colab": {
          "base_uri": "https://localhost:8080/",
          "height": 81
        },
        "id": "vB8f0qdwbFrC",
        "outputId": "347552af-70ae-458c-a3b9-c6a75c1b7a29"
      },
      "outputs": [
        {
          "output_type": "execute_result",
          "data": {
            "text/plain": [
              "                                                   0\n",
              "0  [Place, Bib, Name, Gender, City, State, Chip T..."
            ],
            "text/html": [
              "\n",
              "  <div id=\"df-7047e124-47a2-48d3-96c7-056b7a5f1849\">\n",
              "    <div class=\"colab-df-container\">\n",
              "      <div>\n",
              "<style scoped>\n",
              "    .dataframe tbody tr th:only-of-type {\n",
              "        vertical-align: middle;\n",
              "    }\n",
              "\n",
              "    .dataframe tbody tr th {\n",
              "        vertical-align: top;\n",
              "    }\n",
              "\n",
              "    .dataframe thead th {\n",
              "        text-align: right;\n",
              "    }\n",
              "</style>\n",
              "<table border=\"1\" class=\"dataframe\">\n",
              "  <thead>\n",
              "    <tr style=\"text-align: right;\">\n",
              "      <th></th>\n",
              "      <th>0</th>\n",
              "    </tr>\n",
              "  </thead>\n",
              "  <tbody>\n",
              "    <tr>\n",
              "      <th>0</th>\n",
              "      <td>[Place, Bib, Name, Gender, City, State, Chip T...</td>\n",
              "    </tr>\n",
              "  </tbody>\n",
              "</table>\n",
              "</div>\n",
              "      <button class=\"colab-df-convert\" onclick=\"convertToInteractive('df-7047e124-47a2-48d3-96c7-056b7a5f1849')\"\n",
              "              title=\"Convert this dataframe to an interactive table.\"\n",
              "              style=\"display:none;\">\n",
              "        \n",
              "  <svg xmlns=\"http://www.w3.org/2000/svg\" height=\"24px\"viewBox=\"0 0 24 24\"\n",
              "       width=\"24px\">\n",
              "    <path d=\"M0 0h24v24H0V0z\" fill=\"none\"/>\n",
              "    <path d=\"M18.56 5.44l.94 2.06.94-2.06 2.06-.94-2.06-.94-.94-2.06-.94 2.06-2.06.94zm-11 1L8.5 8.5l.94-2.06 2.06-.94-2.06-.94L8.5 2.5l-.94 2.06-2.06.94zm10 10l.94 2.06.94-2.06 2.06-.94-2.06-.94-.94-2.06-.94 2.06-2.06.94z\"/><path d=\"M17.41 7.96l-1.37-1.37c-.4-.4-.92-.59-1.43-.59-.52 0-1.04.2-1.43.59L10.3 9.45l-7.72 7.72c-.78.78-.78 2.05 0 2.83L4 21.41c.39.39.9.59 1.41.59.51 0 1.02-.2 1.41-.59l7.78-7.78 2.81-2.81c.8-.78.8-2.07 0-2.86zM5.41 20L4 18.59l7.72-7.72 1.47 1.35L5.41 20z\"/>\n",
              "  </svg>\n",
              "      </button>\n",
              "      \n",
              "  <style>\n",
              "    .colab-df-container {\n",
              "      display:flex;\n",
              "      flex-wrap:wrap;\n",
              "      gap: 12px;\n",
              "    }\n",
              "\n",
              "    .colab-df-convert {\n",
              "      background-color: #E8F0FE;\n",
              "      border: none;\n",
              "      border-radius: 50%;\n",
              "      cursor: pointer;\n",
              "      display: none;\n",
              "      fill: #1967D2;\n",
              "      height: 32px;\n",
              "      padding: 0 0 0 0;\n",
              "      width: 32px;\n",
              "    }\n",
              "\n",
              "    .colab-df-convert:hover {\n",
              "      background-color: #E2EBFA;\n",
              "      box-shadow: 0px 1px 2px rgba(60, 64, 67, 0.3), 0px 1px 3px 1px rgba(60, 64, 67, 0.15);\n",
              "      fill: #174EA6;\n",
              "    }\n",
              "\n",
              "    [theme=dark] .colab-df-convert {\n",
              "      background-color: #3B4455;\n",
              "      fill: #D2E3FC;\n",
              "    }\n",
              "\n",
              "    [theme=dark] .colab-df-convert:hover {\n",
              "      background-color: #434B5C;\n",
              "      box-shadow: 0px 1px 3px 1px rgba(0, 0, 0, 0.15);\n",
              "      filter: drop-shadow(0px 1px 2px rgba(0, 0, 0, 0.3));\n",
              "      fill: #FFFFFF;\n",
              "    }\n",
              "  </style>\n",
              "\n",
              "      <script>\n",
              "        const buttonEl =\n",
              "          document.querySelector('#df-7047e124-47a2-48d3-96c7-056b7a5f1849 button.colab-df-convert');\n",
              "        buttonEl.style.display =\n",
              "          google.colab.kernel.accessAllowed ? 'block' : 'none';\n",
              "\n",
              "        async function convertToInteractive(key) {\n",
              "          const element = document.querySelector('#df-7047e124-47a2-48d3-96c7-056b7a5f1849');\n",
              "          const dataTable =\n",
              "            await google.colab.kernel.invokeFunction('convertToInteractive',\n",
              "                                                     [key], {});\n",
              "          if (!dataTable) return;\n",
              "\n",
              "          const docLinkHtml = 'Like what you see? Visit the ' +\n",
              "            '<a target=\"_blank\" href=https://colab.research.google.com/notebooks/data_table.ipynb>data table notebook</a>'\n",
              "            + ' to learn more about interactive tables.';\n",
              "          element.innerHTML = '';\n",
              "          dataTable['output_type'] = 'display_data';\n",
              "          await google.colab.output.renderOutput(dataTable, element);\n",
              "          const docLink = document.createElement('div');\n",
              "          docLink.innerHTML = docLinkHtml;\n",
              "          element.appendChild(docLink);\n",
              "        }\n",
              "      </script>\n",
              "    </div>\n",
              "  </div>\n",
              "  "
            ]
          },
          "metadata": {},
          "execution_count": 28
        }
      ],
      "source": [
        "df2.head()"
      ]
    },
    {
      "cell_type": "code",
      "execution_count": null,
      "metadata": {
        "id": "PiiawPfUbFrC"
      },
      "outputs": [],
      "source": [
        "# Dividindo a coluna \"0\" em várias colunas na posição de vírgula para todas as linhas\n",
        "df3 = df2[0].str.split(',', expand = True)"
      ]
    },
    {
      "cell_type": "code",
      "execution_count": null,
      "metadata": {
        "colab": {
          "base_uri": "https://localhost:8080/",
          "height": 81
        },
        "id": "4r9_xsIbbFrC",
        "outputId": "b0cd6479-0659-4690-9e5b-3f59218f5daf"
      },
      "outputs": [
        {
          "output_type": "execute_result",
          "data": {
            "text/plain": [
              "        0     1      2        3      4       5           6          7       8\n",
              "0  [Place   Bib   Name   Gender   City   State   Chip Time   Gun Time   Team]"
            ],
            "text/html": [
              "\n",
              "  <div id=\"df-1c50d03b-c87c-486f-821a-cbb454715fca\">\n",
              "    <div class=\"colab-df-container\">\n",
              "      <div>\n",
              "<style scoped>\n",
              "    .dataframe tbody tr th:only-of-type {\n",
              "        vertical-align: middle;\n",
              "    }\n",
              "\n",
              "    .dataframe tbody tr th {\n",
              "        vertical-align: top;\n",
              "    }\n",
              "\n",
              "    .dataframe thead th {\n",
              "        text-align: right;\n",
              "    }\n",
              "</style>\n",
              "<table border=\"1\" class=\"dataframe\">\n",
              "  <thead>\n",
              "    <tr style=\"text-align: right;\">\n",
              "      <th></th>\n",
              "      <th>0</th>\n",
              "      <th>1</th>\n",
              "      <th>2</th>\n",
              "      <th>3</th>\n",
              "      <th>4</th>\n",
              "      <th>5</th>\n",
              "      <th>6</th>\n",
              "      <th>7</th>\n",
              "      <th>8</th>\n",
              "    </tr>\n",
              "  </thead>\n",
              "  <tbody>\n",
              "    <tr>\n",
              "      <th>0</th>\n",
              "      <td>[Place</td>\n",
              "      <td>Bib</td>\n",
              "      <td>Name</td>\n",
              "      <td>Gender</td>\n",
              "      <td>City</td>\n",
              "      <td>State</td>\n",
              "      <td>Chip Time</td>\n",
              "      <td>Gun Time</td>\n",
              "      <td>Team]</td>\n",
              "    </tr>\n",
              "  </tbody>\n",
              "</table>\n",
              "</div>\n",
              "      <button class=\"colab-df-convert\" onclick=\"convertToInteractive('df-1c50d03b-c87c-486f-821a-cbb454715fca')\"\n",
              "              title=\"Convert this dataframe to an interactive table.\"\n",
              "              style=\"display:none;\">\n",
              "        \n",
              "  <svg xmlns=\"http://www.w3.org/2000/svg\" height=\"24px\"viewBox=\"0 0 24 24\"\n",
              "       width=\"24px\">\n",
              "    <path d=\"M0 0h24v24H0V0z\" fill=\"none\"/>\n",
              "    <path d=\"M18.56 5.44l.94 2.06.94-2.06 2.06-.94-2.06-.94-.94-2.06-.94 2.06-2.06.94zm-11 1L8.5 8.5l.94-2.06 2.06-.94-2.06-.94L8.5 2.5l-.94 2.06-2.06.94zm10 10l.94 2.06.94-2.06 2.06-.94-2.06-.94-.94-2.06-.94 2.06-2.06.94z\"/><path d=\"M17.41 7.96l-1.37-1.37c-.4-.4-.92-.59-1.43-.59-.52 0-1.04.2-1.43.59L10.3 9.45l-7.72 7.72c-.78.78-.78 2.05 0 2.83L4 21.41c.39.39.9.59 1.41.59.51 0 1.02-.2 1.41-.59l7.78-7.78 2.81-2.81c.8-.78.8-2.07 0-2.86zM5.41 20L4 18.59l7.72-7.72 1.47 1.35L5.41 20z\"/>\n",
              "  </svg>\n",
              "      </button>\n",
              "      \n",
              "  <style>\n",
              "    .colab-df-container {\n",
              "      display:flex;\n",
              "      flex-wrap:wrap;\n",
              "      gap: 12px;\n",
              "    }\n",
              "\n",
              "    .colab-df-convert {\n",
              "      background-color: #E8F0FE;\n",
              "      border: none;\n",
              "      border-radius: 50%;\n",
              "      cursor: pointer;\n",
              "      display: none;\n",
              "      fill: #1967D2;\n",
              "      height: 32px;\n",
              "      padding: 0 0 0 0;\n",
              "      width: 32px;\n",
              "    }\n",
              "\n",
              "    .colab-df-convert:hover {\n",
              "      background-color: #E2EBFA;\n",
              "      box-shadow: 0px 1px 2px rgba(60, 64, 67, 0.3), 0px 1px 3px 1px rgba(60, 64, 67, 0.15);\n",
              "      fill: #174EA6;\n",
              "    }\n",
              "\n",
              "    [theme=dark] .colab-df-convert {\n",
              "      background-color: #3B4455;\n",
              "      fill: #D2E3FC;\n",
              "    }\n",
              "\n",
              "    [theme=dark] .colab-df-convert:hover {\n",
              "      background-color: #434B5C;\n",
              "      box-shadow: 0px 1px 3px 1px rgba(0, 0, 0, 0.15);\n",
              "      filter: drop-shadow(0px 1px 2px rgba(0, 0, 0, 0.3));\n",
              "      fill: #FFFFFF;\n",
              "    }\n",
              "  </style>\n",
              "\n",
              "      <script>\n",
              "        const buttonEl =\n",
              "          document.querySelector('#df-1c50d03b-c87c-486f-821a-cbb454715fca button.colab-df-convert');\n",
              "        buttonEl.style.display =\n",
              "          google.colab.kernel.accessAllowed ? 'block' : 'none';\n",
              "\n",
              "        async function convertToInteractive(key) {\n",
              "          const element = document.querySelector('#df-1c50d03b-c87c-486f-821a-cbb454715fca');\n",
              "          const dataTable =\n",
              "            await google.colab.kernel.invokeFunction('convertToInteractive',\n",
              "                                                     [key], {});\n",
              "          if (!dataTable) return;\n",
              "\n",
              "          const docLinkHtml = 'Like what you see? Visit the ' +\n",
              "            '<a target=\"_blank\" href=https://colab.research.google.com/notebooks/data_table.ipynb>data table notebook</a>'\n",
              "            + ' to learn more about interactive tables.';\n",
              "          element.innerHTML = '';\n",
              "          dataTable['output_type'] = 'display_data';\n",
              "          await google.colab.output.renderOutput(dataTable, element);\n",
              "          const docLink = document.createElement('div');\n",
              "          docLink.innerHTML = docLinkHtml;\n",
              "          element.appendChild(docLink);\n",
              "        }\n",
              "      </script>\n",
              "    </div>\n",
              "  </div>\n",
              "  "
            ]
          },
          "metadata": {},
          "execution_count": 30
        }
      ],
      "source": [
        "df3.head()"
      ]
    },
    {
      "cell_type": "code",
      "execution_count": null,
      "metadata": {
        "id": "KOoUSf_YbFrD"
      },
      "outputs": [],
      "source": [
        "# Concatenando os 2 dataframes\n",
        "frames = [df3, df1]\n",
        "df4 = pd.concat(frames)"
      ]
    },
    {
      "cell_type": "code",
      "execution_count": null,
      "metadata": {
        "colab": {
          "base_uri": "https://localhost:8080/",
          "height": 363
        },
        "id": "bACOgoxibFrD",
        "outputId": "a7c9f1ea-3993-4301-9002-dbe86242804f"
      },
      "outputs": [
        {
          "output_type": "execute_result",
          "data": {
            "text/plain": [
              "            0      1                                                  2  \\\n",
              "0      [Place    Bib                                               Name   \n",
              "0           ]   None                                               None   \n",
              "1  Finishers:   577]                                               None   \n",
              "2       Male:   414]                                               None   \n",
              "3     Female:   163]                                               None   \n",
              "4           ]   None                                               None   \n",
              "5           1    814   \\r\\n\\r\\n                    JARED WILSON\\r\\n\\...   \n",
              "6           2    573   \\r\\n\\r\\n                    NATHAN A SUSTERSI...   \n",
              "7           3    687   \\r\\n\\r\\n                    FRANCISCO MAYA\\r\\...   \n",
              "8           4    623   \\r\\n\\r\\n                    PAUL MORROW\\r\\n\\r...   \n",
              "\n",
              "         3           4       5           6          7  \\\n",
              "0   Gender        City   State   Chip Time   Gun Time   \n",
              "0     None        None    None        None       None   \n",
              "1     None        None    None        None       None   \n",
              "2     None        None    None        None       None   \n",
              "3     None        None    None        None       None   \n",
              "4     None        None    None        None       None   \n",
              "5        M      TIGARD      OR       36:21      36:24   \n",
              "6        M    PORTLAND      OR       36:42      36:45   \n",
              "7        M    PORTLAND      OR       37:44      37:48   \n",
              "8        M   BEAVERTON      OR       38:34      38:37   \n",
              "\n",
              "                                                   8  \n",
              "0                                              Team]  \n",
              "0                                               None  \n",
              "1                                               None  \n",
              "2                                               None  \n",
              "3                                               None  \n",
              "4                                               None  \n",
              "5                                                  ]  \n",
              "6   \\n\\r\\n                            INTEL TEAM ...  \n",
              "7                                                  ]  \n",
              "8                                                  ]  "
            ],
            "text/html": [
              "\n",
              "  <div id=\"df-0b77d21c-64b6-45c3-9645-bf40581b9e59\">\n",
              "    <div class=\"colab-df-container\">\n",
              "      <div>\n",
              "<style scoped>\n",
              "    .dataframe tbody tr th:only-of-type {\n",
              "        vertical-align: middle;\n",
              "    }\n",
              "\n",
              "    .dataframe tbody tr th {\n",
              "        vertical-align: top;\n",
              "    }\n",
              "\n",
              "    .dataframe thead th {\n",
              "        text-align: right;\n",
              "    }\n",
              "</style>\n",
              "<table border=\"1\" class=\"dataframe\">\n",
              "  <thead>\n",
              "    <tr style=\"text-align: right;\">\n",
              "      <th></th>\n",
              "      <th>0</th>\n",
              "      <th>1</th>\n",
              "      <th>2</th>\n",
              "      <th>3</th>\n",
              "      <th>4</th>\n",
              "      <th>5</th>\n",
              "      <th>6</th>\n",
              "      <th>7</th>\n",
              "      <th>8</th>\n",
              "    </tr>\n",
              "  </thead>\n",
              "  <tbody>\n",
              "    <tr>\n",
              "      <th>0</th>\n",
              "      <td>[Place</td>\n",
              "      <td>Bib</td>\n",
              "      <td>Name</td>\n",
              "      <td>Gender</td>\n",
              "      <td>City</td>\n",
              "      <td>State</td>\n",
              "      <td>Chip Time</td>\n",
              "      <td>Gun Time</td>\n",
              "      <td>Team]</td>\n",
              "    </tr>\n",
              "    <tr>\n",
              "      <th>0</th>\n",
              "      <td>]</td>\n",
              "      <td>None</td>\n",
              "      <td>None</td>\n",
              "      <td>None</td>\n",
              "      <td>None</td>\n",
              "      <td>None</td>\n",
              "      <td>None</td>\n",
              "      <td>None</td>\n",
              "      <td>None</td>\n",
              "    </tr>\n",
              "    <tr>\n",
              "      <th>1</th>\n",
              "      <td>Finishers:</td>\n",
              "      <td>577]</td>\n",
              "      <td>None</td>\n",
              "      <td>None</td>\n",
              "      <td>None</td>\n",
              "      <td>None</td>\n",
              "      <td>None</td>\n",
              "      <td>None</td>\n",
              "      <td>None</td>\n",
              "    </tr>\n",
              "    <tr>\n",
              "      <th>2</th>\n",
              "      <td>Male:</td>\n",
              "      <td>414]</td>\n",
              "      <td>None</td>\n",
              "      <td>None</td>\n",
              "      <td>None</td>\n",
              "      <td>None</td>\n",
              "      <td>None</td>\n",
              "      <td>None</td>\n",
              "      <td>None</td>\n",
              "    </tr>\n",
              "    <tr>\n",
              "      <th>3</th>\n",
              "      <td>Female:</td>\n",
              "      <td>163]</td>\n",
              "      <td>None</td>\n",
              "      <td>None</td>\n",
              "      <td>None</td>\n",
              "      <td>None</td>\n",
              "      <td>None</td>\n",
              "      <td>None</td>\n",
              "      <td>None</td>\n",
              "    </tr>\n",
              "    <tr>\n",
              "      <th>4</th>\n",
              "      <td>]</td>\n",
              "      <td>None</td>\n",
              "      <td>None</td>\n",
              "      <td>None</td>\n",
              "      <td>None</td>\n",
              "      <td>None</td>\n",
              "      <td>None</td>\n",
              "      <td>None</td>\n",
              "      <td>None</td>\n",
              "    </tr>\n",
              "    <tr>\n",
              "      <th>5</th>\n",
              "      <td>1</td>\n",
              "      <td>814</td>\n",
              "      <td>\\r\\n\\r\\n                    JARED WILSON\\r\\n\\...</td>\n",
              "      <td>M</td>\n",
              "      <td>TIGARD</td>\n",
              "      <td>OR</td>\n",
              "      <td>36:21</td>\n",
              "      <td>36:24</td>\n",
              "      <td>]</td>\n",
              "    </tr>\n",
              "    <tr>\n",
              "      <th>6</th>\n",
              "      <td>2</td>\n",
              "      <td>573</td>\n",
              "      <td>\\r\\n\\r\\n                    NATHAN A SUSTERSI...</td>\n",
              "      <td>M</td>\n",
              "      <td>PORTLAND</td>\n",
              "      <td>OR</td>\n",
              "      <td>36:42</td>\n",
              "      <td>36:45</td>\n",
              "      <td>\\n\\r\\n                            INTEL TEAM ...</td>\n",
              "    </tr>\n",
              "    <tr>\n",
              "      <th>7</th>\n",
              "      <td>3</td>\n",
              "      <td>687</td>\n",
              "      <td>\\r\\n\\r\\n                    FRANCISCO MAYA\\r\\...</td>\n",
              "      <td>M</td>\n",
              "      <td>PORTLAND</td>\n",
              "      <td>OR</td>\n",
              "      <td>37:44</td>\n",
              "      <td>37:48</td>\n",
              "      <td>]</td>\n",
              "    </tr>\n",
              "    <tr>\n",
              "      <th>8</th>\n",
              "      <td>4</td>\n",
              "      <td>623</td>\n",
              "      <td>\\r\\n\\r\\n                    PAUL MORROW\\r\\n\\r...</td>\n",
              "      <td>M</td>\n",
              "      <td>BEAVERTON</td>\n",
              "      <td>OR</td>\n",
              "      <td>38:34</td>\n",
              "      <td>38:37</td>\n",
              "      <td>]</td>\n",
              "    </tr>\n",
              "  </tbody>\n",
              "</table>\n",
              "</div>\n",
              "      <button class=\"colab-df-convert\" onclick=\"convertToInteractive('df-0b77d21c-64b6-45c3-9645-bf40581b9e59')\"\n",
              "              title=\"Convert this dataframe to an interactive table.\"\n",
              "              style=\"display:none;\">\n",
              "        \n",
              "  <svg xmlns=\"http://www.w3.org/2000/svg\" height=\"24px\"viewBox=\"0 0 24 24\"\n",
              "       width=\"24px\">\n",
              "    <path d=\"M0 0h24v24H0V0z\" fill=\"none\"/>\n",
              "    <path d=\"M18.56 5.44l.94 2.06.94-2.06 2.06-.94-2.06-.94-.94-2.06-.94 2.06-2.06.94zm-11 1L8.5 8.5l.94-2.06 2.06-.94-2.06-.94L8.5 2.5l-.94 2.06-2.06.94zm10 10l.94 2.06.94-2.06 2.06-.94-2.06-.94-.94-2.06-.94 2.06-2.06.94z\"/><path d=\"M17.41 7.96l-1.37-1.37c-.4-.4-.92-.59-1.43-.59-.52 0-1.04.2-1.43.59L10.3 9.45l-7.72 7.72c-.78.78-.78 2.05 0 2.83L4 21.41c.39.39.9.59 1.41.59.51 0 1.02-.2 1.41-.59l7.78-7.78 2.81-2.81c.8-.78.8-2.07 0-2.86zM5.41 20L4 18.59l7.72-7.72 1.47 1.35L5.41 20z\"/>\n",
              "  </svg>\n",
              "      </button>\n",
              "      \n",
              "  <style>\n",
              "    .colab-df-container {\n",
              "      display:flex;\n",
              "      flex-wrap:wrap;\n",
              "      gap: 12px;\n",
              "    }\n",
              "\n",
              "    .colab-df-convert {\n",
              "      background-color: #E8F0FE;\n",
              "      border: none;\n",
              "      border-radius: 50%;\n",
              "      cursor: pointer;\n",
              "      display: none;\n",
              "      fill: #1967D2;\n",
              "      height: 32px;\n",
              "      padding: 0 0 0 0;\n",
              "      width: 32px;\n",
              "    }\n",
              "\n",
              "    .colab-df-convert:hover {\n",
              "      background-color: #E2EBFA;\n",
              "      box-shadow: 0px 1px 2px rgba(60, 64, 67, 0.3), 0px 1px 3px 1px rgba(60, 64, 67, 0.15);\n",
              "      fill: #174EA6;\n",
              "    }\n",
              "\n",
              "    [theme=dark] .colab-df-convert {\n",
              "      background-color: #3B4455;\n",
              "      fill: #D2E3FC;\n",
              "    }\n",
              "\n",
              "    [theme=dark] .colab-df-convert:hover {\n",
              "      background-color: #434B5C;\n",
              "      box-shadow: 0px 1px 3px 1px rgba(0, 0, 0, 0.15);\n",
              "      filter: drop-shadow(0px 1px 2px rgba(0, 0, 0, 0.3));\n",
              "      fill: #FFFFFF;\n",
              "    }\n",
              "  </style>\n",
              "\n",
              "      <script>\n",
              "        const buttonEl =\n",
              "          document.querySelector('#df-0b77d21c-64b6-45c3-9645-bf40581b9e59 button.colab-df-convert');\n",
              "        buttonEl.style.display =\n",
              "          google.colab.kernel.accessAllowed ? 'block' : 'none';\n",
              "\n",
              "        async function convertToInteractive(key) {\n",
              "          const element = document.querySelector('#df-0b77d21c-64b6-45c3-9645-bf40581b9e59');\n",
              "          const dataTable =\n",
              "            await google.colab.kernel.invokeFunction('convertToInteractive',\n",
              "                                                     [key], {});\n",
              "          if (!dataTable) return;\n",
              "\n",
              "          const docLinkHtml = 'Like what you see? Visit the ' +\n",
              "            '<a target=\"_blank\" href=https://colab.research.google.com/notebooks/data_table.ipynb>data table notebook</a>'\n",
              "            + ' to learn more about interactive tables.';\n",
              "          element.innerHTML = '';\n",
              "          dataTable['output_type'] = 'display_data';\n",
              "          await google.colab.output.renderOutput(dataTable, element);\n",
              "          const docLink = document.createElement('div');\n",
              "          docLink.innerHTML = docLinkHtml;\n",
              "          element.appendChild(docLink);\n",
              "        }\n",
              "      </script>\n",
              "    </div>\n",
              "  </div>\n",
              "  "
            ]
          },
          "metadata": {},
          "execution_count": 32
        }
      ],
      "source": [
        "df4.head(10)"
      ]
    },
    {
      "cell_type": "code",
      "execution_count": null,
      "metadata": {
        "id": "uJ1dIgQbbFrD"
      },
      "outputs": [],
      "source": [
        "# Atribuindo a primeira coluna como cabeçalho\n",
        "df5 = df4.rename(columns = df4.iloc[0])"
      ]
    },
    {
      "cell_type": "code",
      "execution_count": null,
      "metadata": {
        "colab": {
          "base_uri": "https://localhost:8080/",
          "height": 206
        },
        "id": "3gV4vkhNbFrD",
        "outputId": "fb348b4f-bd98-4fb7-f931-f706fca00cfb"
      },
      "outputs": [
        {
          "output_type": "execute_result",
          "data": {
            "text/plain": [
              "       [Place    Bib   Name   Gender   City   State   Chip Time   Gun Time  \\\n",
              "0      [Place    Bib   Name   Gender   City   State   Chip Time   Gun Time   \n",
              "0           ]   None   None     None   None    None        None       None   \n",
              "1  Finishers:   577]   None     None   None    None        None       None   \n",
              "2       Male:   414]   None     None   None    None        None       None   \n",
              "3     Female:   163]   None     None   None    None        None       None   \n",
              "\n",
              "    Team]  \n",
              "0   Team]  \n",
              "0    None  \n",
              "1    None  \n",
              "2    None  \n",
              "3    None  "
            ],
            "text/html": [
              "\n",
              "  <div id=\"df-c268afff-f988-466c-98bb-6f2fec7d3504\">\n",
              "    <div class=\"colab-df-container\">\n",
              "      <div>\n",
              "<style scoped>\n",
              "    .dataframe tbody tr th:only-of-type {\n",
              "        vertical-align: middle;\n",
              "    }\n",
              "\n",
              "    .dataframe tbody tr th {\n",
              "        vertical-align: top;\n",
              "    }\n",
              "\n",
              "    .dataframe thead th {\n",
              "        text-align: right;\n",
              "    }\n",
              "</style>\n",
              "<table border=\"1\" class=\"dataframe\">\n",
              "  <thead>\n",
              "    <tr style=\"text-align: right;\">\n",
              "      <th></th>\n",
              "      <th>[Place</th>\n",
              "      <th>Bib</th>\n",
              "      <th>Name</th>\n",
              "      <th>Gender</th>\n",
              "      <th>City</th>\n",
              "      <th>State</th>\n",
              "      <th>Chip Time</th>\n",
              "      <th>Gun Time</th>\n",
              "      <th>Team]</th>\n",
              "    </tr>\n",
              "  </thead>\n",
              "  <tbody>\n",
              "    <tr>\n",
              "      <th>0</th>\n",
              "      <td>[Place</td>\n",
              "      <td>Bib</td>\n",
              "      <td>Name</td>\n",
              "      <td>Gender</td>\n",
              "      <td>City</td>\n",
              "      <td>State</td>\n",
              "      <td>Chip Time</td>\n",
              "      <td>Gun Time</td>\n",
              "      <td>Team]</td>\n",
              "    </tr>\n",
              "    <tr>\n",
              "      <th>0</th>\n",
              "      <td>]</td>\n",
              "      <td>None</td>\n",
              "      <td>None</td>\n",
              "      <td>None</td>\n",
              "      <td>None</td>\n",
              "      <td>None</td>\n",
              "      <td>None</td>\n",
              "      <td>None</td>\n",
              "      <td>None</td>\n",
              "    </tr>\n",
              "    <tr>\n",
              "      <th>1</th>\n",
              "      <td>Finishers:</td>\n",
              "      <td>577]</td>\n",
              "      <td>None</td>\n",
              "      <td>None</td>\n",
              "      <td>None</td>\n",
              "      <td>None</td>\n",
              "      <td>None</td>\n",
              "      <td>None</td>\n",
              "      <td>None</td>\n",
              "    </tr>\n",
              "    <tr>\n",
              "      <th>2</th>\n",
              "      <td>Male:</td>\n",
              "      <td>414]</td>\n",
              "      <td>None</td>\n",
              "      <td>None</td>\n",
              "      <td>None</td>\n",
              "      <td>None</td>\n",
              "      <td>None</td>\n",
              "      <td>None</td>\n",
              "      <td>None</td>\n",
              "    </tr>\n",
              "    <tr>\n",
              "      <th>3</th>\n",
              "      <td>Female:</td>\n",
              "      <td>163]</td>\n",
              "      <td>None</td>\n",
              "      <td>None</td>\n",
              "      <td>None</td>\n",
              "      <td>None</td>\n",
              "      <td>None</td>\n",
              "      <td>None</td>\n",
              "      <td>None</td>\n",
              "    </tr>\n",
              "  </tbody>\n",
              "</table>\n",
              "</div>\n",
              "      <button class=\"colab-df-convert\" onclick=\"convertToInteractive('df-c268afff-f988-466c-98bb-6f2fec7d3504')\"\n",
              "              title=\"Convert this dataframe to an interactive table.\"\n",
              "              style=\"display:none;\">\n",
              "        \n",
              "  <svg xmlns=\"http://www.w3.org/2000/svg\" height=\"24px\"viewBox=\"0 0 24 24\"\n",
              "       width=\"24px\">\n",
              "    <path d=\"M0 0h24v24H0V0z\" fill=\"none\"/>\n",
              "    <path d=\"M18.56 5.44l.94 2.06.94-2.06 2.06-.94-2.06-.94-.94-2.06-.94 2.06-2.06.94zm-11 1L8.5 8.5l.94-2.06 2.06-.94-2.06-.94L8.5 2.5l-.94 2.06-2.06.94zm10 10l.94 2.06.94-2.06 2.06-.94-2.06-.94-.94-2.06-.94 2.06-2.06.94z\"/><path d=\"M17.41 7.96l-1.37-1.37c-.4-.4-.92-.59-1.43-.59-.52 0-1.04.2-1.43.59L10.3 9.45l-7.72 7.72c-.78.78-.78 2.05 0 2.83L4 21.41c.39.39.9.59 1.41.59.51 0 1.02-.2 1.41-.59l7.78-7.78 2.81-2.81c.8-.78.8-2.07 0-2.86zM5.41 20L4 18.59l7.72-7.72 1.47 1.35L5.41 20z\"/>\n",
              "  </svg>\n",
              "      </button>\n",
              "      \n",
              "  <style>\n",
              "    .colab-df-container {\n",
              "      display:flex;\n",
              "      flex-wrap:wrap;\n",
              "      gap: 12px;\n",
              "    }\n",
              "\n",
              "    .colab-df-convert {\n",
              "      background-color: #E8F0FE;\n",
              "      border: none;\n",
              "      border-radius: 50%;\n",
              "      cursor: pointer;\n",
              "      display: none;\n",
              "      fill: #1967D2;\n",
              "      height: 32px;\n",
              "      padding: 0 0 0 0;\n",
              "      width: 32px;\n",
              "    }\n",
              "\n",
              "    .colab-df-convert:hover {\n",
              "      background-color: #E2EBFA;\n",
              "      box-shadow: 0px 1px 2px rgba(60, 64, 67, 0.3), 0px 1px 3px 1px rgba(60, 64, 67, 0.15);\n",
              "      fill: #174EA6;\n",
              "    }\n",
              "\n",
              "    [theme=dark] .colab-df-convert {\n",
              "      background-color: #3B4455;\n",
              "      fill: #D2E3FC;\n",
              "    }\n",
              "\n",
              "    [theme=dark] .colab-df-convert:hover {\n",
              "      background-color: #434B5C;\n",
              "      box-shadow: 0px 1px 3px 1px rgba(0, 0, 0, 0.15);\n",
              "      filter: drop-shadow(0px 1px 2px rgba(0, 0, 0, 0.3));\n",
              "      fill: #FFFFFF;\n",
              "    }\n",
              "  </style>\n",
              "\n",
              "      <script>\n",
              "        const buttonEl =\n",
              "          document.querySelector('#df-c268afff-f988-466c-98bb-6f2fec7d3504 button.colab-df-convert');\n",
              "        buttonEl.style.display =\n",
              "          google.colab.kernel.accessAllowed ? 'block' : 'none';\n",
              "\n",
              "        async function convertToInteractive(key) {\n",
              "          const element = document.querySelector('#df-c268afff-f988-466c-98bb-6f2fec7d3504');\n",
              "          const dataTable =\n",
              "            await google.colab.kernel.invokeFunction('convertToInteractive',\n",
              "                                                     [key], {});\n",
              "          if (!dataTable) return;\n",
              "\n",
              "          const docLinkHtml = 'Like what you see? Visit the ' +\n",
              "            '<a target=\"_blank\" href=https://colab.research.google.com/notebooks/data_table.ipynb>data table notebook</a>'\n",
              "            + ' to learn more about interactive tables.';\n",
              "          element.innerHTML = '';\n",
              "          dataTable['output_type'] = 'display_data';\n",
              "          await google.colab.output.renderOutput(dataTable, element);\n",
              "          const docLink = document.createElement('div');\n",
              "          docLink.innerHTML = docLinkHtml;\n",
              "          element.appendChild(docLink);\n",
              "        }\n",
              "      </script>\n",
              "    </div>\n",
              "  </div>\n",
              "  "
            ]
          },
          "metadata": {},
          "execution_count": 34
        }
      ],
      "source": [
        "df5.head()"
      ]
    },
    {
      "cell_type": "code",
      "execution_count": null,
      "metadata": {
        "colab": {
          "base_uri": "https://localhost:8080/"
        },
        "id": "8e6NGyRcbFrD",
        "outputId": "9bfcc05b-e03a-4026-dc18-f9cf2559e63c"
      },
      "outputs": [
        {
          "output_type": "execute_result",
          "data": {
            "text/plain": [
              "(583, 9)"
            ]
          },
          "metadata": {},
          "execution_count": 35
        }
      ],
      "source": [
        "# Shape\n",
        "df5.shape"
      ]
    },
    {
      "cell_type": "code",
      "execution_count": null,
      "metadata": {
        "colab": {
          "base_uri": "https://localhost:8080/"
        },
        "id": "ehZGYCIXbFrD",
        "outputId": "c974e5ca-f5f6-4394-9641-7702ad6788ef"
      },
      "outputs": [
        {
          "output_type": "stream",
          "name": "stdout",
          "text": [
            "<class 'pandas.core.frame.DataFrame'>\n",
            "Int64Index: 583 entries, 0 to 581\n",
            "Data columns (total 9 columns):\n",
            " #   Column      Non-Null Count  Dtype \n",
            "---  ------      --------------  ----- \n",
            " 0   [Place      583 non-null    object\n",
            " 1    Bib        581 non-null    object\n",
            " 2    Name       578 non-null    object\n",
            " 3    Gender     578 non-null    object\n",
            " 4    City       578 non-null    object\n",
            " 5    State      578 non-null    object\n",
            " 6    Chip Time  578 non-null    object\n",
            " 7    Gun Time   578 non-null    object\n",
            " 8    Team]      578 non-null    object\n",
            "dtypes: object(9)\n",
            "memory usage: 45.5+ KB\n"
          ]
        }
      ],
      "source": [
        "# Obtendo uma visão geral dos dados para análise\n",
        "df5.info()"
      ]
    },
    {
      "cell_type": "code",
      "execution_count": null,
      "metadata": {
        "colab": {
          "base_uri": "https://localhost:8080/"
        },
        "id": "iGCM0qK_bFrE",
        "outputId": "3403bb71-eec3-40f1-ec94-bb12d502619b"
      },
      "outputs": [
        {
          "output_type": "execute_result",
          "data": {
            "text/plain": [
              "[Place        0\n",
              " Bib          2\n",
              " Name         5\n",
              " Gender       5\n",
              " City         5\n",
              " State        5\n",
              " Chip Time    5\n",
              " Gun Time     5\n",
              " Team]        5\n",
              "dtype: int64"
            ]
          },
          "metadata": {},
          "execution_count": 37
        }
      ],
      "source": [
        "# Verificando valores ausentes\n",
        "df5.isnull().sum()"
      ]
    },
    {
      "cell_type": "code",
      "execution_count": null,
      "metadata": {
        "id": "CW0u-lSjbFrE"
      },
      "outputs": [],
      "source": [
        "# Removendo todas as linhas com valores ausentes\n",
        "df6 = df5.dropna(axis = 0, how = 'any')"
      ]
    },
    {
      "cell_type": "code",
      "execution_count": null,
      "metadata": {
        "id": "ZvImxfE6bFrE"
      },
      "outputs": [],
      "source": [
        "# Descartando o cabeçalho da tabela replicada como a primeira linha no df5\n",
        "df7 = df6.drop(df6.index[0])"
      ]
    },
    {
      "cell_type": "code",
      "execution_count": null,
      "metadata": {
        "id": "5SyBrajRbFrE"
      },
      "outputs": [],
      "source": [
        "# Renomeando as colunas [Place e Team] \n",
        "df7.rename(columns = {'[Place': 'Place'}, inplace = True)\n",
        "df7.rename(columns = {' Team]': 'Team'}, inplace = True)"
      ]
    },
    {
      "cell_type": "code",
      "execution_count": null,
      "metadata": {
        "id": "mskCf2hEbFrE"
      },
      "outputs": [],
      "source": [
        "# Limpeza final dos dados - remoção do colchete de fechamento das células na coluna \"Team\".\n",
        "df7['Team'] = df7['Team'].str.strip(']')"
      ]
    },
    {
      "cell_type": "code",
      "execution_count": null,
      "metadata": {
        "colab": {
          "base_uri": "https://localhost:8080/",
          "height": 206
        },
        "id": "MR74TO39bFrE",
        "outputId": "a865a76c-4a74-401d-c9af-b8f63a95ebb1"
      },
      "outputs": [
        {
          "output_type": "execute_result",
          "data": {
            "text/plain": [
              "  Place   Bib                                               Name  Gender  \\\n",
              "5     1   814   \\r\\n\\r\\n                    JARED WILSON\\r\\n\\...       M   \n",
              "6     2   573   \\r\\n\\r\\n                    NATHAN A SUSTERSI...       M   \n",
              "7     3   687   \\r\\n\\r\\n                    FRANCISCO MAYA\\r\\...       M   \n",
              "8     4   623   \\r\\n\\r\\n                    PAUL MORROW\\r\\n\\r...       M   \n",
              "9     5   569   \\r\\n\\r\\n                    DEREK G OSBORNE\\r...       M   \n",
              "\n",
              "         City  State  Chip Time  Gun Time  \\\n",
              "5      TIGARD     OR      36:21     36:24   \n",
              "6    PORTLAND     OR      36:42     36:45   \n",
              "7    PORTLAND     OR      37:44     37:48   \n",
              "8   BEAVERTON     OR      38:34     38:37   \n",
              "9   HILLSBORO     OR      39:21     39:24   \n",
              "\n",
              "                                                Team  \n",
              "5                                                     \n",
              "6   \\n\\r\\n                            INTEL TEAM ...  \n",
              "7                                                     \n",
              "8                                                     \n",
              "9   \\n\\r\\n                            INTEL TEAM ...  "
            ],
            "text/html": [
              "\n",
              "  <div id=\"df-61111fef-4c79-4c92-a407-6006721410eb\">\n",
              "    <div class=\"colab-df-container\">\n",
              "      <div>\n",
              "<style scoped>\n",
              "    .dataframe tbody tr th:only-of-type {\n",
              "        vertical-align: middle;\n",
              "    }\n",
              "\n",
              "    .dataframe tbody tr th {\n",
              "        vertical-align: top;\n",
              "    }\n",
              "\n",
              "    .dataframe thead th {\n",
              "        text-align: right;\n",
              "    }\n",
              "</style>\n",
              "<table border=\"1\" class=\"dataframe\">\n",
              "  <thead>\n",
              "    <tr style=\"text-align: right;\">\n",
              "      <th></th>\n",
              "      <th>Place</th>\n",
              "      <th>Bib</th>\n",
              "      <th>Name</th>\n",
              "      <th>Gender</th>\n",
              "      <th>City</th>\n",
              "      <th>State</th>\n",
              "      <th>Chip Time</th>\n",
              "      <th>Gun Time</th>\n",
              "      <th>Team</th>\n",
              "    </tr>\n",
              "  </thead>\n",
              "  <tbody>\n",
              "    <tr>\n",
              "      <th>5</th>\n",
              "      <td>1</td>\n",
              "      <td>814</td>\n",
              "      <td>\\r\\n\\r\\n                    JARED WILSON\\r\\n\\...</td>\n",
              "      <td>M</td>\n",
              "      <td>TIGARD</td>\n",
              "      <td>OR</td>\n",
              "      <td>36:21</td>\n",
              "      <td>36:24</td>\n",
              "      <td></td>\n",
              "    </tr>\n",
              "    <tr>\n",
              "      <th>6</th>\n",
              "      <td>2</td>\n",
              "      <td>573</td>\n",
              "      <td>\\r\\n\\r\\n                    NATHAN A SUSTERSI...</td>\n",
              "      <td>M</td>\n",
              "      <td>PORTLAND</td>\n",
              "      <td>OR</td>\n",
              "      <td>36:42</td>\n",
              "      <td>36:45</td>\n",
              "      <td>\\n\\r\\n                            INTEL TEAM ...</td>\n",
              "    </tr>\n",
              "    <tr>\n",
              "      <th>7</th>\n",
              "      <td>3</td>\n",
              "      <td>687</td>\n",
              "      <td>\\r\\n\\r\\n                    FRANCISCO MAYA\\r\\...</td>\n",
              "      <td>M</td>\n",
              "      <td>PORTLAND</td>\n",
              "      <td>OR</td>\n",
              "      <td>37:44</td>\n",
              "      <td>37:48</td>\n",
              "      <td></td>\n",
              "    </tr>\n",
              "    <tr>\n",
              "      <th>8</th>\n",
              "      <td>4</td>\n",
              "      <td>623</td>\n",
              "      <td>\\r\\n\\r\\n                    PAUL MORROW\\r\\n\\r...</td>\n",
              "      <td>M</td>\n",
              "      <td>BEAVERTON</td>\n",
              "      <td>OR</td>\n",
              "      <td>38:34</td>\n",
              "      <td>38:37</td>\n",
              "      <td></td>\n",
              "    </tr>\n",
              "    <tr>\n",
              "      <th>9</th>\n",
              "      <td>5</td>\n",
              "      <td>569</td>\n",
              "      <td>\\r\\n\\r\\n                    DEREK G OSBORNE\\r...</td>\n",
              "      <td>M</td>\n",
              "      <td>HILLSBORO</td>\n",
              "      <td>OR</td>\n",
              "      <td>39:21</td>\n",
              "      <td>39:24</td>\n",
              "      <td>\\n\\r\\n                            INTEL TEAM ...</td>\n",
              "    </tr>\n",
              "  </tbody>\n",
              "</table>\n",
              "</div>\n",
              "      <button class=\"colab-df-convert\" onclick=\"convertToInteractive('df-61111fef-4c79-4c92-a407-6006721410eb')\"\n",
              "              title=\"Convert this dataframe to an interactive table.\"\n",
              "              style=\"display:none;\">\n",
              "        \n",
              "  <svg xmlns=\"http://www.w3.org/2000/svg\" height=\"24px\"viewBox=\"0 0 24 24\"\n",
              "       width=\"24px\">\n",
              "    <path d=\"M0 0h24v24H0V0z\" fill=\"none\"/>\n",
              "    <path d=\"M18.56 5.44l.94 2.06.94-2.06 2.06-.94-2.06-.94-.94-2.06-.94 2.06-2.06.94zm-11 1L8.5 8.5l.94-2.06 2.06-.94-2.06-.94L8.5 2.5l-.94 2.06-2.06.94zm10 10l.94 2.06.94-2.06 2.06-.94-2.06-.94-.94-2.06-.94 2.06-2.06.94z\"/><path d=\"M17.41 7.96l-1.37-1.37c-.4-.4-.92-.59-1.43-.59-.52 0-1.04.2-1.43.59L10.3 9.45l-7.72 7.72c-.78.78-.78 2.05 0 2.83L4 21.41c.39.39.9.59 1.41.59.51 0 1.02-.2 1.41-.59l7.78-7.78 2.81-2.81c.8-.78.8-2.07 0-2.86zM5.41 20L4 18.59l7.72-7.72 1.47 1.35L5.41 20z\"/>\n",
              "  </svg>\n",
              "      </button>\n",
              "      \n",
              "  <style>\n",
              "    .colab-df-container {\n",
              "      display:flex;\n",
              "      flex-wrap:wrap;\n",
              "      gap: 12px;\n",
              "    }\n",
              "\n",
              "    .colab-df-convert {\n",
              "      background-color: #E8F0FE;\n",
              "      border: none;\n",
              "      border-radius: 50%;\n",
              "      cursor: pointer;\n",
              "      display: none;\n",
              "      fill: #1967D2;\n",
              "      height: 32px;\n",
              "      padding: 0 0 0 0;\n",
              "      width: 32px;\n",
              "    }\n",
              "\n",
              "    .colab-df-convert:hover {\n",
              "      background-color: #E2EBFA;\n",
              "      box-shadow: 0px 1px 2px rgba(60, 64, 67, 0.3), 0px 1px 3px 1px rgba(60, 64, 67, 0.15);\n",
              "      fill: #174EA6;\n",
              "    }\n",
              "\n",
              "    [theme=dark] .colab-df-convert {\n",
              "      background-color: #3B4455;\n",
              "      fill: #D2E3FC;\n",
              "    }\n",
              "\n",
              "    [theme=dark] .colab-df-convert:hover {\n",
              "      background-color: #434B5C;\n",
              "      box-shadow: 0px 1px 3px 1px rgba(0, 0, 0, 0.15);\n",
              "      filter: drop-shadow(0px 1px 2px rgba(0, 0, 0, 0.3));\n",
              "      fill: #FFFFFF;\n",
              "    }\n",
              "  </style>\n",
              "\n",
              "      <script>\n",
              "        const buttonEl =\n",
              "          document.querySelector('#df-61111fef-4c79-4c92-a407-6006721410eb button.colab-df-convert');\n",
              "        buttonEl.style.display =\n",
              "          google.colab.kernel.accessAllowed ? 'block' : 'none';\n",
              "\n",
              "        async function convertToInteractive(key) {\n",
              "          const element = document.querySelector('#df-61111fef-4c79-4c92-a407-6006721410eb');\n",
              "          const dataTable =\n",
              "            await google.colab.kernel.invokeFunction('convertToInteractive',\n",
              "                                                     [key], {});\n",
              "          if (!dataTable) return;\n",
              "\n",
              "          const docLinkHtml = 'Like what you see? Visit the ' +\n",
              "            '<a target=\"_blank\" href=https://colab.research.google.com/notebooks/data_table.ipynb>data table notebook</a>'\n",
              "            + ' to learn more about interactive tables.';\n",
              "          element.innerHTML = '';\n",
              "          dataTable['output_type'] = 'display_data';\n",
              "          await google.colab.output.renderOutput(dataTable, element);\n",
              "          const docLink = document.createElement('div');\n",
              "          docLink.innerHTML = docLinkHtml;\n",
              "          element.appendChild(docLink);\n",
              "        }\n",
              "      </script>\n",
              "    </div>\n",
              "  </div>\n",
              "  "
            ]
          },
          "metadata": {},
          "execution_count": 42
        }
      ],
      "source": [
        "df7.head()"
      ]
    },
    {
      "cell_type": "markdown",
      "metadata": {
        "id": "zb6dnQArbFrF"
      },
      "source": [
        "## Análise de Dados"
      ]
    },
    {
      "cell_type": "code",
      "execution_count": null,
      "metadata": {
        "id": "QVah7rhIbFrF"
      },
      "outputs": [],
      "source": [
        "# Convertendo a coluna \"Chip Time\" em apenas minutos\n",
        "# Chip time é o tempo total de corrida medido com a leitura do sensor RFID no selo da camisa do participante\n",
        "time_list = df7[' Chip Time'].tolist()"
      ]
    },
    {
      "cell_type": "code",
      "execution_count": null,
      "metadata": {
        "colab": {
          "base_uri": "https://localhost:8080/"
        },
        "id": "Km4JAYt6bFrF",
        "outputId": "2d39f481-5bea-4671-8466-7fe11aab5449"
      },
      "outputs": [
        {
          "output_type": "execute_result",
          "data": {
            "text/plain": [
              "[' 36:42', ' 37:44', ' 38:34', ' 39:21']"
            ]
          },
          "metadata": {},
          "execution_count": 49
        }
      ],
      "source": [
        "# Visualizando uma amostra de dados\n",
        "time_list[1:5]"
      ]
    },
    {
      "cell_type": "code",
      "execution_count": null,
      "metadata": {
        "id": "uCWARgGmbFrF"
      },
      "outputs": [],
      "source": [
        "# Lista para receber o resultado da conversão\n",
        "time_mins = []"
      ]
    },
    {
      "cell_type": "code",
      "execution_count": null,
      "metadata": {
        "id": "EcPYkewmbFrF"
      },
      "outputs": [],
      "source": [
        "# Loop para conversão\n",
        "for i in time_list:\n",
        "    i = i.strip(' ')\n",
        "    if len(i)!=7:\n",
        "        i = '0:' + i\n",
        "    h, m, s = i.split(':')\n",
        "    math = (int(h) * 3600 + int(m) * 60 + int(s))/60\n",
        "    time_mins.append(math)"
      ]
    },
    {
      "cell_type": "markdown",
      "metadata": {
        "id": "-ALTiTWvbFrF"
      },
      "source": [
        "Convertendo a lista novamente em um dataframe e criamos uma nova coluna (\"Runner_mins\") como tempo total de corrida, mas agora em minutos."
      ]
    },
    {
      "cell_type": "code",
      "execution_count": null,
      "metadata": {
        "id": "fqvby9zmbFrF"
      },
      "outputs": [],
      "source": [
        "# Nova coluna\n",
        "df7['Runner_mins'] = time_mins"
      ]
    },
    {
      "cell_type": "code",
      "execution_count": null,
      "metadata": {
        "colab": {
          "base_uri": "https://localhost:8080/",
          "height": 250
        },
        "id": "w3Tu2uPHbFrG",
        "outputId": "d93061b1-ae07-406e-b00d-5c9446eccf8b"
      },
      "outputs": [
        {
          "output_type": "execute_result",
          "data": {
            "text/plain": [
              "  Place   Bib                                               Name  Gender  \\\n",
              "5     1   814   \\r\\n\\r\\n                    JARED WILSON\\r\\n\\...       M   \n",
              "6     2   573   \\r\\n\\r\\n                    NATHAN A SUSTERSI...       M   \n",
              "7     3   687   \\r\\n\\r\\n                    FRANCISCO MAYA\\r\\...       M   \n",
              "8     4   623   \\r\\n\\r\\n                    PAUL MORROW\\r\\n\\r...       M   \n",
              "9     5   569   \\r\\n\\r\\n                    DEREK G OSBORNE\\r...       M   \n",
              "\n",
              "         City  State  Chip Time  Gun Time  \\\n",
              "5      TIGARD     OR      36:21     36:24   \n",
              "6    PORTLAND     OR      36:42     36:45   \n",
              "7    PORTLAND     OR      37:44     37:48   \n",
              "8   BEAVERTON     OR      38:34     38:37   \n",
              "9   HILLSBORO     OR      39:21     39:24   \n",
              "\n",
              "                                                Team  Runner_mins  \n",
              "5                                                       36.350000  \n",
              "6   \\n\\r\\n                            INTEL TEAM ...    36.700000  \n",
              "7                                                       37.733333  \n",
              "8                                                       38.566667  \n",
              "9   \\n\\r\\n                            INTEL TEAM ...    39.350000  "
            ],
            "text/html": [
              "\n",
              "  <div id=\"df-038475fd-05cf-4b98-9447-419baa98b1ff\">\n",
              "    <div class=\"colab-df-container\">\n",
              "      <div>\n",
              "<style scoped>\n",
              "    .dataframe tbody tr th:only-of-type {\n",
              "        vertical-align: middle;\n",
              "    }\n",
              "\n",
              "    .dataframe tbody tr th {\n",
              "        vertical-align: top;\n",
              "    }\n",
              "\n",
              "    .dataframe thead th {\n",
              "        text-align: right;\n",
              "    }\n",
              "</style>\n",
              "<table border=\"1\" class=\"dataframe\">\n",
              "  <thead>\n",
              "    <tr style=\"text-align: right;\">\n",
              "      <th></th>\n",
              "      <th>Place</th>\n",
              "      <th>Bib</th>\n",
              "      <th>Name</th>\n",
              "      <th>Gender</th>\n",
              "      <th>City</th>\n",
              "      <th>State</th>\n",
              "      <th>Chip Time</th>\n",
              "      <th>Gun Time</th>\n",
              "      <th>Team</th>\n",
              "      <th>Runner_mins</th>\n",
              "    </tr>\n",
              "  </thead>\n",
              "  <tbody>\n",
              "    <tr>\n",
              "      <th>5</th>\n",
              "      <td>1</td>\n",
              "      <td>814</td>\n",
              "      <td>\\r\\n\\r\\n                    JARED WILSON\\r\\n\\...</td>\n",
              "      <td>M</td>\n",
              "      <td>TIGARD</td>\n",
              "      <td>OR</td>\n",
              "      <td>36:21</td>\n",
              "      <td>36:24</td>\n",
              "      <td></td>\n",
              "      <td>36.350000</td>\n",
              "    </tr>\n",
              "    <tr>\n",
              "      <th>6</th>\n",
              "      <td>2</td>\n",
              "      <td>573</td>\n",
              "      <td>\\r\\n\\r\\n                    NATHAN A SUSTERSI...</td>\n",
              "      <td>M</td>\n",
              "      <td>PORTLAND</td>\n",
              "      <td>OR</td>\n",
              "      <td>36:42</td>\n",
              "      <td>36:45</td>\n",
              "      <td>\\n\\r\\n                            INTEL TEAM ...</td>\n",
              "      <td>36.700000</td>\n",
              "    </tr>\n",
              "    <tr>\n",
              "      <th>7</th>\n",
              "      <td>3</td>\n",
              "      <td>687</td>\n",
              "      <td>\\r\\n\\r\\n                    FRANCISCO MAYA\\r\\...</td>\n",
              "      <td>M</td>\n",
              "      <td>PORTLAND</td>\n",
              "      <td>OR</td>\n",
              "      <td>37:44</td>\n",
              "      <td>37:48</td>\n",
              "      <td></td>\n",
              "      <td>37.733333</td>\n",
              "    </tr>\n",
              "    <tr>\n",
              "      <th>8</th>\n",
              "      <td>4</td>\n",
              "      <td>623</td>\n",
              "      <td>\\r\\n\\r\\n                    PAUL MORROW\\r\\n\\r...</td>\n",
              "      <td>M</td>\n",
              "      <td>BEAVERTON</td>\n",
              "      <td>OR</td>\n",
              "      <td>38:34</td>\n",
              "      <td>38:37</td>\n",
              "      <td></td>\n",
              "      <td>38.566667</td>\n",
              "    </tr>\n",
              "    <tr>\n",
              "      <th>9</th>\n",
              "      <td>5</td>\n",
              "      <td>569</td>\n",
              "      <td>\\r\\n\\r\\n                    DEREK G OSBORNE\\r...</td>\n",
              "      <td>M</td>\n",
              "      <td>HILLSBORO</td>\n",
              "      <td>OR</td>\n",
              "      <td>39:21</td>\n",
              "      <td>39:24</td>\n",
              "      <td>\\n\\r\\n                            INTEL TEAM ...</td>\n",
              "      <td>39.350000</td>\n",
              "    </tr>\n",
              "  </tbody>\n",
              "</table>\n",
              "</div>\n",
              "      <button class=\"colab-df-convert\" onclick=\"convertToInteractive('df-038475fd-05cf-4b98-9447-419baa98b1ff')\"\n",
              "              title=\"Convert this dataframe to an interactive table.\"\n",
              "              style=\"display:none;\">\n",
              "        \n",
              "  <svg xmlns=\"http://www.w3.org/2000/svg\" height=\"24px\"viewBox=\"0 0 24 24\"\n",
              "       width=\"24px\">\n",
              "    <path d=\"M0 0h24v24H0V0z\" fill=\"none\"/>\n",
              "    <path d=\"M18.56 5.44l.94 2.06.94-2.06 2.06-.94-2.06-.94-.94-2.06-.94 2.06-2.06.94zm-11 1L8.5 8.5l.94-2.06 2.06-.94-2.06-.94L8.5 2.5l-.94 2.06-2.06.94zm10 10l.94 2.06.94-2.06 2.06-.94-2.06-.94-.94-2.06-.94 2.06-2.06.94z\"/><path d=\"M17.41 7.96l-1.37-1.37c-.4-.4-.92-.59-1.43-.59-.52 0-1.04.2-1.43.59L10.3 9.45l-7.72 7.72c-.78.78-.78 2.05 0 2.83L4 21.41c.39.39.9.59 1.41.59.51 0 1.02-.2 1.41-.59l7.78-7.78 2.81-2.81c.8-.78.8-2.07 0-2.86zM5.41 20L4 18.59l7.72-7.72 1.47 1.35L5.41 20z\"/>\n",
              "  </svg>\n",
              "      </button>\n",
              "      \n",
              "  <style>\n",
              "    .colab-df-container {\n",
              "      display:flex;\n",
              "      flex-wrap:wrap;\n",
              "      gap: 12px;\n",
              "    }\n",
              "\n",
              "    .colab-df-convert {\n",
              "      background-color: #E8F0FE;\n",
              "      border: none;\n",
              "      border-radius: 50%;\n",
              "      cursor: pointer;\n",
              "      display: none;\n",
              "      fill: #1967D2;\n",
              "      height: 32px;\n",
              "      padding: 0 0 0 0;\n",
              "      width: 32px;\n",
              "    }\n",
              "\n",
              "    .colab-df-convert:hover {\n",
              "      background-color: #E2EBFA;\n",
              "      box-shadow: 0px 1px 2px rgba(60, 64, 67, 0.3), 0px 1px 3px 1px rgba(60, 64, 67, 0.15);\n",
              "      fill: #174EA6;\n",
              "    }\n",
              "\n",
              "    [theme=dark] .colab-df-convert {\n",
              "      background-color: #3B4455;\n",
              "      fill: #D2E3FC;\n",
              "    }\n",
              "\n",
              "    [theme=dark] .colab-df-convert:hover {\n",
              "      background-color: #434B5C;\n",
              "      box-shadow: 0px 1px 3px 1px rgba(0, 0, 0, 0.15);\n",
              "      filter: drop-shadow(0px 1px 2px rgba(0, 0, 0, 0.3));\n",
              "      fill: #FFFFFF;\n",
              "    }\n",
              "  </style>\n",
              "\n",
              "      <script>\n",
              "        const buttonEl =\n",
              "          document.querySelector('#df-038475fd-05cf-4b98-9447-419baa98b1ff button.colab-df-convert');\n",
              "        buttonEl.style.display =\n",
              "          google.colab.kernel.accessAllowed ? 'block' : 'none';\n",
              "\n",
              "        async function convertToInteractive(key) {\n",
              "          const element = document.querySelector('#df-038475fd-05cf-4b98-9447-419baa98b1ff');\n",
              "          const dataTable =\n",
              "            await google.colab.kernel.invokeFunction('convertToInteractive',\n",
              "                                                     [key], {});\n",
              "          if (!dataTable) return;\n",
              "\n",
              "          const docLinkHtml = 'Like what you see? Visit the ' +\n",
              "            '<a target=\"_blank\" href=https://colab.research.google.com/notebooks/data_table.ipynb>data table notebook</a>'\n",
              "            + ' to learn more about interactive tables.';\n",
              "          element.innerHTML = '';\n",
              "          dataTable['output_type'] = 'display_data';\n",
              "          await google.colab.output.renderOutput(dataTable, element);\n",
              "          const docLink = document.createElement('div');\n",
              "          docLink.innerHTML = docLinkHtml;\n",
              "          element.appendChild(docLink);\n",
              "        }\n",
              "      </script>\n",
              "    </div>\n",
              "  </div>\n",
              "  "
            ]
          },
          "metadata": {},
          "execution_count": 53
        }
      ],
      "source": [
        "df7.head()"
      ]
    },
    {
      "cell_type": "code",
      "execution_count": null,
      "metadata": {
        "colab": {
          "base_uri": "https://localhost:8080/"
        },
        "id": "D-BToTyibFrG",
        "outputId": "379b5c06-2129-49ef-de21-718d634c2cd0"
      },
      "outputs": [
        {
          "output_type": "execute_result",
          "data": {
            "text/plain": [
              "Place           object\n",
              " Bib            object\n",
              " Name           object\n",
              " Gender         object\n",
              " City           object\n",
              " State          object\n",
              " Chip Time      object\n",
              " Gun Time       object\n",
              "Team            object\n",
              "Runner_mins    float64\n",
              "dtype: object"
            ]
          },
          "metadata": {},
          "execution_count": 54
        }
      ],
      "source": [
        "df7.dtypes"
      ]
    },
    {
      "cell_type": "code",
      "execution_count": null,
      "metadata": {
        "colab": {
          "base_uri": "https://localhost:8080/",
          "height": 300
        },
        "id": "AT6xb1Z4bFrG",
        "outputId": "5db1852b-2d46-4d44-fd31-f40756b7ae7d"
      },
      "outputs": [
        {
          "output_type": "execute_result",
          "data": {
            "text/plain": [
              "       Runner_mins\n",
              "count   577.000000\n",
              "mean     60.035933\n",
              "std      11.970623\n",
              "min      36.350000\n",
              "25%      51.000000\n",
              "50%      59.016667\n",
              "75%      67.266667\n",
              "max     101.300000"
            ],
            "text/html": [
              "\n",
              "  <div id=\"df-5b716ed2-4bec-466d-8420-5c10b6441979\">\n",
              "    <div class=\"colab-df-container\">\n",
              "      <div>\n",
              "<style scoped>\n",
              "    .dataframe tbody tr th:only-of-type {\n",
              "        vertical-align: middle;\n",
              "    }\n",
              "\n",
              "    .dataframe tbody tr th {\n",
              "        vertical-align: top;\n",
              "    }\n",
              "\n",
              "    .dataframe thead th {\n",
              "        text-align: right;\n",
              "    }\n",
              "</style>\n",
              "<table border=\"1\" class=\"dataframe\">\n",
              "  <thead>\n",
              "    <tr style=\"text-align: right;\">\n",
              "      <th></th>\n",
              "      <th>Runner_mins</th>\n",
              "    </tr>\n",
              "  </thead>\n",
              "  <tbody>\n",
              "    <tr>\n",
              "      <th>count</th>\n",
              "      <td>577.000000</td>\n",
              "    </tr>\n",
              "    <tr>\n",
              "      <th>mean</th>\n",
              "      <td>60.035933</td>\n",
              "    </tr>\n",
              "    <tr>\n",
              "      <th>std</th>\n",
              "      <td>11.970623</td>\n",
              "    </tr>\n",
              "    <tr>\n",
              "      <th>min</th>\n",
              "      <td>36.350000</td>\n",
              "    </tr>\n",
              "    <tr>\n",
              "      <th>25%</th>\n",
              "      <td>51.000000</td>\n",
              "    </tr>\n",
              "    <tr>\n",
              "      <th>50%</th>\n",
              "      <td>59.016667</td>\n",
              "    </tr>\n",
              "    <tr>\n",
              "      <th>75%</th>\n",
              "      <td>67.266667</td>\n",
              "    </tr>\n",
              "    <tr>\n",
              "      <th>max</th>\n",
              "      <td>101.300000</td>\n",
              "    </tr>\n",
              "  </tbody>\n",
              "</table>\n",
              "</div>\n",
              "      <button class=\"colab-df-convert\" onclick=\"convertToInteractive('df-5b716ed2-4bec-466d-8420-5c10b6441979')\"\n",
              "              title=\"Convert this dataframe to an interactive table.\"\n",
              "              style=\"display:none;\">\n",
              "        \n",
              "  <svg xmlns=\"http://www.w3.org/2000/svg\" height=\"24px\"viewBox=\"0 0 24 24\"\n",
              "       width=\"24px\">\n",
              "    <path d=\"M0 0h24v24H0V0z\" fill=\"none\"/>\n",
              "    <path d=\"M18.56 5.44l.94 2.06.94-2.06 2.06-.94-2.06-.94-.94-2.06-.94 2.06-2.06.94zm-11 1L8.5 8.5l.94-2.06 2.06-.94-2.06-.94L8.5 2.5l-.94 2.06-2.06.94zm10 10l.94 2.06.94-2.06 2.06-.94-2.06-.94-.94-2.06-.94 2.06-2.06.94z\"/><path d=\"M17.41 7.96l-1.37-1.37c-.4-.4-.92-.59-1.43-.59-.52 0-1.04.2-1.43.59L10.3 9.45l-7.72 7.72c-.78.78-.78 2.05 0 2.83L4 21.41c.39.39.9.59 1.41.59.51 0 1.02-.2 1.41-.59l7.78-7.78 2.81-2.81c.8-.78.8-2.07 0-2.86zM5.41 20L4 18.59l7.72-7.72 1.47 1.35L5.41 20z\"/>\n",
              "  </svg>\n",
              "      </button>\n",
              "      \n",
              "  <style>\n",
              "    .colab-df-container {\n",
              "      display:flex;\n",
              "      flex-wrap:wrap;\n",
              "      gap: 12px;\n",
              "    }\n",
              "\n",
              "    .colab-df-convert {\n",
              "      background-color: #E8F0FE;\n",
              "      border: none;\n",
              "      border-radius: 50%;\n",
              "      cursor: pointer;\n",
              "      display: none;\n",
              "      fill: #1967D2;\n",
              "      height: 32px;\n",
              "      padding: 0 0 0 0;\n",
              "      width: 32px;\n",
              "    }\n",
              "\n",
              "    .colab-df-convert:hover {\n",
              "      background-color: #E2EBFA;\n",
              "      box-shadow: 0px 1px 2px rgba(60, 64, 67, 0.3), 0px 1px 3px 1px rgba(60, 64, 67, 0.15);\n",
              "      fill: #174EA6;\n",
              "    }\n",
              "\n",
              "    [theme=dark] .colab-df-convert {\n",
              "      background-color: #3B4455;\n",
              "      fill: #D2E3FC;\n",
              "    }\n",
              "\n",
              "    [theme=dark] .colab-df-convert:hover {\n",
              "      background-color: #434B5C;\n",
              "      box-shadow: 0px 1px 3px 1px rgba(0, 0, 0, 0.15);\n",
              "      filter: drop-shadow(0px 1px 2px rgba(0, 0, 0, 0.3));\n",
              "      fill: #FFFFFF;\n",
              "    }\n",
              "  </style>\n",
              "\n",
              "      <script>\n",
              "        const buttonEl =\n",
              "          document.querySelector('#df-5b716ed2-4bec-466d-8420-5c10b6441979 button.colab-df-convert');\n",
              "        buttonEl.style.display =\n",
              "          google.colab.kernel.accessAllowed ? 'block' : 'none';\n",
              "\n",
              "        async function convertToInteractive(key) {\n",
              "          const element = document.querySelector('#df-5b716ed2-4bec-466d-8420-5c10b6441979');\n",
              "          const dataTable =\n",
              "            await google.colab.kernel.invokeFunction('convertToInteractive',\n",
              "                                                     [key], {});\n",
              "          if (!dataTable) return;\n",
              "\n",
              "          const docLinkHtml = 'Like what you see? Visit the ' +\n",
              "            '<a target=\"_blank\" href=https://colab.research.google.com/notebooks/data_table.ipynb>data table notebook</a>'\n",
              "            + ' to learn more about interactive tables.';\n",
              "          element.innerHTML = '';\n",
              "          dataTable['output_type'] = 'display_data';\n",
              "          await google.colab.output.renderOutput(dataTable, element);\n",
              "          const docLink = document.createElement('div');\n",
              "          docLink.innerHTML = docLinkHtml;\n",
              "          element.appendChild(docLink);\n",
              "        }\n",
              "      </script>\n",
              "    </div>\n",
              "  </div>\n",
              "  "
            ]
          },
          "metadata": {},
          "execution_count": 55
        }
      ],
      "source": [
        "# Cálculo de estatísticas para colunas numéricas no dataframe\n",
        "df7.describe(include = [np.number])"
      ]
    },
    {
      "cell_type": "markdown",
      "metadata": {
        "id": "jq9jSeqGbFrG"
      },
      "source": [
        "**Análise**:\n",
        "\n",
        "- O tempo médio de chip para todos os corredores foi de ~ 60 minutos (a média na tabela acima).\n",
        "- O corredor 10K mais rápido terminou em 36,35 minutos (valor mínimo na tabela acima).\n",
        "- O corredor mais lento terminou em 101,30 minutos (valor máximo na tabela acima)."
      ]
    },
    {
      "cell_type": "markdown",
      "metadata": {
        "id": "J1sbBcPHbFrG"
      },
      "source": [
        "Vamos criar um boxplot para sumarizar nossa análise."
      ]
    },
    {
      "cell_type": "code",
      "execution_count": null,
      "metadata": {
        "colab": {
          "base_uri": "https://localhost:8080/",
          "height": 334
        },
        "id": "Mea3iCc3bFrG",
        "outputId": "eefd2bd4-e431-4308-f0de-e69ba3f45045"
      },
      "outputs": [
        {
          "output_type": "stream",
          "name": "stderr",
          "text": [
            "/usr/local/lib/python3.7/dist-packages/seaborn/_core.py:1326: UserWarning: Vertical orientation ignored with only `x` specified.\n",
            "  warnings.warn(single_var_warning.format(\"Vertical\", \"x\"))\n"
          ]
        },
        {
          "output_type": "display_data",
          "data": {
            "text/plain": [
              "<Figure size 432x288 with 1 Axes>"
            ],
            "image/png": "[encoded data removed]"
          },
          "metadata": {
            "needs_background": "light"
          }
        }
      ],
      "source": [
        "# Plot\n",
        "ax = sns.boxplot(x = df7[\"Runner_mins\"], palette = \"Set3\", orient = \"v\")\n",
        "plt.ylabel('Chip Time')\n",
        "plt.xlabel('Runners')\n",
        "plt.show()"
      ]
    },
    {
      "cell_type": "markdown",
      "metadata": {
        "id": "8oDPa6NJbFrG"
      },
      "source": [
        "Acima estão as estatísticas de resumo de dados para os corredores mostrados em um boxplot: Máximo, mínimo, médio, primeiro quartil, terceiro quartil, incluindo valores extremos."
      ]
    },
    {
      "cell_type": "markdown",
      "metadata": {
        "id": "LNteGYDEbFrH"
      },
      "source": [
        "Criaremos agora um gráfico de distribuição dos tempos dos chips dos corredores usando a biblioteca seaborn."
      ]
    },
    {
      "cell_type": "code",
      "execution_count": null,
      "metadata": {
        "colab": {
          "base_uri": "https://localhost:8080/",
          "height": 335
        },
        "id": "uQpq_2XhbFrH",
        "outputId": "46ea4efd-1d1c-48c1-bbf9-edcb9e96e869"
      },
      "outputs": [
        {
          "output_type": "stream",
          "name": "stderr",
          "text": [
            "/usr/local/lib/python3.7/dist-packages/seaborn/distributions.py:2619: FutureWarning: `distplot` is a deprecated function and will be removed in a future version. Please adapt your code to use either `displot` (a figure-level function with similar flexibility) or `histplot` (an axes-level function for histograms).\n",
            "  warnings.warn(msg, FutureWarning)\n"
          ]
        },
        {
          "output_type": "display_data",
          "data": {
            "text/plain": [
              "<Figure size 432x288 with 1 Axes>"
            ],
            "image/png": "[encoded data removed]"
          },
          "metadata": {
            "needs_background": "light"
          }
        }
      ],
      "source": [
        "# Plot\n",
        "x = df7['Runner_mins']\n",
        "ax = sns.distplot(x, hist = True, kde = True, rug = False, color = 'blue', bins = 25, hist_kws = {'edgecolor':'black'})\n",
        "plt.show()"
      ]
    },
    {
      "cell_type": "markdown",
      "metadata": {
        "id": "INxeQot9bFrH"
      },
      "source": [
        "A distribuição da variável parece quase normal. Mas vamos realizar um teste estatístico para confirmar.\n",
        "\n",
        "Um ponto de decisão importante ao trabalhar com uma amostra de dados é usar métodos estatísticos paramétricos ou não paramétricos.\n",
        "\n",
        "Os métodos estatísticos paramétricos assumem que os dados têm uma distribuição conhecida e específica, geralmente uma distribuição gaussiana (normal). Se uma amostra de dados não é gaussiana, as suposições dos testes estatísticos paramétricos são violadas e métodos estatísticos não paramétricos devem ser utilizados.\n",
        "\n",
        "Há várias técnicas que você pode usar para verificar se sua amostra de dados se desvia de uma distribuição gaussiana, chamada testes de normalidade.\n",
        "\n",
        "O pacote stats do SciPy fornece uma função para um dos testes de normalidade mais comuns, o Shapiro-Wilk Test. Usaremos ainda a função normality do pacote Pengouin.\n",
        "\n",
        "O Shapiro-Wilk é um teste de hipóteses, que testa essas duas hipóteses:\n",
        "\n",
        "**A hipótese nula deste teste é que a população é normalmente distribuída. Assim, se o valor-p for menor que o nível alfa escolhido (normalmente definido em 0,05), a hipótese nula será rejeitada e há evidências de que os dados testados não são normalmente distribuídos.**\n",
        "\n",
        "O resultado do teste de Shapiro-Wilk deve ser interpretado com cautela no caso de amostras grandes. "
      ]
    },
    {
      "cell_type": "code",
      "execution_count": null,
      "metadata": {
        "id": "OkXz2-mObFrH"
      },
      "outputs": [],
      "source": [
        "# Valor de x\n",
        "x = df7['Runner_mins']"
      ]
    },
    {
      "cell_type": "code",
      "execution_count": null,
      "metadata": {
        "colab": {
          "base_uri": "https://localhost:8080/"
        },
        "id": "0pdiklDebFrH",
        "outputId": "2bfb31b4-627f-4f00-cb52-497cc4e6a537"
      },
      "outputs": [
        {
          "output_type": "execute_result",
          "data": {
            "text/plain": [
              "ShapiroResult(statistic=0.9625251889228821, pvalue=5.836563177208376e-11)"
            ]
          },
          "metadata": {},
          "execution_count": 59
        }
      ],
      "source": [
        "# Teste de normalidade com Scipy\n",
        "stats.shapiro(x)"
      ]
    },
    {
      "cell_type": "code",
      "execution_count": null,
      "metadata": {
        "colab": {
          "base_uri": "https://localhost:8080/",
          "height": 81
        },
        "id": "a8rsfQ6pbFrH",
        "outputId": "6e53cf76-57bc-47d1-8a20-4184fe5f227f"
      },
      "outputs": [
        {
          "output_type": "execute_result",
          "data": {
            "text/plain": [
              "                    W          pval  normal\n",
              "Runner_mins  0.962525  5.836563e-11   False"
            ],
            "text/html": [
              "\n",
              "  <div id=\"df-7b34970f-9455-4096-93a7-e907d28f9f35\">\n",
              "    <div class=\"colab-df-container\">\n",
              "      <div>\n",
              "<style scoped>\n",
              "    .dataframe tbody tr th:only-of-type {\n",
              "        vertical-align: middle;\n",
              "    }\n",
              "\n",
              "    .dataframe tbody tr th {\n",
              "        vertical-align: top;\n",
              "    }\n",
              "\n",
              "    .dataframe thead th {\n",
              "        text-align: right;\n",
              "    }\n",
              "</style>\n",
              "<table border=\"1\" class=\"dataframe\">\n",
              "  <thead>\n",
              "    <tr style=\"text-align: right;\">\n",
              "      <th></th>\n",
              "      <th>W</th>\n",
              "      <th>pval</th>\n",
              "      <th>normal</th>\n",
              "    </tr>\n",
              "  </thead>\n",
              "  <tbody>\n",
              "    <tr>\n",
              "      <th>Runner_mins</th>\n",
              "      <td>0.962525</td>\n",
              "      <td>5.836563e-11</td>\n",
              "      <td>False</td>\n",
              "    </tr>\n",
              "  </tbody>\n",
              "</table>\n",
              "</div>\n",
              "      <button class=\"colab-df-convert\" onclick=\"convertToInteractive('df-7b34970f-9455-4096-93a7-e907d28f9f35')\"\n",
              "              title=\"Convert this dataframe to an interactive table.\"\n",
              "              style=\"display:none;\">\n",
              "        \n",
              "  <svg xmlns=\"http://www.w3.org/2000/svg\" height=\"24px\"viewBox=\"0 0 24 24\"\n",
              "       width=\"24px\">\n",
              "    <path d=\"M0 0h24v24H0V0z\" fill=\"none\"/>\n",
              "    <path d=\"M18.56 5.44l.94 2.06.94-2.06 2.06-.94-2.06-.94-.94-2.06-.94 2.06-2.06.94zm-11 1L8.5 8.5l.94-2.06 2.06-.94-2.06-.94L8.5 2.5l-.94 2.06-2.06.94zm10 10l.94 2.06.94-2.06 2.06-.94-2.06-.94-.94-2.06-.94 2.06-2.06.94z\"/><path d=\"M17.41 7.96l-1.37-1.37c-.4-.4-.92-.59-1.43-.59-.52 0-1.04.2-1.43.59L10.3 9.45l-7.72 7.72c-.78.78-.78 2.05 0 2.83L4 21.41c.39.39.9.59 1.41.59.51 0 1.02-.2 1.41-.59l7.78-7.78 2.81-2.81c.8-.78.8-2.07 0-2.86zM5.41 20L4 18.59l7.72-7.72 1.47 1.35L5.41 20z\"/>\n",
              "  </svg>\n",
              "      </button>\n",
              "      \n",
              "  <style>\n",
              "    .colab-df-container {\n",
              "      display:flex;\n",
              "      flex-wrap:wrap;\n",
              "      gap: 12px;\n",
              "    }\n",
              "\n",
              "    .colab-df-convert {\n",
              "      background-color: #E8F0FE;\n",
              "      border: none;\n",
              "      border-radius: 50%;\n",
              "      cursor: pointer;\n",
              "      display: none;\n",
              "      fill: #1967D2;\n",
              "      height: 32px;\n",
              "      padding: 0 0 0 0;\n",
              "      width: 32px;\n",
              "    }\n",
              "\n",
              "    .colab-df-convert:hover {\n",
              "      background-color: #E2EBFA;\n",
              "      box-shadow: 0px 1px 2px rgba(60, 64, 67, 0.3), 0px 1px 3px 1px rgba(60, 64, 67, 0.15);\n",
              "      fill: #174EA6;\n",
              "    }\n",
              "\n",
              "    [theme=dark] .colab-df-convert {\n",
              "      background-color: #3B4455;\n",
              "      fill: #D2E3FC;\n",
              "    }\n",
              "\n",
              "    [theme=dark] .colab-df-convert:hover {\n",
              "      background-color: #434B5C;\n",
              "      box-shadow: 0px 1px 3px 1px rgba(0, 0, 0, 0.15);\n",
              "      filter: drop-shadow(0px 1px 2px rgba(0, 0, 0, 0.3));\n",
              "      fill: #FFFFFF;\n",
              "    }\n",
              "  </style>\n",
              "\n",
              "      <script>\n",
              "        const buttonEl =\n",
              "          document.querySelector('#df-7b34970f-9455-4096-93a7-e907d28f9f35 button.colab-df-convert');\n",
              "        buttonEl.style.display =\n",
              "          google.colab.kernel.accessAllowed ? 'block' : 'none';\n",
              "\n",
              "        async function convertToInteractive(key) {\n",
              "          const element = document.querySelector('#df-7b34970f-9455-4096-93a7-e907d28f9f35');\n",
              "          const dataTable =\n",
              "            await google.colab.kernel.invokeFunction('convertToInteractive',\n",
              "                                                     [key], {});\n",
              "          if (!dataTable) return;\n",
              "\n",
              "          const docLinkHtml = 'Like what you see? Visit the ' +\n",
              "            '<a target=\"_blank\" href=https://colab.research.google.com/notebooks/data_table.ipynb>data table notebook</a>'\n",
              "            + ' to learn more about interactive tables.';\n",
              "          element.innerHTML = '';\n",
              "          dataTable['output_type'] = 'display_data';\n",
              "          await google.colab.output.renderOutput(dataTable, element);\n",
              "          const docLink = document.createElement('div');\n",
              "          docLink.innerHTML = docLinkHtml;\n",
              "          element.appendChild(docLink);\n",
              "        }\n",
              "      </script>\n",
              "    </div>\n",
              "  </div>\n",
              "  "
            ]
          },
          "metadata": {},
          "execution_count": 60
        }
      ],
      "source": [
        "# Teste de normalidade com Pingouin\n",
        "pg.normality(x)"
      ]
    },
    {
      "cell_type": "markdown",
      "metadata": {
        "id": "2Xr7PO5dbFrH"
      },
      "source": [
        "**Análise**:\n",
        "\n",
        "- A variável não segue uma distribuição normal, uma vez que o valor-p é menor que 0.05 e assim há evidências estatísticas para rejeitar a hipótese nula. A função normality() do pacote Pingouin coloca essa informação na última coluna."
      ]
    },
    {
      "cell_type": "markdown",
      "metadata": {
        "id": "kmnE_jQ6bFrI"
      },
      "source": [
        "Vamos agora descobrir se houve alguma diferença de desempenho entre homens e mulheres de várias faixas etárias."
      ]
    },
    {
      "cell_type": "code",
      "execution_count": null,
      "metadata": {
        "id": "gk6w8QFbbFrI"
      },
      "outputs": [],
      "source": [
        "# Separando os dados\n",
        "f_runners = df7.loc[df7[' Gender'] == ' F']['Runner_mins']\n",
        "m_runners = df7.loc[df7[' Gender'] == ' M']['Runner_mins']"
      ]
    },
    {
      "cell_type": "code",
      "execution_count": null,
      "metadata": {
        "colab": {
          "base_uri": "https://localhost:8080/",
          "height": 387
        },
        "id": "ZxtWWRAybFrI",
        "outputId": "508d0fba-1385-4494-adc1-9b69a50845be"
      },
      "outputs": [
        {
          "output_type": "stream",
          "name": "stderr",
          "text": [
            "/usr/local/lib/python3.7/dist-packages/seaborn/distributions.py:2619: FutureWarning: `distplot` is a deprecated function and will be removed in a future version. Please adapt your code to use either `displot` (a figure-level function with similar flexibility) or `histplot` (an axes-level function for histograms).\n",
            "  warnings.warn(msg, FutureWarning)\n",
            "/usr/local/lib/python3.7/dist-packages/seaborn/distributions.py:2619: FutureWarning: `distplot` is a deprecated function and will be removed in a future version. Please adapt your code to use either `displot` (a figure-level function with similar flexibility) or `kdeplot` (an axes-level function for kernel density plots).\n",
            "  warnings.warn(msg, FutureWarning)\n"
          ]
        },
        {
          "output_type": "execute_result",
          "data": {
            "text/plain": [
              "<matplotlib.legend.Legend at 0x7fd124419ed0>"
            ]
          },
          "metadata": {},
          "execution_count": 62
        },
        {
          "output_type": "display_data",
          "data": {
            "text/plain": [
              "<Figure size 432x288 with 1 Axes>"
            ],
            "image/png": "[encoded data removed]"
          },
          "metadata": {
            "needs_background": "light"
          }
        }
      ],
      "source": [
        "# Criaremos os 2 plots em uma só figura para facilitar a comparação\n",
        "sns.distplot(f_runners, hist = True, kde = True, rug = False, hist_kws = {'edgecolor':'black'}, label = 'Mulher')\n",
        "sns.distplot(m_runners, hist = False, kde = True, rug = False, hist_kws = {'edgecolor':'black'}, label = 'Homem')\n",
        "plt.legend()"
      ]
    },
    {
      "cell_type": "markdown",
      "metadata": {
        "id": "Dt3jFvY0bFrI"
      },
      "source": [
        "**Análise**:\n",
        "\n",
        "- A distribuição indica que as mulheres eram mais lentas que os homens, em média."
      ]
    },
    {
      "cell_type": "code",
      "execution_count": null,
      "metadata": {
        "colab": {
          "base_uri": "https://localhost:8080/",
          "height": 175
        },
        "id": "fbT595EMbFrI",
        "outputId": "278789f8-c946-4d31-f8f7-f0f591c2ca7f"
      },
      "outputs": [
        {
          "output_type": "execute_result",
          "data": {
            "text/plain": [
              "        Runner_mins                                                         \\\n",
              "              count       mean        std        min        25%        50%   \n",
              " Gender                                                                      \n",
              " F            163.0  66.119223  12.184440  43.766667  58.758333  64.616667   \n",
              " M            414.0  57.640821  11.011857  36.350000  49.395833  55.791667   \n",
              "\n",
              "                                \n",
              "               75%         max  \n",
              " Gender                         \n",
              " F       72.058333  101.300000  \n",
              " M       64.804167   98.516667  "
            ],
            "text/html": [
              "\n",
              "  <div id=\"df-52e62531-8e15-454f-84e9-3f3391215841\">\n",
              "    <div class=\"colab-df-container\">\n",
              "      <div>\n",
              "<style scoped>\n",
              "    .dataframe tbody tr th:only-of-type {\n",
              "        vertical-align: middle;\n",
              "    }\n",
              "\n",
              "    .dataframe tbody tr th {\n",
              "        vertical-align: top;\n",
              "    }\n",
              "\n",
              "    .dataframe thead tr th {\n",
              "        text-align: left;\n",
              "    }\n",
              "\n",
              "    .dataframe thead tr:last-of-type th {\n",
              "        text-align: right;\n",
              "    }\n",
              "</style>\n",
              "<table border=\"1\" class=\"dataframe\">\n",
              "  <thead>\n",
              "    <tr>\n",
              "      <th></th>\n",
              "      <th colspan=\"8\" halign=\"left\">Runner_mins</th>\n",
              "    </tr>\n",
              "    <tr>\n",
              "      <th></th>\n",
              "      <th>count</th>\n",
              "      <th>mean</th>\n",
              "      <th>std</th>\n",
              "      <th>min</th>\n",
              "      <th>25%</th>\n",
              "      <th>50%</th>\n",
              "      <th>75%</th>\n",
              "      <th>max</th>\n",
              "    </tr>\n",
              "    <tr>\n",
              "      <th>Gender</th>\n",
              "      <th></th>\n",
              "      <th></th>\n",
              "      <th></th>\n",
              "      <th></th>\n",
              "      <th></th>\n",
              "      <th></th>\n",
              "      <th></th>\n",
              "      <th></th>\n",
              "    </tr>\n",
              "  </thead>\n",
              "  <tbody>\n",
              "    <tr>\n",
              "      <th>F</th>\n",
              "      <td>163.0</td>\n",
              "      <td>66.119223</td>\n",
              "      <td>12.184440</td>\n",
              "      <td>43.766667</td>\n",
              "      <td>58.758333</td>\n",
              "      <td>64.616667</td>\n",
              "      <td>72.058333</td>\n",
              "      <td>101.300000</td>\n",
              "    </tr>\n",
              "    <tr>\n",
              "      <th>M</th>\n",
              "      <td>414.0</td>\n",
              "      <td>57.640821</td>\n",
              "      <td>11.011857</td>\n",
              "      <td>36.350000</td>\n",
              "      <td>49.395833</td>\n",
              "      <td>55.791667</td>\n",
              "      <td>64.804167</td>\n",
              "      <td>98.516667</td>\n",
              "    </tr>\n",
              "  </tbody>\n",
              "</table>\n",
              "</div>\n",
              "      <button class=\"colab-df-convert\" onclick=\"convertToInteractive('df-52e62531-8e15-454f-84e9-3f3391215841')\"\n",
              "              title=\"Convert this dataframe to an interactive table.\"\n",
              "              style=\"display:none;\">\n",
              "        \n",
              "  <svg xmlns=\"http://www.w3.org/2000/svg\" height=\"24px\"viewBox=\"0 0 24 24\"\n",
              "       width=\"24px\">\n",
              "    <path d=\"M0 0h24v24H0V0z\" fill=\"none\"/>\n",
              "    <path d=\"M18.56 5.44l.94 2.06.94-2.06 2.06-.94-2.06-.94-.94-2.06-.94 2.06-2.06.94zm-11 1L8.5 8.5l.94-2.06 2.06-.94-2.06-.94L8.5 2.5l-.94 2.06-2.06.94zm10 10l.94 2.06.94-2.06 2.06-.94-2.06-.94-.94-2.06-.94 2.06-2.06.94z\"/><path d=\"M17.41 7.96l-1.37-1.37c-.4-.4-.92-.59-1.43-.59-.52 0-1.04.2-1.43.59L10.3 9.45l-7.72 7.72c-.78.78-.78 2.05 0 2.83L4 21.41c.39.39.9.59 1.41.59.51 0 1.02-.2 1.41-.59l7.78-7.78 2.81-2.81c.8-.78.8-2.07 0-2.86zM5.41 20L4 18.59l7.72-7.72 1.47 1.35L5.41 20z\"/>\n",
              "  </svg>\n",
              "      </button>\n",
              "      \n",
              "  <style>\n",
              "    .colab-df-container {\n",
              "      display:flex;\n",
              "      flex-wrap:wrap;\n",
              "      gap: 12px;\n",
              "    }\n",
              "\n",
              "    .colab-df-convert {\n",
              "      background-color: #E8F0FE;\n",
              "      border: none;\n",
              "      border-radius: 50%;\n",
              "      cursor: pointer;\n",
              "      display: none;\n",
              "      fill: #1967D2;\n",
              "      height: 32px;\n",
              "      padding: 0 0 0 0;\n",
              "      width: 32px;\n",
              "    }\n",
              "\n",
              "    .colab-df-convert:hover {\n",
              "      background-color: #E2EBFA;\n",
              "      box-shadow: 0px 1px 2px rgba(60, 64, 67, 0.3), 0px 1px 3px 1px rgba(60, 64, 67, 0.15);\n",
              "      fill: #174EA6;\n",
              "    }\n",
              "\n",
              "    [theme=dark] .colab-df-convert {\n",
              "      background-color: #3B4455;\n",
              "      fill: #D2E3FC;\n",
              "    }\n",
              "\n",
              "    [theme=dark] .colab-df-convert:hover {\n",
              "      background-color: #434B5C;\n",
              "      box-shadow: 0px 1px 3px 1px rgba(0, 0, 0, 0.15);\n",
              "      filter: drop-shadow(0px 1px 2px rgba(0, 0, 0, 0.3));\n",
              "      fill: #FFFFFF;\n",
              "    }\n",
              "  </style>\n",
              "\n",
              "      <script>\n",
              "        const buttonEl =\n",
              "          document.querySelector('#df-52e62531-8e15-454f-84e9-3f3391215841 button.colab-df-convert');\n",
              "        buttonEl.style.display =\n",
              "          google.colab.kernel.accessAllowed ? 'block' : 'none';\n",
              "\n",
              "        async function convertToInteractive(key) {\n",
              "          const element = document.querySelector('#df-52e62531-8e15-454f-84e9-3f3391215841');\n",
              "          const dataTable =\n",
              "            await google.colab.kernel.invokeFunction('convertToInteractive',\n",
              "                                                     [key], {});\n",
              "          if (!dataTable) return;\n",
              "\n",
              "          const docLinkHtml = 'Like what you see? Visit the ' +\n",
              "            '<a target=\"_blank\" href=https://colab.research.google.com/notebooks/data_table.ipynb>data table notebook</a>'\n",
              "            + ' to learn more about interactive tables.';\n",
              "          element.innerHTML = '';\n",
              "          dataTable['output_type'] = 'display_data';\n",
              "          await google.colab.output.renderOutput(dataTable, element);\n",
              "          const docLink = document.createElement('div');\n",
              "          docLink.innerHTML = docLinkHtml;\n",
              "          element.appendChild(docLink);\n",
              "        }\n",
              "      </script>\n",
              "    </div>\n",
              "  </div>\n",
              "  "
            ]
          },
          "metadata": {},
          "execution_count": 63
        }
      ],
      "source": [
        "# Computando estatísticas resumidas para homens e mulheres separadamente usando o método groupby ()\n",
        "g_stats = df7.groupby(\" Gender\", as_index = True).describe()\n",
        "g_stats"
      ]
    },
    {
      "cell_type": "markdown",
      "metadata": {
        "id": "G0ZJ9jnrbFrI"
      },
      "source": [
        "**Análise**:\n",
        "    \n",
        "- O tempo médio de chip para todas as mulheres e homens foi de ~ 66 minutos e ~ 58 minutos, respectivamente, comprovando a análise do gráfico. "
      ]
    },
    {
      "cell_type": "markdown",
      "metadata": {
        "id": "cek3It5ZbFrI"
      },
      "source": [
        "Um boxplot ajuda a comparar as amostras de homens e mulheres."
      ]
    },
    {
      "cell_type": "code",
      "execution_count": null,
      "metadata": {
        "colab": {
          "base_uri": "https://localhost:8080/",
          "height": 366
        },
        "id": "BzTh9KKZbFrJ",
        "outputId": "3f389fbe-ddc6-4a5f-ef9b-260ed57f480b"
      },
      "outputs": [
        {
          "output_type": "stream",
          "name": "stderr",
          "text": [
            "/usr/local/lib/python3.7/dist-packages/matplotlib/cbook/__init__.py:1376: VisibleDeprecationWarning: Creating an ndarray from ragged nested sequences (which is a list-or-tuple of lists-or-tuples-or ndarrays with different lengths or shapes) is deprecated. If you meant to do this, you must specify 'dtype=object' when creating the ndarray.\n",
            "  X = np.atleast_1d(X.T if isinstance(X, np.ndarray) else np.asarray(X))\n"
          ]
        },
        {
          "output_type": "execute_result",
          "data": {
            "text/plain": [
              "Text(0.5, 0.98, '')"
            ]
          },
          "metadata": {},
          "execution_count": 64
        },
        {
          "output_type": "display_data",
          "data": {
            "text/plain": [
              "<Figure size 432x288 with 1 Axes>"
            ],
            "image/png": "[encoded data removed]"
          },
          "metadata": {
            "needs_background": "light"
          }
        }
      ],
      "source": [
        "# Plot\n",
        "df7.boxplot(column = 'Runner_mins', by = ' Gender')\n",
        "plt.ylabel('Chip Time')\n",
        "plt.suptitle(\"\")"
      ]
    },
    {
      "cell_type": "markdown",
      "metadata": {
        "id": "FMfJHSgnbFrJ"
      },
      "source": [
        "Nossa fonte de dados possui resultados de diversas corridas. Material em abundância para você praticar seus conhecimentos em análise de dados."
      ]
    },
    {
      "cell_type": "markdown",
      "metadata": {
        "id": "NlACuT77bFrJ"
      },
      "source": [
        "# Fim"
      ]
    }
  ],
  "metadata": {
    "kernelspec": {
      "display_name": "Python 3",
      "language": "python",
      "name": "python3"
    },
    "language_info": {
      "codemirror_mode": {
        "name": "ipython",
        "version": 3
      },
      "file_extension": ".py",
      "mimetype": "text/x-python",
      "name": "python",
      "nbconvert_exporter": "python",
      "pygments_lexer": "ipython3",
      "version": "3.7.6"
    },
    "colab": {
      "provenance": [],
      "include_colab_link": true
    }
  },
  "nbformat": 4,
  "nbformat_minor": 0
}