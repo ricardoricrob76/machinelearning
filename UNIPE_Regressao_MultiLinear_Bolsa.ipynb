{
  "nbformat": 4,
  "nbformat_minor": 0,
  "metadata": {
    "kernelspec": {
      "display_name": "Python 3",
      "language": "python",
      "name": "python3"
    },
    "language_info": {
      "codemirror_mode": {
        "name": "ipython",
        "version": 3
      },
      "file_extension": ".py",
      "mimetype": "text/x-python",
      "name": "python",
      "nbconvert_exporter": "python",
      "pygments_lexer": "ipython3",
      "version": "3.7.7"
    },
    "colab": {
      "name": "UNIPE - Regressao_MultiLinear_Bolsa.ipynb",
      "provenance": [],
      "include_colab_link": true
    }
  },
  "cells": [
    {
      "cell_type": "markdown",
      "metadata": {
        "id": "view-in-github",
        "colab_type": "text"
      },
      "source": [
        "<a href=\"https://colab.research.google.com/github/ricardoricrob76/machinelearning/blob/main/UNIPE_Regressao_MultiLinear_Bolsa.ipynb\" target=\"_parent\"><img src=\"https://colab.research.google.com/assets/colab-badge.svg\" alt=\"Open In Colab\"/></a>"
      ]
    },
    {
      "cell_type": "markdown",
      "metadata": {
        "id": "mmXTclMdVvNE"
      },
      "source": [
        "# Prever o volume da bolsa futuro de Tokyo utilizando regressão multilinear"
      ]
    },
    {
      "cell_type": "markdown",
      "metadata": {
        "id": "fyulA50lVvNL"
      },
      "source": [
        "* Determinando o volume da bolsa de valores de Tokyo utilizando regressão multilinear com a biblioteca SciKit Learn do Python\n",
        "* @ricardoricrob\n",
        "* Prof. Ricardo Roberto de Lima\n",
        "* E-mail: ricardo.roberto@unipe.edu.br "
      ]
    },
    {
      "cell_type": "markdown",
      "metadata": {
        "id": "e3L-ZSZ2VvNM"
      },
      "source": [
        "Importando bibliotecas padrões"
      ]
    },
    {
      "cell_type": "code",
      "metadata": {
        "id": "X9coQ1W-VvNN"
      },
      "source": [
        "import numpy as np\n",
        "import pandas as pd\n",
        "import matplotlib.pyplot as plt"
      ],
      "execution_count": 1,
      "outputs": []
    },
    {
      "cell_type": "markdown",
      "metadata": {
        "id": "_9Fwu8rNVvNP"
      },
      "source": [
        "Lendo dataset"
      ]
    },
    {
      "cell_type": "code",
      "metadata": {
        "id": "OvD-oHM9VvNQ"
      },
      "source": [
        "dados = pd.read_csv('Tokyo_Stock.csv')"
      ],
      "execution_count": 2,
      "outputs": []
    },
    {
      "cell_type": "markdown",
      "metadata": {
        "id": "NCVAq9brVvNR"
      },
      "source": [
        "Exibindo cinco primeiras linhas"
      ]
    },
    {
      "cell_type": "code",
      "metadata": {
        "colab": {
          "base_uri": "https://localhost:8080/",
          "height": 206
        },
        "id": "iWoDOyATVvNS",
        "outputId": "9829caa1-09df-4c2b-e602-6562b3d9847a"
      },
      "source": [
        "dados.head()"
      ],
      "execution_count": 3,
      "outputs": [
        {
          "output_type": "execute_result",
          "data": {
            "text/html": [
              "<div>\n",
              "<style scoped>\n",
              "    .dataframe tbody tr th:only-of-type {\n",
              "        vertical-align: middle;\n",
              "    }\n",
              "\n",
              "    .dataframe tbody tr th {\n",
              "        vertical-align: top;\n",
              "    }\n",
              "\n",
              "    .dataframe thead th {\n",
              "        text-align: right;\n",
              "    }\n",
              "</style>\n",
              "<table border=\"1\" class=\"dataframe\">\n",
              "  <thead>\n",
              "    <tr style=\"text-align: right;\">\n",
              "      <th></th>\n",
              "      <th>Date</th>\n",
              "      <th>Open</th>\n",
              "      <th>High</th>\n",
              "      <th>Low</th>\n",
              "      <th>Close</th>\n",
              "      <th>Volume</th>\n",
              "      <th>Stock Trading</th>\n",
              "    </tr>\n",
              "  </thead>\n",
              "  <tbody>\n",
              "    <tr>\n",
              "      <th>0</th>\n",
              "      <td>2016-12-30</td>\n",
              "      <td>42120</td>\n",
              "      <td>42330</td>\n",
              "      <td>41700</td>\n",
              "      <td>41830</td>\n",
              "      <td>610000</td>\n",
              "      <td>25628028000</td>\n",
              "    </tr>\n",
              "    <tr>\n",
              "      <th>1</th>\n",
              "      <td>2016-12-29</td>\n",
              "      <td>43000</td>\n",
              "      <td>43220</td>\n",
              "      <td>42540</td>\n",
              "      <td>42660</td>\n",
              "      <td>448400</td>\n",
              "      <td>19188227000</td>\n",
              "    </tr>\n",
              "    <tr>\n",
              "      <th>2</th>\n",
              "      <td>2016-12-28</td>\n",
              "      <td>43940</td>\n",
              "      <td>43970</td>\n",
              "      <td>43270</td>\n",
              "      <td>43270</td>\n",
              "      <td>339900</td>\n",
              "      <td>14780670000</td>\n",
              "    </tr>\n",
              "    <tr>\n",
              "      <th>3</th>\n",
              "      <td>2016-12-27</td>\n",
              "      <td>43140</td>\n",
              "      <td>43700</td>\n",
              "      <td>43140</td>\n",
              "      <td>43620</td>\n",
              "      <td>400100</td>\n",
              "      <td>17427993000</td>\n",
              "    </tr>\n",
              "    <tr>\n",
              "      <th>4</th>\n",
              "      <td>2016-12-26</td>\n",
              "      <td>43310</td>\n",
              "      <td>43660</td>\n",
              "      <td>43090</td>\n",
              "      <td>43340</td>\n",
              "      <td>358200</td>\n",
              "      <td>15547803000</td>\n",
              "    </tr>\n",
              "  </tbody>\n",
              "</table>\n",
              "</div>"
            ],
            "text/plain": [
              "         Date   Open   High    Low  Close  Volume  Stock Trading\n",
              "0  2016-12-30  42120  42330  41700  41830  610000    25628028000\n",
              "1  2016-12-29  43000  43220  42540  42660  448400    19188227000\n",
              "2  2016-12-28  43940  43970  43270  43270  339900    14780670000\n",
              "3  2016-12-27  43140  43700  43140  43620  400100    17427993000\n",
              "4  2016-12-26  43310  43660  43090  43340  358200    15547803000"
            ]
          },
          "metadata": {},
          "execution_count": 3
        }
      ]
    },
    {
      "cell_type": "markdown",
      "metadata": {
        "id": "_2rK2XIKVvNT"
      },
      "source": [
        "Exibindo cinco últimas linhas"
      ]
    },
    {
      "cell_type": "code",
      "metadata": {
        "colab": {
          "base_uri": "https://localhost:8080/",
          "height": 206
        },
        "id": "fL9hMbvuVvNU",
        "outputId": "fed52480-dc07-45c9-9499-a78916c1f7b7"
      },
      "source": [
        "dados.tail()"
      ],
      "execution_count": 4,
      "outputs": [
        {
          "output_type": "execute_result",
          "data": {
            "text/html": [
              "<div>\n",
              "<style scoped>\n",
              "    .dataframe tbody tr th:only-of-type {\n",
              "        vertical-align: middle;\n",
              "    }\n",
              "\n",
              "    .dataframe tbody tr th {\n",
              "        vertical-align: top;\n",
              "    }\n",
              "\n",
              "    .dataframe thead th {\n",
              "        text-align: right;\n",
              "    }\n",
              "</style>\n",
              "<table border=\"1\" class=\"dataframe\">\n",
              "  <thead>\n",
              "    <tr style=\"text-align: right;\">\n",
              "      <th></th>\n",
              "      <th>Date</th>\n",
              "      <th>Open</th>\n",
              "      <th>High</th>\n",
              "      <th>Low</th>\n",
              "      <th>Close</th>\n",
              "      <th>Volume</th>\n",
              "      <th>Stock Trading</th>\n",
              "    </tr>\n",
              "  </thead>\n",
              "  <tbody>\n",
              "    <tr>\n",
              "      <th>1221</th>\n",
              "      <td>2012-01-11</td>\n",
              "      <td>14360</td>\n",
              "      <td>14750</td>\n",
              "      <td>14280</td>\n",
              "      <td>14590</td>\n",
              "      <td>1043400</td>\n",
              "      <td>15191988000</td>\n",
              "    </tr>\n",
              "    <tr>\n",
              "      <th>1222</th>\n",
              "      <td>2012-01-10</td>\n",
              "      <td>13890</td>\n",
              "      <td>14390</td>\n",
              "      <td>13860</td>\n",
              "      <td>14390</td>\n",
              "      <td>952300</td>\n",
              "      <td>13533413000</td>\n",
              "    </tr>\n",
              "    <tr>\n",
              "      <th>1223</th>\n",
              "      <td>2012-01-06</td>\n",
              "      <td>13990</td>\n",
              "      <td>14030</td>\n",
              "      <td>13790</td>\n",
              "      <td>13850</td>\n",
              "      <td>765500</td>\n",
              "      <td>10635609000</td>\n",
              "    </tr>\n",
              "    <tr>\n",
              "      <th>1224</th>\n",
              "      <td>2012-01-05</td>\n",
              "      <td>13720</td>\n",
              "      <td>13840</td>\n",
              "      <td>13600</td>\n",
              "      <td>13800</td>\n",
              "      <td>511500</td>\n",
              "      <td>7030811000</td>\n",
              "    </tr>\n",
              "    <tr>\n",
              "      <th>1225</th>\n",
              "      <td>2012-01-04</td>\n",
              "      <td>14050</td>\n",
              "      <td>14050</td>\n",
              "      <td>13700</td>\n",
              "      <td>13720</td>\n",
              "      <td>559100</td>\n",
              "      <td>7719804000</td>\n",
              "    </tr>\n",
              "  </tbody>\n",
              "</table>\n",
              "</div>"
            ],
            "text/plain": [
              "            Date   Open   High    Low  Close   Volume  Stock Trading\n",
              "1221  2012-01-11  14360  14750  14280  14590  1043400    15191988000\n",
              "1222  2012-01-10  13890  14390  13860  14390   952300    13533413000\n",
              "1223  2012-01-06  13990  14030  13790  13850   765500    10635609000\n",
              "1224  2012-01-05  13720  13840  13600  13800   511500     7030811000\n",
              "1225  2012-01-04  14050  14050  13700  13720   559100     7719804000"
            ]
          },
          "metadata": {},
          "execution_count": 4
        }
      ]
    },
    {
      "cell_type": "markdown",
      "metadata": {
        "id": "DftnJ-mWVvNU"
      },
      "source": [
        "Exibindo informações da amostra"
      ]
    },
    {
      "cell_type": "code",
      "metadata": {
        "colab": {
          "base_uri": "https://localhost:8080/"
        },
        "id": "dbpQBNRvVvNV",
        "outputId": "75e1eb2a-6a16-4a4b-c81d-77d9ee446c4b"
      },
      "source": [
        "dados.info()"
      ],
      "execution_count": 5,
      "outputs": [
        {
          "output_type": "stream",
          "name": "stdout",
          "text": [
            "<class 'pandas.core.frame.DataFrame'>\n",
            "RangeIndex: 1226 entries, 0 to 1225\n",
            "Data columns (total 7 columns):\n",
            " #   Column         Non-Null Count  Dtype \n",
            "---  ------         --------------  ----- \n",
            " 0   Date           1226 non-null   object\n",
            " 1   Open           1226 non-null   int64 \n",
            " 2   High           1226 non-null   int64 \n",
            " 3   Low            1226 non-null   int64 \n",
            " 4   Close          1226 non-null   int64 \n",
            " 5   Volume         1226 non-null   int64 \n",
            " 6   Stock Trading  1226 non-null   int64 \n",
            "dtypes: int64(6), object(1)\n",
            "memory usage: 67.2+ KB\n"
          ]
        }
      ]
    },
    {
      "cell_type": "markdown",
      "metadata": {
        "id": "G8TwXQ-WVvNV"
      },
      "source": [
        "Para aplicar o modelo precisamos converter a data para número de dias apenas"
      ]
    },
    {
      "cell_type": "code",
      "metadata": {
        "id": "TVBn_Hn7VvNV"
      },
      "source": [
        "import datetime as ddt"
      ],
      "execution_count": 6,
      "outputs": []
    },
    {
      "cell_type": "code",
      "metadata": {
        "id": "JOAOTdQOVvNW"
      },
      "source": [
        "dados['Date']=pd.to_datetime(dados['Date'])\n",
        "dados['Date']=dados['Date'].map(ddt.datetime.toordinal)"
      ],
      "execution_count": 7,
      "outputs": []
    },
    {
      "cell_type": "markdown",
      "metadata": {
        "id": "KiUuph3IVvNW"
      },
      "source": [
        "Verificando se a conversão foi bem sucedida"
      ]
    },
    {
      "cell_type": "code",
      "metadata": {
        "colab": {
          "base_uri": "https://localhost:8080/",
          "height": 206
        },
        "id": "KcK1ljuhVvNW",
        "outputId": "25146a08-b412-495f-8f1a-65b4d89c3af3"
      },
      "source": [
        "dados.head()"
      ],
      "execution_count": 8,
      "outputs": [
        {
          "output_type": "execute_result",
          "data": {
            "text/html": [
              "<div>\n",
              "<style scoped>\n",
              "    .dataframe tbody tr th:only-of-type {\n",
              "        vertical-align: middle;\n",
              "    }\n",
              "\n",
              "    .dataframe tbody tr th {\n",
              "        vertical-align: top;\n",
              "    }\n",
              "\n",
              "    .dataframe thead th {\n",
              "        text-align: right;\n",
              "    }\n",
              "</style>\n",
              "<table border=\"1\" class=\"dataframe\">\n",
              "  <thead>\n",
              "    <tr style=\"text-align: right;\">\n",
              "      <th></th>\n",
              "      <th>Date</th>\n",
              "      <th>Open</th>\n",
              "      <th>High</th>\n",
              "      <th>Low</th>\n",
              "      <th>Close</th>\n",
              "      <th>Volume</th>\n",
              "      <th>Stock Trading</th>\n",
              "    </tr>\n",
              "  </thead>\n",
              "  <tbody>\n",
              "    <tr>\n",
              "      <th>0</th>\n",
              "      <td>736328</td>\n",
              "      <td>42120</td>\n",
              "      <td>42330</td>\n",
              "      <td>41700</td>\n",
              "      <td>41830</td>\n",
              "      <td>610000</td>\n",
              "      <td>25628028000</td>\n",
              "    </tr>\n",
              "    <tr>\n",
              "      <th>1</th>\n",
              "      <td>736327</td>\n",
              "      <td>43000</td>\n",
              "      <td>43220</td>\n",
              "      <td>42540</td>\n",
              "      <td>42660</td>\n",
              "      <td>448400</td>\n",
              "      <td>19188227000</td>\n",
              "    </tr>\n",
              "    <tr>\n",
              "      <th>2</th>\n",
              "      <td>736326</td>\n",
              "      <td>43940</td>\n",
              "      <td>43970</td>\n",
              "      <td>43270</td>\n",
              "      <td>43270</td>\n",
              "      <td>339900</td>\n",
              "      <td>14780670000</td>\n",
              "    </tr>\n",
              "    <tr>\n",
              "      <th>3</th>\n",
              "      <td>736325</td>\n",
              "      <td>43140</td>\n",
              "      <td>43700</td>\n",
              "      <td>43140</td>\n",
              "      <td>43620</td>\n",
              "      <td>400100</td>\n",
              "      <td>17427993000</td>\n",
              "    </tr>\n",
              "    <tr>\n",
              "      <th>4</th>\n",
              "      <td>736324</td>\n",
              "      <td>43310</td>\n",
              "      <td>43660</td>\n",
              "      <td>43090</td>\n",
              "      <td>43340</td>\n",
              "      <td>358200</td>\n",
              "      <td>15547803000</td>\n",
              "    </tr>\n",
              "  </tbody>\n",
              "</table>\n",
              "</div>"
            ],
            "text/plain": [
              "     Date   Open   High    Low  Close  Volume  Stock Trading\n",
              "0  736328  42120  42330  41700  41830  610000    25628028000\n",
              "1  736327  43000  43220  42540  42660  448400    19188227000\n",
              "2  736326  43940  43970  43270  43270  339900    14780670000\n",
              "3  736325  43140  43700  43140  43620  400100    17427993000\n",
              "4  736324  43310  43660  43090  43340  358200    15547803000"
            ]
          },
          "metadata": {},
          "execution_count": 8
        }
      ]
    },
    {
      "cell_type": "markdown",
      "metadata": {
        "id": "2i_AspWoVvNX"
      },
      "source": [
        "Determinando as variaveis X e Y incluindo a data como variável"
      ]
    },
    {
      "cell_type": "code",
      "metadata": {
        "id": "REBGz5ZdVvNX"
      },
      "source": [
        "X = dados.drop(['Volume','Stock Trading'],axis=1).values\n",
        "Y = dados['Volume'].values"
      ],
      "execution_count": 9,
      "outputs": []
    },
    {
      "cell_type": "markdown",
      "metadata": {
        "id": "pxpVLGu3VvNX"
      },
      "source": [
        "Criando amostras de treino e teste"
      ]
    },
    {
      "cell_type": "code",
      "metadata": {
        "id": "psqpqjC4VvNX"
      },
      "source": [
        "from sklearn.model_selection import train_test_split"
      ],
      "execution_count": 10,
      "outputs": []
    },
    {
      "cell_type": "code",
      "metadata": {
        "id": "f4IEd4T4VvNY"
      },
      "source": [
        "X_treino, X_teste, Y_treino, Y_teste = train_test_split(X, Y, test_size=0.30, shuffle=True, random_state=0)"
      ],
      "execution_count": 11,
      "outputs": []
    },
    {
      "cell_type": "markdown",
      "metadata": {
        "id": "35TfsGLMVvNY"
      },
      "source": [
        "Importando biblioteca do Scikit-learn para realizar regressão multilinear"
      ]
    },
    {
      "cell_type": "code",
      "metadata": {
        "id": "HvCvi2wnVvNY"
      },
      "source": [
        "from sklearn.linear_model import LinearRegression"
      ],
      "execution_count": 12,
      "outputs": []
    },
    {
      "cell_type": "code",
      "metadata": {
        "id": "50sU0VhdVvNY"
      },
      "source": [
        "modelo=LinearRegression()"
      ],
      "execution_count": 13,
      "outputs": []
    },
    {
      "cell_type": "code",
      "metadata": {
        "colab": {
          "base_uri": "https://localhost:8080/"
        },
        "id": "qQRH2pZdVvNZ",
        "outputId": "d0051a1d-415f-4390-f4af-787178f95475"
      },
      "source": [
        "modelo.fit(X_treino,Y_treino)"
      ],
      "execution_count": 14,
      "outputs": [
        {
          "output_type": "execute_result",
          "data": {
            "text/plain": [
              "LinearRegression()"
            ]
          },
          "metadata": {},
          "execution_count": 14
        }
      ]
    },
    {
      "cell_type": "code",
      "metadata": {
        "id": "3cdCYDiaVvNZ"
      },
      "source": [
        "coeficiente_linear = modelo.intercept_\n",
        "coeficiente_angular = modelo.coef_"
      ],
      "execution_count": 15,
      "outputs": []
    },
    {
      "cell_type": "code",
      "metadata": {
        "colab": {
          "base_uri": "https://localhost:8080/"
        },
        "id": "aLIE7CW0VvNZ",
        "outputId": "d6e102cf-80a4-45cb-c3ac-7bed35035ca3"
      },
      "source": [
        "coeficiente_linear"
      ],
      "execution_count": 16,
      "outputs": [
        {
          "output_type": "execute_result",
          "data": {
            "text/plain": [
              "17194517.30781505"
            ]
          },
          "metadata": {},
          "execution_count": 16
        }
      ]
    },
    {
      "cell_type": "code",
      "metadata": {
        "colab": {
          "base_uri": "https://localhost:8080/"
        },
        "id": "9sZ49gkCVvNZ",
        "outputId": "56325282-1bfe-408c-fbfa-00203dece4ce"
      },
      "source": [
        "coeficiente_angular"
      ],
      "execution_count": 17,
      "outputs": [
        {
          "output_type": "execute_result",
          "data": {
            "text/plain": [
              "array([ -22.43969781,  -14.37289672,  418.1923407 , -500.33020903,\n",
              "         86.17669071])"
            ]
          },
          "metadata": {},
          "execution_count": 17
        }
      ]
    },
    {
      "cell_type": "code",
      "metadata": {
        "id": "ZWAR4nYZVvNa"
      },
      "source": [
        "Y_pred = modelo.predict(X_teste)"
      ],
      "execution_count": 18,
      "outputs": []
    },
    {
      "cell_type": "markdown",
      "metadata": {
        "id": "h7n1j4SiVvNa"
      },
      "source": [
        "Determinando erros do modelo"
      ]
    },
    {
      "cell_type": "code",
      "metadata": {
        "id": "WpPRYbhcVvNa"
      },
      "source": [
        "from sklearn.metrics import mean_absolute_error,mean_squared_error"
      ],
      "execution_count": 19,
      "outputs": []
    },
    {
      "cell_type": "code",
      "metadata": {
        "id": "ZHVhTbyjVvNa"
      },
      "source": [
        "MAE = mean_absolute_error(Y_teste,Y_pred)"
      ],
      "execution_count": 20,
      "outputs": []
    },
    {
      "cell_type": "code",
      "metadata": {
        "id": "ZYRIGqSjVvNa"
      },
      "source": [
        "MSE = mean_squared_error(Y_teste,Y_pred)"
      ],
      "execution_count": 21,
      "outputs": []
    },
    {
      "cell_type": "code",
      "metadata": {
        "id": "M2j-Cn8TVvNa"
      },
      "source": [
        "RMSE = np.sqrt(MSE)"
      ],
      "execution_count": 22,
      "outputs": []
    },
    {
      "cell_type": "code",
      "metadata": {
        "colab": {
          "base_uri": "https://localhost:8080/"
        },
        "id": "k3XEtxFFVvNb",
        "outputId": "d1ac688a-62bc-49cc-c66f-53d87073046c"
      },
      "source": [
        "print(\"MAE = {:0.2f}\".format(MAE))\n",
        "print(\"MSE = {:0.2f}\".format(MSE))\n",
        "print(\"RMSE = {:0.2f}\".format(RMSE))"
      ],
      "execution_count": 23,
      "outputs": [
        {
          "output_type": "stream",
          "name": "stdout",
          "text": [
            "MAE = 210883.66\n",
            "MSE = 140319056646.47\n",
            "RMSE = 374591.85\n"
          ]
        }
      ]
    },
    {
      "cell_type": "markdown",
      "metadata": {
        "id": "k18tFlZ5VvNb"
      },
      "source": [
        "Modelando sem a variável data"
      ]
    },
    {
      "cell_type": "code",
      "metadata": {
        "id": "TEqAiIVfVvNb"
      },
      "source": [
        "X = dados.drop(['Date','Volume','Stock Trading'],axis=1).values\n",
        "Y = dados['Volume'].values"
      ],
      "execution_count": 24,
      "outputs": []
    },
    {
      "cell_type": "code",
      "metadata": {
        "id": "99DQOQIQVvNb"
      },
      "source": [
        "X_treino, X_teste, Y_treino, Y_teste = train_test_split(X, Y, test_size=0.30, shuffle=True, random_state=0)"
      ],
      "execution_count": 25,
      "outputs": []
    },
    {
      "cell_type": "code",
      "metadata": {
        "id": "NWgdwZ0aVvNc"
      },
      "source": [
        "modelo2 = LinearRegression()"
      ],
      "execution_count": 26,
      "outputs": []
    },
    {
      "cell_type": "code",
      "metadata": {
        "colab": {
          "base_uri": "https://localhost:8080/"
        },
        "id": "vzjFuLwCVvNc",
        "outputId": "386fc20b-a70b-46c8-ba46-eac1fb8f7a55"
      },
      "source": [
        "modelo2.fit(X_treino,Y_treino)"
      ],
      "execution_count": 27,
      "outputs": [
        {
          "output_type": "execute_result",
          "data": {
            "text/plain": [
              "LinearRegression()"
            ]
          },
          "metadata": {},
          "execution_count": 27
        }
      ]
    },
    {
      "cell_type": "code",
      "metadata": {
        "id": "LRlkl0utVvNc"
      },
      "source": [
        "coeficiente_linear = modelo2.intercept_\n",
        "coeficiente_angular = modelo2.coef_"
      ],
      "execution_count": 28,
      "outputs": []
    },
    {
      "cell_type": "code",
      "metadata": {
        "colab": {
          "base_uri": "https://localhost:8080/"
        },
        "id": "lkAC1U_bVvNc",
        "outputId": "40f393ba-6765-4bed-9312-089b008f41c4"
      },
      "source": [
        "coeficiente_linear"
      ],
      "execution_count": 29,
      "outputs": [
        {
          "output_type": "execute_result",
          "data": {
            "text/plain": [
              "715932.1875608574"
            ]
          },
          "metadata": {},
          "execution_count": 29
        }
      ]
    },
    {
      "cell_type": "code",
      "metadata": {
        "colab": {
          "base_uri": "https://localhost:8080/"
        },
        "id": "HxpK8xQJVvNc",
        "outputId": "fdac94f3-e1b7-487e-ddf4-f4672350921b"
      },
      "source": [
        "coeficiente_angular"
      ],
      "execution_count": 30,
      "outputs": [
        {
          "output_type": "execute_result",
          "data": {
            "text/plain": [
              "array([ -14.99761802,  417.04556126, -500.36142221,   87.27713972])"
            ]
          },
          "metadata": {},
          "execution_count": 30
        }
      ]
    },
    {
      "cell_type": "code",
      "metadata": {
        "id": "KOA_3gahVvNd"
      },
      "source": [
        "Y_pred = modelo2.predict(X_teste)"
      ],
      "execution_count": 31,
      "outputs": []
    },
    {
      "cell_type": "code",
      "metadata": {
        "id": "aSGPnZYhVvNd"
      },
      "source": [
        "MAE = mean_absolute_error(Y_teste,Y_pred)\n",
        "MSE = mean_squared_error(Y_teste,Y_pred)\n",
        "RMSE = np.sqrt(MSE)"
      ],
      "execution_count": 32,
      "outputs": []
    },
    {
      "cell_type": "code",
      "metadata": {
        "colab": {
          "base_uri": "https://localhost:8080/"
        },
        "id": "cxblKEOPVvNd",
        "outputId": "25f8b554-28cb-4613-c606-96be9f15d99e"
      },
      "source": [
        "print(\"MAE = {:0.2f}\".format(MAE))\n",
        "print(\"MSE = {:0.2f}\".format(MSE))\n",
        "print(\"RMSE = {:0.2f}\".format(RMSE))"
      ],
      "execution_count": 33,
      "outputs": [
        {
          "output_type": "stream",
          "name": "stdout",
          "text": [
            "MAE = 210945.77\n",
            "MSE = 140458064189.87\n",
            "RMSE = 374777.35\n"
          ]
        }
      ]
    },
    {
      "cell_type": "code",
      "metadata": {
        "id": "UAc29rWYVvNd"
      },
      "source": [
        ""
      ],
      "execution_count": 33,
      "outputs": []
    }
  ]
}