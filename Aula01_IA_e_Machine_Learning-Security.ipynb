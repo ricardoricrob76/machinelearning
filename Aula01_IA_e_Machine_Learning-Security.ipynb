{
  "nbformat": 4,
  "nbformat_minor": 0,
  "metadata": {
    "colab": {
      "name": "Aula01 - IA e Machine Learning.ipynb",
      "provenance": [],
      "authorship_tag": "ABX9TyNQx17tZ+u8Q4HQ8VztZXH4",
      "include_colab_link": true
    },
    "kernelspec": {
      "name": "python3",
      "display_name": "Python 3"
    },
    "language_info": {
      "name": "python"
    }
  },
  "cells": [
    {
      "cell_type": "markdown",
      "metadata": {
        "id": "view-in-github",
        "colab_type": "text"
      },
      "source": [
        "<a href=\"https://colab.research.google.com/github/ricardoricrob76/machinelearning/blob/main/Aula01_IA_e_Machine_Learning-Security.ipynb\" target=\"_parent\"><img src=\"https://colab.research.google.com/assets/colab-badge.svg\" alt=\"Open In Colab\"/></a>"
      ]
    },
    {
      "cell_type": "code",
      "execution_count": 1,
      "metadata": {
        "id": "CO8Cgw10Bg4g"
      },
      "outputs": [],
      "source": [
        "# Autor: Ricardo Roberto de Lima\n",
        "# Primeiros Passos da Ciência de Dados"
      ]
    },
    {
      "cell_type": "code",
      "source": [
        "a = 10\n",
        "b = 40\n",
        "c = (a + b)\n",
        "print(\"O resultado é\", c)"
      ],
      "metadata": {
        "colab": {
          "base_uri": "https://localhost:8080/"
        },
        "id": "k3QuCJcBB86L",
        "outputId": "696a2fd8-f7c7-47de-9ada-1dcfe3fe4a98"
      },
      "execution_count": 3,
      "outputs": [
        {
          "output_type": "stream",
          "name": "stdout",
          "text": [
            "O resultado é 50\n"
          ]
        }
      ]
    },
    {
      "cell_type": "code",
      "source": [
        ""
      ],
      "metadata": {
        "id": "dQhQHGZZCH2h"
      },
      "execution_count": null,
      "outputs": []
    },
    {
      "cell_type": "markdown",
      "source": [
        "**Explicando o Cenário 01**\n",
        "\n",
        "blalalal balblalbaklkba ba blakbaljbal blka abk al \n",
        "\n"
      ],
      "metadata": {
        "id": "xN6v0ZyOCTW0"
      }
    },
    {
      "cell_type": "code",
      "source": [
        ""
      ],
      "metadata": {
        "id": "CPvH-cviCdVc"
      },
      "execution_count": null,
      "outputs": []
    }
  ]
}