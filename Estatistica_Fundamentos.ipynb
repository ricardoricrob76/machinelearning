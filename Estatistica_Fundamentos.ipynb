{
 "cells": [
  {
   "cell_type": "markdown",
   "metadata": {},
   "source": [
    "# Estatística - Fundamentos"
   ]
  },
  {
   "cell_type": "markdown",
   "metadata": {},
   "source": [
    "* Implementando cálculos estatísticos fundamentais do zero\n",
    "* Prof. Ricardo roberto de Lima\n",
    "* ricardorobertolima@gmail.com"
   ]
  },
  {
   "cell_type": "code",
   "execution_count": 1,
   "metadata": {},
   "outputs": [],
   "source": [
    "notas = [7.8,4.6,8.5,9.8,4.3,7.5,2.3,0.5,8.7,7.9,5.2,4.7,9.1,7.9,8.6,7.4,6.7,7.0]"
   ]
  },
  {
   "cell_type": "markdown",
   "metadata": {},
   "source": [
    "Determinando a quantidade de notas"
   ]
  },
  {
   "cell_type": "code",
   "execution_count": 2,
   "metadata": {},
   "outputs": [
    {
     "name": "stdout",
     "output_type": "stream",
     "text": [
      "Número de notas = 18\n"
     ]
    }
   ],
   "source": [
    "numero_de_notas = len(notas)\n",
    "print(\"Número de notas = {:0.0f}\".format(numero_de_notas))"
   ]
  },
  {
   "cell_type": "markdown",
   "metadata": {},
   "source": [
    "Determinando a média"
   ]
  },
  {
   "cell_type": "code",
   "execution_count": 3,
   "metadata": {},
   "outputs": [
    {
     "name": "stdout",
     "output_type": "stream",
     "text": [
      "Soma = 118\n"
     ]
    }
   ],
   "source": [
    "soma = 0\n",
    "\n",
    "for i in range(numero_de_notas):\n",
    "    soma += notas[i]\n",
    "\n",
    "print(\"Soma = {:0.0f}\".format(soma))"
   ]
  },
  {
   "cell_type": "code",
   "execution_count": 4,
   "metadata": {},
   "outputs": [
    {
     "name": "stdout",
     "output_type": "stream",
     "text": [
      "Média = 6.58\n"
     ]
    }
   ],
   "source": [
    "media = soma/numero_de_notas\n",
    "print(\"Média = {:0.2f}\".format(media))"
   ]
  },
  {
   "cell_type": "markdown",
   "metadata": {},
   "source": [
    "Ordenando as notas em ordem crescente"
   ]
  },
  {
   "cell_type": "code",
   "execution_count": 5,
   "metadata": {},
   "outputs": [],
   "source": [
    "notas_ordenadas = sorted(notas)"
   ]
  },
  {
   "cell_type": "code",
   "execution_count": 6,
   "metadata": {},
   "outputs": [
    {
     "data": {
      "text/plain": [
       "[0.5,\n",
       " 2.3,\n",
       " 4.3,\n",
       " 4.6,\n",
       " 4.7,\n",
       " 5.2,\n",
       " 6.7,\n",
       " 7.0,\n",
       " 7.4,\n",
       " 7.5,\n",
       " 7.8,\n",
       " 7.9,\n",
       " 7.9,\n",
       " 8.5,\n",
       " 8.6,\n",
       " 8.7,\n",
       " 9.1,\n",
       " 9.8]"
      ]
     },
     "execution_count": 6,
     "metadata": {},
     "output_type": "execute_result"
    }
   ],
   "source": [
    "notas_ordenadas"
   ]
  },
  {
   "cell_type": "markdown",
   "metadata": {},
   "source": [
    "Determinando a mediana"
   ]
  },
  {
   "cell_type": "code",
   "execution_count": 7,
   "metadata": {},
   "outputs": [],
   "source": [
    "if numero_de_notas%2 ==0:\n",
    "    mediana = (notas_ordenadas[int(numero_de_notas/2)]+notas_ordenadas[int(numero_de_notas/2-1)])/2.0\n",
    "else:\n",
    "    mediana = notas_ordenadas[int(numero_de_notas/2)]"
   ]
  },
  {
   "cell_type": "code",
   "execution_count": 8,
   "metadata": {},
   "outputs": [
    {
     "name": "stdout",
     "output_type": "stream",
     "text": [
      "Mediana = 7.45\n"
     ]
    }
   ],
   "source": [
    "print(\"Mediana = {:0.2f}\".format(mediana))"
   ]
  },
  {
   "cell_type": "markdown",
   "metadata": {},
   "source": [
    "Determinando o desvio padrão"
   ]
  },
  {
   "cell_type": "code",
   "execution_count": 9,
   "metadata": {},
   "outputs": [],
   "source": [
    "soma_erro = 0\n",
    "\n",
    "for i in range(numero_de_notas):\n",
    "    soma_erro += (notas[i]-media)**2.0"
   ]
  },
  {
   "cell_type": "code",
   "execution_count": 10,
   "metadata": {},
   "outputs": [],
   "source": [
    "desvio = (soma_erro/(numero_de_notas))**(0.5)"
   ]
  },
  {
   "cell_type": "code",
   "execution_count": 11,
   "metadata": {},
   "outputs": [
    {
     "name": "stdout",
     "output_type": "stream",
     "text": [
      "Desvio Padrão = 2.42\n"
     ]
    }
   ],
   "source": [
    "print(\"Desvio Padrão = {:0.2f}\".format(desvio))"
   ]
  },
  {
   "cell_type": "markdown",
   "metadata": {},
   "source": [
    "Erro Padrão da média"
   ]
  },
  {
   "cell_type": "code",
   "execution_count": 12,
   "metadata": {},
   "outputs": [],
   "source": [
    "SE = desvio/(numero_de_notas**0.5)"
   ]
  },
  {
   "cell_type": "code",
   "execution_count": 13,
   "metadata": {},
   "outputs": [
    {
     "name": "stdout",
     "output_type": "stream",
     "text": [
      "Erro padrão da média = 0.57\n"
     ]
    }
   ],
   "source": [
    "print(\"Erro padrão da média = {:0.2f}\".format(SE))"
   ]
  }
 ],
 "metadata": {
  "kernelspec": {
   "display_name": "Python 3",
   "language": "python",
   "name": "python3"
  },
  "language_info": {
   "codemirror_mode": {
    "name": "ipython",
    "version": 3
   },
   "file_extension": ".py",
   "mimetype": "text/x-python",
   "name": "python",
   "nbconvert_exporter": "python",
   "pygments_lexer": "ipython3",
   "version": "3.8.3"
  }
 },
 "nbformat": 4,
 "nbformat_minor": 2
}
